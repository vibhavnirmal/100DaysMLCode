{
 "cells": [
  {
   "cell_type": "code",
   "execution_count": null,
   "metadata": {},
   "outputs": [],
   "source": [
    "#https://archive.ics.uci.edu/ml/datasets/Iris"
   ]
  },
  {
   "cell_type": "code",
   "execution_count": 1,
   "metadata": {},
   "outputs": [],
   "source": [
    "import pandas as pd\n",
    "import numpy as np\n",
    "import matplotlib.pyplot as plt\n",
    "\n",
    "dataset = pd.read_csv(\"F:\\MLudemy\\MLAZ\\MachineLearningPrograms\\Classification\\iris\\\\bezdekIris.csv\")"
   ]
  },
  {
   "cell_type": "code",
   "execution_count": 2,
   "metadata": {},
   "outputs": [
    {
     "output_type": "execute_result",
     "data": {
      "text/plain": "     sepal length in cm  sepal width in cm  petal length in cm  \\\n38                  4.4                3.0                 1.3   \n32                  5.2                4.1                 1.5   \n149                 5.9                3.0                 5.1   \n0                   5.1                3.5                 1.4   \n112                 6.8                3.0                 5.5   \n\n     petal width in cm           class  \n38                 0.2     Iris-setosa  \n32                 0.1     Iris-setosa  \n149                1.8  Iris-virginica  \n0                  0.2     Iris-setosa  \n112                2.1  Iris-virginica  ",
      "text/html": "<div>\n<style scoped>\n    .dataframe tbody tr th:only-of-type {\n        vertical-align: middle;\n    }\n\n    .dataframe tbody tr th {\n        vertical-align: top;\n    }\n\n    .dataframe thead th {\n        text-align: right;\n    }\n</style>\n<table border=\"1\" class=\"dataframe\">\n  <thead>\n    <tr style=\"text-align: right;\">\n      <th></th>\n      <th>sepal length in cm</th>\n      <th>sepal width in cm</th>\n      <th>petal length in cm</th>\n      <th>petal width in cm</th>\n      <th>class</th>\n    </tr>\n  </thead>\n  <tbody>\n    <tr>\n      <th>38</th>\n      <td>4.4</td>\n      <td>3.0</td>\n      <td>1.3</td>\n      <td>0.2</td>\n      <td>Iris-setosa</td>\n    </tr>\n    <tr>\n      <th>32</th>\n      <td>5.2</td>\n      <td>4.1</td>\n      <td>1.5</td>\n      <td>0.1</td>\n      <td>Iris-setosa</td>\n    </tr>\n    <tr>\n      <th>149</th>\n      <td>5.9</td>\n      <td>3.0</td>\n      <td>5.1</td>\n      <td>1.8</td>\n      <td>Iris-virginica</td>\n    </tr>\n    <tr>\n      <th>0</th>\n      <td>5.1</td>\n      <td>3.5</td>\n      <td>1.4</td>\n      <td>0.2</td>\n      <td>Iris-setosa</td>\n    </tr>\n    <tr>\n      <th>112</th>\n      <td>6.8</td>\n      <td>3.0</td>\n      <td>5.5</td>\n      <td>2.1</td>\n      <td>Iris-virginica</td>\n    </tr>\n  </tbody>\n</table>\n</div>"
     },
     "metadata": {},
     "execution_count": 2
    }
   ],
   "source": [
    "# dataset.head() #to check the first 10 rows of the data set\n",
    "# dataset.tail() #to check out last 10 row of the data set\n",
    "# dataset.describe() #to give a statistical summary about the dataset\n",
    "dataset.sample(5) #pops up 5 random rows from the data set \n",
    "# dataset.isnull().sum() #checks out how many null info are on the dataset\n",
    "# dataset"
   ]
  },
  {
   "cell_type": "code",
   "execution_count": null,
   "metadata": {},
   "outputs": [],
   "source": [
    "dataset.hist()\n",
    "plt.show()"
   ]
  },
  {
   "cell_type": "code",
   "execution_count": 3,
   "metadata": {},
   "outputs": [],
   "source": [
    "X = dataset.iloc[:,0:-1].values\n",
    "y = dataset.iloc[:,-1].values\n",
    "\n",
    "from sklearn.preprocessing import LabelEncoder\n",
    "le = LabelEncoder()\n",
    "y = le.fit_transform(y)\n",
    "from keras.utils import np_utils\n",
    "dummy_y = np_utils.to_categorical(y)\n",
    "\n",
    "from sklearn.model_selection import train_test_split\n",
    "X_train, X_test, y_train, y_test = train_test_split(X, dummy_y, test_size = 0.24, random_state = 32)"
   ]
  },
  {
   "cell_type": "markdown",
   "metadata": {},
   "source": [
    "# Logistic Regression"
   ]
  },
  {
   "cell_type": "code",
   "execution_count": null,
   "metadata": {
    "tags": []
   },
   "outputs": [],
   "source": [
    "from sklearn.linear_model import LogisticRegression\n",
    "classifier = LogisticRegression(max_iter=100)\n",
    "classifier.fit(X_train, y_train)\n",
    "\n",
    "y_pred = classifier.predict(X_test)\n",
    "\n",
    "from sklearn.metrics import confusion_matrix,accuracy_score\n",
    "cm = confusion_matrix(y_test, y_pred)\n",
    "print(cm)\n",
    "print(accuracy_score(y_test, y_pred)*100)\n",
    "\n",
    "from sklearn.model_selection import cross_val_score\n",
    "accuracy = cross_val_score(estimator=classifier, X=X_train, y=y_train, cv=10)\n",
    "print(\"Accuracy:{:.2f} %\".format(accuracy.mean()*100))\n",
    "print(\"Standard Deviation:{:.2f} %\".format(accuracy.std()*100))"
   ]
  },
  {
   "cell_type": "markdown",
   "metadata": {},
   "source": [
    "# K-nearest neighbors"
   ]
  },
  {
   "cell_type": "code",
   "execution_count": null,
   "metadata": {
    "tags": []
   },
   "outputs": [],
   "source": [
    "from sklearn.neighbors import KNeighborsClassifier\n",
    "classifier = KNeighborsClassifier(n_neighbors=10, metric='minkowski', p=2)\n",
    "classifier.fit(X_train, y_train)\n",
    "\n",
    "y_pred = classifier.predict(X_test)\n",
    "\n",
    "from sklearn.metrics import confusion_matrix, accuracy_score\n",
    "cm = confusion_matrix(y_test, y_pred)\n",
    "print(cm)\n",
    "print(accuracy_score(y_test, y_pred)*100)\n",
    "\n",
    "from sklearn.model_selection import cross_val_score\n",
    "accuracy = cross_val_score(estimator=classifier, X=X_train, y=y_train, cv=10)\n",
    "print(\"Accuracy:{:.2f} %\".format(accuracy.mean()*100))\n",
    "print(\"Standard Deviation:{:.2f} %\".format(accuracy.std()*100))\n"
   ]
  },
  {
   "cell_type": "markdown",
   "metadata": {},
   "source": [
    "# Support vector machine"
   ]
  },
  {
   "cell_type": "code",
   "execution_count": null,
   "metadata": {
    "tags": []
   },
   "outputs": [],
   "source": [
    "from sklearn.svm import SVC\n",
    "classifier = SVC(kernel='linear', random_state=32)\n",
    "classifier.fit(X_train, y_train)\n",
    "\n",
    "y_pred = classifier.predict(X_test)\n",
    "\n",
    "from sklearn.metrics import confusion_matrix, accuracy_score\n",
    "cm = confusion_matrix(y_test, y_pred)\n",
    "print(cm)\n",
    "print(accuracy_score(y_test, y_pred)*100)\n",
    "\n",
    "from sklearn.model_selection import cross_val_score\n",
    "accuracy = cross_val_score(estimator=classifier, X=X_train, y=y_train, cv=10)\n",
    "print(\"Accuracy:{:.2f} %\".format(accuracy.mean()*100))\n",
    "print(\"Standard Deviation:{:.2f} %\".format(accuracy.std()*100))"
   ]
  },
  {
   "cell_type": "markdown",
   "metadata": {},
   "source": [
    "# Kernel method(SVM)"
   ]
  },
  {
   "cell_type": "code",
   "execution_count": null,
   "metadata": {
    "tags": []
   },
   "outputs": [],
   "source": [
    "from sklearn.svm import SVC\n",
    "classifier = SVC(kernel = 'rbf', random_state = 32)\n",
    "classifier.fit(X_train, y_train)\n",
    "\n",
    "y_pred = classifier.predict(X_test)\n",
    "\n",
    "from sklearn.metrics import confusion_matrix, accuracy_score\n",
    "cm = confusion_matrix(y_test, y_pred)\n",
    "print(cm)\n",
    "print(accuracy_score(y_test, y_pred)*100)\n",
    "\n",
    "from sklearn.model_selection import cross_val_score\n",
    "accuracy = cross_val_score(estimator=classifier, X=X_train, y=y_train, cv=10)\n",
    "print(\"Accuracy:{:.2f} %\".format(accuracy.mean()*100))\n",
    "print(\"Standard Deviation:{:.2f} %\".format(accuracy.std()*100))"
   ]
  },
  {
   "cell_type": "markdown",
   "metadata": {},
   "source": [
    "# Naive Bayes classifier"
   ]
  },
  {
   "cell_type": "code",
   "execution_count": null,
   "metadata": {
    "tags": []
   },
   "outputs": [],
   "source": [
    "from sklearn.naive_bayes import GaussianNB\n",
    "classifier = GaussianNB()\n",
    "classifier.fit(X_train, y_train)\n",
    "\n",
    "y_pred = classifier.predict(X_test)\n",
    "\n",
    "from sklearn.metrics import confusion_matrix, accuracy_score\n",
    "cm = confusion_matrix(y_test, y_pred)\n",
    "print(cm)\n",
    "print(accuracy_score(y_test, y_pred)*100)\n",
    "\n",
    "from sklearn.model_selection import cross_val_score\n",
    "accuracy = cross_val_score(estimator=classifier, X=X_train, y=y_train, cv=10)\n",
    "print(\"Accuracy:{:.2f} %\".format(accuracy.mean()*100))\n",
    "print(\"Standard Deviation:{:.2f} %\".format(accuracy.std()*100))"
   ]
  },
  {
   "cell_type": "markdown",
   "metadata": {},
   "source": [
    "# Decision Tree"
   ]
  },
  {
   "cell_type": "code",
   "execution_count": null,
   "metadata": {
    "tags": []
   },
   "outputs": [],
   "source": [
    "from sklearn.tree import DecisionTreeClassifier\n",
    "classifier = DecisionTreeClassifier(criterion = 'entropy', random_state = 32)\n",
    "classifier.fit(X_train, y_train)\n",
    "\n",
    "y_pred = classifier.predict(X_test)\n",
    "\n",
    "from sklearn.metrics import confusion_matrix, accuracy_score\n",
    "cm = confusion_matrix(y_test, y_pred)\n",
    "print(cm)\n",
    "print(accuracy_score(y_test, y_pred)*100)\n",
    "\n",
    "from sklearn.model_selection import cross_val_score\n",
    "accuracy = cross_val_score(estimator=classifier, X=X_train, y=y_train, cv=10)\n",
    "print(\"Accuracy:{:.2f} %\".format(accuracy.mean()*100))\n",
    "print(\"Standard Deviation:{:.2f} %\".format(accuracy.std()*100))"
   ]
  },
  {
   "cell_type": "markdown",
   "metadata": {},
   "source": [
    "# XGBoost"
   ]
  },
  {
   "cell_type": "code",
   "execution_count": null,
   "metadata": {
    "tags": []
   },
   "outputs": [],
   "source": [
    "from xgboost import XGBClassifier\n",
    "classifier = XGBClassifier()\n",
    "classifier.fit(X_train, y_train)\n",
    "\n",
    "y_pred = classifier.predict(X_test)\n",
    "\n",
    "from sklearn.metrics import confusion_matrix, accuracy_score\n",
    "cm = confusion_matrix(y_test, y_pred)\n",
    "print(cm)\n",
    "print(accuracy_score(y_test, y_pred)*100)\n",
    "\n",
    "from sklearn.model_selection import cross_val_score\n",
    "accuracy = cross_val_score(estimator=classifier, X=X_train, y=y_train, cv=10)\n",
    "print(\"Accuracy:{:.2f} %\".format(accuracy.mean()*100))\n",
    "print(\"Standard Deviation:{:.2f} %\".format(accuracy.std()*100))"
   ]
  },
  {
   "cell_type": "markdown",
   "metadata": {},
   "source": [
    "# catboost"
   ]
  },
  {
   "cell_type": "code",
   "execution_count": null,
   "metadata": {
    "tags": []
   },
   "outputs": [],
   "source": [
    "from catboost import CatBoostClassifier\n",
    "classifier = CatBoostClassifier(iterations=10, learning_rate=0.3, depth=6)\n",
    "classifier.fit(X_train, y_train)\n",
    "\n",
    "y_pred = classifier.predict(X_test)\n",
    "\n",
    "from sklearn.metrics import confusion_matrix, accuracy_score\n",
    "cm = confusion_matrix(y_test, y_pred)\n",
    "print(cm)\n",
    "print(accuracy_score(y_test, y_pred)*100)\n",
    "\n",
    "from sklearn.model_selection import cross_val_score\n",
    "accuracy = cross_val_score(estimator=classifier, X=X_train, y=y_train, cv=10)\n",
    "print(\"Accuracy:{:.2f} %\".format(accuracy.mean()*100))\n",
    "print(\"Standard Deviation:{:.2f} %\".format(accuracy.std()*100))"
   ]
  },
  {
   "cell_type": "markdown",
   "metadata": {},
   "source": [
    "# Artificial Neural Net"
   ]
  },
  {
   "cell_type": "code",
   "execution_count": 4,
   "metadata": {
    "tags": []
   },
   "outputs": [],
   "source": [
    "import tensorflow as tf\n",
    "\n",
    "ann = tf.keras.models.Sequential()\n",
    "\n",
    "ann.add(tf.keras.layers.Dense(units=8, input_dim=4,  activation='relu'))\n",
    "ann.add(tf.keras.layers.Dense(units=10, activation='relu'))\n",
    "ann.add(tf.keras.layers.Dense(units=15, activation='relu'))\n",
    "ann.add(tf.keras.layers.Dense(units=15, activation='relu'))\n",
    "ann.add(tf.keras.layers.Dense(units=3, activation='sigmoid'))\n",
    "\n",
    "ann.compile(optimizer = 'RMSprop', loss = 'categorical_crossentropy', metrics = ['accuracy'])"
   ]
  },
  {
   "cell_type": "code",
   "execution_count": 6,
   "metadata": {
    "tags": []
   },
   "outputs": [
    {
     "output_type": "stream",
     "name": "stdout",
     "text": "Epoch 1/100\n4/4 [==============================] - 0s 22ms/step - loss: 0.1650 - accuracy: 0.9474 - val_loss: 0.1438 - val_accuracy: 0.9722\nEpoch 2/100\n4/4 [==============================] - 0s 22ms/step - loss: 0.1723 - accuracy: 0.9561 - val_loss: 0.1530 - val_accuracy: 0.9722\nEpoch 3/100\n4/4 [==============================] - 0s 29ms/step - loss: 0.1670 - accuracy: 0.9474 - val_loss: 0.1429 - val_accuracy: 1.0000\nEpoch 4/100\n4/4 [==============================] - 0s 24ms/step - loss: 0.1622 - accuracy: 0.9474 - val_loss: 0.1387 - val_accuracy: 0.9722\nEpoch 5/100\n4/4 [==============================] - 0s 24ms/step - loss: 0.1545 - accuracy: 0.9561 - val_loss: 0.1449 - val_accuracy: 1.0000\nEpoch 6/100\n4/4 [==============================] - 0s 21ms/step - loss: 0.1512 - accuracy: 0.9561 - val_loss: 0.1333 - val_accuracy: 0.9722\nEpoch 7/100\n4/4 [==============================] - 0s 19ms/step - loss: 0.1538 - accuracy: 0.9561 - val_loss: 0.1508 - val_accuracy: 0.9167\nEpoch 8/100\n4/4 [==============================] - 0s 21ms/step - loss: 0.1679 - accuracy: 0.9298 - val_loss: 0.1485 - val_accuracy: 0.9444\nEpoch 9/100\n4/4 [==============================] - 0s 23ms/step - loss: 0.1537 - accuracy: 0.9561 - val_loss: 0.1364 - val_accuracy: 1.0000\nEpoch 10/100\n4/4 [==============================] - 0s 26ms/step - loss: 0.1544 - accuracy: 0.9474 - val_loss: 0.1251 - val_accuracy: 0.9722\nEpoch 11/100\n4/4 [==============================] - 0s 19ms/step - loss: 0.1417 - accuracy: 0.9561 - val_loss: 0.1324 - val_accuracy: 1.0000\nEpoch 12/100\n4/4 [==============================] - 0s 22ms/step - loss: 0.1420 - accuracy: 0.9561 - val_loss: 0.1181 - val_accuracy: 0.9722\nEpoch 13/100\n4/4 [==============================] - 0s 19ms/step - loss: 0.1356 - accuracy: 0.9474 - val_loss: 0.1161 - val_accuracy: 0.9722\nEpoch 14/100\n4/4 [==============================] - 0s 18ms/step - loss: 0.1317 - accuracy: 0.9561 - val_loss: 0.1594 - val_accuracy: 0.8889\nEpoch 15/100\n4/4 [==============================] - 0s 21ms/step - loss: 0.1407 - accuracy: 0.9386 - val_loss: 0.1121 - val_accuracy: 1.0000\nEpoch 16/100\n4/4 [==============================] - 0s 20ms/step - loss: 0.1384 - accuracy: 0.9561 - val_loss: 0.1227 - val_accuracy: 1.0000\nEpoch 17/100\n4/4 [==============================] - 0s 20ms/step - loss: 0.1309 - accuracy: 0.9474 - val_loss: 0.1079 - val_accuracy: 0.9722\nEpoch 18/100\n4/4 [==============================] - 0s 20ms/step - loss: 0.1363 - accuracy: 0.9561 - val_loss: 0.1277 - val_accuracy: 0.9444\nEpoch 19/100\n4/4 [==============================] - 0s 18ms/step - loss: 0.1281 - accuracy: 0.9474 - val_loss: 0.1052 - val_accuracy: 1.0000\nEpoch 20/100\n4/4 [==============================] - 0s 22ms/step - loss: 0.1347 - accuracy: 0.9474 - val_loss: 0.1124 - val_accuracy: 0.9444\nEpoch 21/100\n4/4 [==============================] - 0s 23ms/step - loss: 0.1304 - accuracy: 0.9561 - val_loss: 0.1035 - val_accuracy: 1.0000\nEpoch 22/100\n4/4 [==============================] - 0s 22ms/step - loss: 0.1281 - accuracy: 0.9474 - val_loss: 0.1076 - val_accuracy: 0.9722\nEpoch 23/100\n4/4 [==============================] - 0s 21ms/step - loss: 0.1291 - accuracy: 0.9561 - val_loss: 0.1010 - val_accuracy: 0.9722\nEpoch 24/100\n4/4 [==============================] - 0s 23ms/step - loss: 0.1360 - accuracy: 0.9561 - val_loss: 0.0995 - val_accuracy: 0.9722\nEpoch 25/100\n4/4 [==============================] - 0s 20ms/step - loss: 0.1230 - accuracy: 0.9561 - val_loss: 0.1110 - val_accuracy: 0.9444\nEpoch 26/100\n4/4 [==============================] - 0s 19ms/step - loss: 0.1369 - accuracy: 0.9649 - val_loss: 0.0989 - val_accuracy: 1.0000\nEpoch 27/100\n4/4 [==============================] - 0s 19ms/step - loss: 0.1205 - accuracy: 0.9561 - val_loss: 0.1402 - val_accuracy: 0.9167\nEpoch 28/100\n4/4 [==============================] - 0s 20ms/step - loss: 0.1333 - accuracy: 0.9649 - val_loss: 0.0962 - val_accuracy: 0.9722\nEpoch 29/100\n4/4 [==============================] - 0s 18ms/step - loss: 0.1177 - accuracy: 0.9561 - val_loss: 0.1238 - val_accuracy: 0.9444\nEpoch 30/100\n4/4 [==============================] - 0s 21ms/step - loss: 0.1215 - accuracy: 0.9561 - val_loss: 0.0945 - val_accuracy: 0.9722\nEpoch 31/100\n4/4 [==============================] - 0s 36ms/step - loss: 0.1210 - accuracy: 0.9474 - val_loss: 0.0939 - val_accuracy: 1.0000\nEpoch 32/100\n4/4 [==============================] - 0s 32ms/step - loss: 0.1244 - accuracy: 0.9561 - val_loss: 0.0965 - val_accuracy: 1.0000\nEpoch 33/100\n4/4 [==============================] - 0s 27ms/step - loss: 0.1163 - accuracy: 0.9561 - val_loss: 0.0947 - val_accuracy: 1.0000\nEpoch 34/100\n4/4 [==============================] - 0s 29ms/step - loss: 0.1199 - accuracy: 0.9561 - val_loss: 0.1004 - val_accuracy: 1.0000\nEpoch 35/100\n4/4 [==============================] - 0s 21ms/step - loss: 0.1238 - accuracy: 0.9474 - val_loss: 0.0963 - val_accuracy: 0.9722\nEpoch 36/100\n4/4 [==============================] - 0s 21ms/step - loss: 0.1259 - accuracy: 0.9561 - val_loss: 0.0930 - val_accuracy: 0.9722\nEpoch 37/100\n4/4 [==============================] - 0s 20ms/step - loss: 0.1169 - accuracy: 0.9561 - val_loss: 0.1066 - val_accuracy: 1.0000\nEpoch 38/100\n4/4 [==============================] - 0s 21ms/step - loss: 0.1155 - accuracy: 0.9649 - val_loss: 0.0874 - val_accuracy: 1.0000\nEpoch 39/100\n4/4 [==============================] - 0s 23ms/step - loss: 0.1139 - accuracy: 0.9561 - val_loss: 0.0940 - val_accuracy: 1.0000\nEpoch 40/100\n4/4 [==============================] - 0s 24ms/step - loss: 0.1235 - accuracy: 0.9561 - val_loss: 0.1425 - val_accuracy: 0.9167\nEpoch 41/100\n4/4 [==============================] - 0s 21ms/step - loss: 0.1270 - accuracy: 0.9474 - val_loss: 0.0857 - val_accuracy: 0.9722\nEpoch 42/100\n4/4 [==============================] - 0s 20ms/step - loss: 0.1133 - accuracy: 0.9561 - val_loss: 0.0846 - val_accuracy: 1.0000\nEpoch 43/100\n4/4 [==============================] - 0s 22ms/step - loss: 0.1113 - accuracy: 0.9561 - val_loss: 0.1003 - val_accuracy: 1.0000\nEpoch 44/100\n4/4 [==============================] - 0s 21ms/step - loss: 0.1158 - accuracy: 0.9474 - val_loss: 0.1057 - val_accuracy: 0.9722\nEpoch 45/100\n4/4 [==============================] - 0s 20ms/step - loss: 0.1155 - accuracy: 0.9474 - val_loss: 0.0850 - val_accuracy: 1.0000\nEpoch 46/100\n4/4 [==============================] - 0s 19ms/step - loss: 0.1158 - accuracy: 0.9561 - val_loss: 0.0827 - val_accuracy: 1.0000\nEpoch 47/100\n4/4 [==============================] - 0s 21ms/step - loss: 0.1082 - accuracy: 0.9561 - val_loss: 0.0875 - val_accuracy: 1.0000\nEpoch 48/100\n4/4 [==============================] - 0s 22ms/step - loss: 0.1111 - accuracy: 0.9561 - val_loss: 0.1093 - val_accuracy: 0.9444\nEpoch 49/100\n4/4 [==============================] - 0s 31ms/step - loss: 0.1253 - accuracy: 0.9561 - val_loss: 0.0802 - val_accuracy: 0.9722\nEpoch 50/100\n4/4 [==============================] - 0s 27ms/step - loss: 0.1142 - accuracy: 0.9561 - val_loss: 0.0796 - val_accuracy: 1.0000\nEpoch 51/100\n4/4 [==============================] - 0s 20ms/step - loss: 0.1078 - accuracy: 0.9561 - val_loss: 0.0795 - val_accuracy: 1.0000\nEpoch 52/100\n4/4 [==============================] - 0s 20ms/step - loss: 0.1071 - accuracy: 0.9561 - val_loss: 0.0809 - val_accuracy: 0.9722\nEpoch 53/100\n4/4 [==============================] - 0s 19ms/step - loss: 0.1064 - accuracy: 0.9561 - val_loss: 0.0785 - val_accuracy: 1.0000\nEpoch 54/100\n4/4 [==============================] - 0s 19ms/step - loss: 0.1332 - accuracy: 0.9561 - val_loss: 0.0770 - val_accuracy: 0.9722\nEpoch 55/100\n4/4 [==============================] - 0s 26ms/step - loss: 0.1037 - accuracy: 0.9561 - val_loss: 0.0895 - val_accuracy: 1.0000\nEpoch 56/100\n4/4 [==============================] - 0s 20ms/step - loss: 0.1113 - accuracy: 0.9561 - val_loss: 0.0878 - val_accuracy: 0.9722\nEpoch 57/100\n4/4 [==============================] - 0s 19ms/step - loss: 0.1043 - accuracy: 0.9737 - val_loss: 0.1287 - val_accuracy: 0.9167\nEpoch 58/100\n4/4 [==============================] - 0s 21ms/step - loss: 0.1215 - accuracy: 0.9474 - val_loss: 0.0864 - val_accuracy: 1.0000\nEpoch 59/100\n4/4 [==============================] - 0s 22ms/step - loss: 0.1070 - accuracy: 0.9561 - val_loss: 0.0749 - val_accuracy: 0.9722\nEpoch 60/100\n4/4 [==============================] - 0s 25ms/step - loss: 0.1019 - accuracy: 0.9561 - val_loss: 0.0886 - val_accuracy: 1.0000\nEpoch 61/100\n4/4 [==============================] - 0s 21ms/step - loss: 0.1195 - accuracy: 0.9561 - val_loss: 0.1007 - val_accuracy: 0.9444\nEpoch 62/100\n4/4 [==============================] - 0s 20ms/step - loss: 0.1069 - accuracy: 0.9561 - val_loss: 0.0842 - val_accuracy: 0.9722\nEpoch 63/100\n4/4 [==============================] - 0s 22ms/step - loss: 0.1114 - accuracy: 0.9561 - val_loss: 0.0733 - val_accuracy: 0.9722\nEpoch 64/100\n4/4 [==============================] - 0s 21ms/step - loss: 0.1028 - accuracy: 0.9649 - val_loss: 0.0903 - val_accuracy: 1.0000\nEpoch 65/100\n4/4 [==============================] - 0s 20ms/step - loss: 0.1109 - accuracy: 0.9561 - val_loss: 0.0802 - val_accuracy: 0.9722\nEpoch 66/100\n4/4 [==============================] - 0s 20ms/step - loss: 0.1117 - accuracy: 0.9561 - val_loss: 0.0798 - val_accuracy: 0.9722\nEpoch 67/100\n4/4 [==============================] - 0s 20ms/step - loss: 0.1155 - accuracy: 0.9561 - val_loss: 0.0782 - val_accuracy: 0.9722\nEpoch 68/100\n4/4 [==============================] - 0s 21ms/step - loss: 0.1162 - accuracy: 0.9474 - val_loss: 0.0768 - val_accuracy: 0.9722\nEpoch 69/100\n4/4 [==============================] - 0s 28ms/step - loss: 0.1146 - accuracy: 0.9561 - val_loss: 0.0741 - val_accuracy: 1.0000\nEpoch 70/100\n4/4 [==============================] - 0s 21ms/step - loss: 0.1054 - accuracy: 0.9561 - val_loss: 0.0702 - val_accuracy: 1.0000\nEpoch 71/100\n4/4 [==============================] - 0s 19ms/step - loss: 0.1029 - accuracy: 0.9561 - val_loss: 0.0722 - val_accuracy: 1.0000\nEpoch 72/100\n4/4 [==============================] - 0s 19ms/step - loss: 0.1049 - accuracy: 0.9561 - val_loss: 0.0703 - val_accuracy: 1.0000\nEpoch 73/100\n4/4 [==============================] - 0s 23ms/step - loss: 0.1039 - accuracy: 0.9561 - val_loss: 0.0732 - val_accuracy: 1.0000\nEpoch 74/100\n4/4 [==============================] - 0s 20ms/step - loss: 0.1096 - accuracy: 0.9561 - val_loss: 0.0978 - val_accuracy: 0.9444\nEpoch 75/100\n4/4 [==============================] - 0s 20ms/step - loss: 0.1059 - accuracy: 0.9561 - val_loss: 0.0803 - val_accuracy: 1.0000\nEpoch 76/100\n4/4 [==============================] - 0s 19ms/step - loss: 0.1055 - accuracy: 0.9561 - val_loss: 0.0679 - val_accuracy: 1.0000\nEpoch 77/100\n4/4 [==============================] - 0s 22ms/step - loss: 0.1000 - accuracy: 0.9561 - val_loss: 0.0676 - val_accuracy: 1.0000\nEpoch 78/100\n4/4 [==============================] - 0s 26ms/step - loss: 0.0983 - accuracy: 0.9561 - val_loss: 0.0667 - val_accuracy: 1.0000\nEpoch 79/100\n4/4 [==============================] - 0s 39ms/step - loss: 0.1163 - accuracy: 0.9474 - val_loss: 0.0737 - val_accuracy: 1.0000\nEpoch 80/100\n4/4 [==============================] - 0s 33ms/step - loss: 0.1060 - accuracy: 0.9561 - val_loss: 0.0667 - val_accuracy: 0.9722\nEpoch 81/100\n4/4 [==============================] - 0s 27ms/step - loss: 0.1068 - accuracy: 0.9474 - val_loss: 0.0771 - val_accuracy: 0.9722\nEpoch 82/100\n4/4 [==============================] - 0s 26ms/step - loss: 0.1055 - accuracy: 0.9649 - val_loss: 0.0653 - val_accuracy: 1.0000\nEpoch 83/100\n4/4 [==============================] - 0s 19ms/step - loss: 0.1107 - accuracy: 0.9474 - val_loss: 0.0654 - val_accuracy: 1.0000\nEpoch 84/100\n4/4 [==============================] - 0s 19ms/step - loss: 0.0969 - accuracy: 0.9561 - val_loss: 0.0643 - val_accuracy: 1.0000\nEpoch 85/100\n4/4 [==============================] - 0s 24ms/step - loss: 0.1030 - accuracy: 0.9561 - val_loss: 0.0782 - val_accuracy: 0.9722\nEpoch 86/100\n4/4 [==============================] - 0s 23ms/step - loss: 0.1101 - accuracy: 0.9474 - val_loss: 0.0644 - val_accuracy: 1.0000\nEpoch 87/100\n4/4 [==============================] - 0s 21ms/step - loss: 0.1012 - accuracy: 0.9561 - val_loss: 0.0709 - val_accuracy: 1.0000\nEpoch 88/100\n4/4 [==============================] - 0s 27ms/step - loss: 0.1112 - accuracy: 0.9474 - val_loss: 0.0643 - val_accuracy: 0.9722\nEpoch 89/100\n4/4 [==============================] - 0s 18ms/step - loss: 0.1094 - accuracy: 0.9561 - val_loss: 0.0637 - val_accuracy: 1.0000\nEpoch 90/100\n4/4 [==============================] - 0s 21ms/step - loss: 0.0955 - accuracy: 0.9561 - val_loss: 0.0693 - val_accuracy: 1.0000\nEpoch 91/100\n4/4 [==============================] - 0s 32ms/step - loss: 0.0954 - accuracy: 0.9561 - val_loss: 0.0637 - val_accuracy: 1.0000\nEpoch 92/100\n4/4 [==============================] - 0s 21ms/step - loss: 0.0972 - accuracy: 0.9561 - val_loss: 0.0672 - val_accuracy: 0.9722\nEpoch 93/100\n4/4 [==============================] - 0s 23ms/step - loss: 0.1062 - accuracy: 0.9561 - val_loss: 0.0748 - val_accuracy: 1.0000\nEpoch 94/100\n4/4 [==============================] - 0s 19ms/step - loss: 0.1007 - accuracy: 0.9649 - val_loss: 0.0611 - val_accuracy: 1.0000\nEpoch 95/100\n4/4 [==============================] - 0s 21ms/step - loss: 0.0945 - accuracy: 0.9561 - val_loss: 0.0672 - val_accuracy: 1.0000\nEpoch 96/100\n4/4 [==============================] - 0s 28ms/step - loss: 0.0950 - accuracy: 0.9561 - val_loss: 0.0620 - val_accuracy: 1.0000\nEpoch 97/100\n4/4 [==============================] - 0s 26ms/step - loss: 0.0940 - accuracy: 0.9561 - val_loss: 0.0835 - val_accuracy: 1.0000\nEpoch 98/100\n4/4 [==============================] - 0s 26ms/step - loss: 0.1078 - accuracy: 0.9474 - val_loss: 0.0584 - val_accuracy: 1.0000\nEpoch 99/100\n4/4 [==============================] - 0s 19ms/step - loss: 0.1082 - accuracy: 0.9561 - val_loss: 0.0882 - val_accuracy: 0.9722\nEpoch 100/100\n4/4 [==============================] - 0s 21ms/step - loss: 0.1016 - accuracy: 0.9649 - val_loss: 0.0732 - val_accuracy: 1.0000\n"
    },
    {
     "output_type": "execute_result",
     "data": {
      "text/plain": "<tensorflow.python.keras.callbacks.History at 0x1ff375b95f8>"
     },
     "metadata": {},
     "execution_count": 6
    }
   ],
   "source": [
    "ann.fit(X_train, y_train, epochs=100, validation_data = (X_test, y_test))"
   ]
  },
  {
   "cell_type": "code",
   "execution_count": null,
   "metadata": {},
   "outputs": [],
   "source": []
  }
 ],
 "metadata": {
  "kernelspec": {
   "display_name": "Python 3.6.8 64-bit ('.env': venv)",
   "language": "python",
   "name": "python36864bitenvvenve4cc3e5879a24aa8b90760cb1535c75c"
  },
  "language_info": {
   "codemirror_mode": {
    "name": "ipython",
    "version": 3
   },
   "file_extension": ".py",
   "mimetype": "text/x-python",
   "name": "python",
   "nbconvert_exporter": "python",
   "pygments_lexer": "ipython3",
   "version": "3.6.8-final"
  }
 },
 "nbformat": 4,
 "nbformat_minor": 4
}