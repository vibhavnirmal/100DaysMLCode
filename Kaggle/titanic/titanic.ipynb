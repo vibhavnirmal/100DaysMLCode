{
 "cells": [
  {
   "cell_type": "code",
   "execution_count": 1,
   "metadata": {},
   "outputs": [],
   "source": [
    "#https://www.kaggle.com/c/titanic"
   ]
  },
  {
   "cell_type": "code",
   "execution_count": 2,
   "metadata": {},
   "outputs": [],
   "source": [
    "import matplotlib.pyplot as plt\n",
    "import numpy as np\n",
    "import pandas as pd"
   ]
  },
  {
   "cell_type": "code",
   "execution_count": 3,
   "metadata": {},
   "outputs": [],
   "source": [
    "training_data = pd.read_csv(\"F:\\MLudemy\\MLAZ\\MachineLearningPrograms\\Kaggle\\\\titanic\\\\train.csv\")\n",
    "testing_data = pd.read_csv(\"F:\\MLudemy\\MLAZ\\MachineLearningPrograms\\Kaggle\\\\titanic\\\\test.csv\")"
   ]
  },
  {
   "cell_type": "code",
   "execution_count": 4,
   "metadata": {},
   "outputs": [],
   "source": [
    "features = [\"Pclass\",\"Sex\",\"SibSp\",\"Parch\"]\n",
    "\n",
    "X_train = pd.get_dummies(training_data[features])\n",
    "y_train = training_data.iloc[:, [1]].values\n",
    "\n",
    "X_test = pd.get_dummies(testing_data[features])"
   ]
  },
  {
   "cell_type": "code",
   "execution_count": 5,
   "metadata": {},
   "outputs": [],
   "source": [
    "def results(classifier):\n",
    "    predictions = classifier.predict(X_test)\n",
    "    return predictions"
   ]
  },
  {
   "cell_type": "markdown",
   "metadata": {},
   "source": [
    "## Logistic Regression"
   ]
  },
  {
   "cell_type": "code",
   "execution_count": 6,
   "metadata": {
    "tags": []
   },
   "outputs": [
    {
     "output_type": "stream",
     "name": "stdout",
     "text": "Logistic Regression Score =  [0 1 0 0 1 0 1 0 1 0 0 0 1 0 1 1 0 0 1 1 0 0 1 0 1 0 1 0 0 0 0 0 1 1 0 0 1\n 1 0 0 0 0 0 1 1 0 0 0 1 1 0 0 1 1 0 0 0 0 0 1 0 0 0 1 0 1 1 0 0 1 1 0 1 0\n 1 0 0 1 0 1 0 0 0 0 0 0 1 1 1 0 1 0 1 0 0 0 1 0 1 0 1 0 0 0 1 0 0 0 0 0 0\n 1 1 1 1 0 0 1 0 1 1 0 1 0 0 1 0 1 0 0 0 0 1 0 0 0 0 0 1 0 0 1 0 0 0 0 0 0\n 0 0 1 0 0 1 0 0 1 1 0 1 1 0 1 0 0 1 0 0 1 1 0 0 0 0 0 1 1 0 1 1 0 0 1 0 1\n 0 1 0 0 0 0 0 0 0 0 0 0 1 0 1 1 0 0 1 0 0 1 0 1 0 0 0 0 1 0 0 1 0 1 0 1 0\n 1 0 1 1 0 1 0 0 0 1 0 0 0 0 0 0 1 1 1 1 0 0 0 0 1 0 1 1 1 0 0 0 0 0 0 0 1\n 0 0 0 1 1 0 0 0 0 1 0 0 0 1 1 0 1 0 0 0 0 1 0 1 1 1 0 0 0 0 0 0 1 0 0 0 0\n 1 0 0 0 0 0 0 0 1 1 0 0 0 1 0 0 0 1 1 1 0 0 0 0 0 0 0 0 1 0 1 0 0 0 1 0 0\n 1 0 0 0 0 0 0 0 0 0 1 0 1 0 1 0 1 1 0 0 0 1 0 1 0 0 1 0 1 1 0 1 0 0 1 1 0\n 0 1 0 0 1 1 1 0 0 0 0 0 1 1 0 1 0 0 0 0 0 1 0 0 0 1 0 1 0 0 1 0 1 0 0 0 0\n 0 1 1 1 1 1 0 1 0 0 0]\n"
    }
   ],
   "source": [
    "from sklearn.linear_model import LogisticRegression\n",
    "classifier = LogisticRegression(random_state = 0)\n",
    "classifier.fit(X_train, y_train.ravel())\n",
    "print(\"Logistic Regression Score = \", results(classifier))\n",
    "# output = pd.DataFrame({'PassengerId': testing_data.PassengerId, 'Survived': results(classifier)})\n",
    "# output.to_csv('_logisticReg.csv', index=False)"
   ]
  },
  {
   "cell_type": "markdown",
   "metadata": {},
   "source": [
    "## KNeighbors Classifier"
   ]
  },
  {
   "cell_type": "code",
   "execution_count": 7,
   "metadata": {
    "tags": []
   },
   "outputs": [
    {
     "output_type": "stream",
     "name": "stdout",
     "text": "KNN Score =  [0 1 0 0 0 0 1 0 1 0 0 0 1 0 1 1 0 0 1 1 1 0 1 0 1 0 1 0 0 0 0 0 0 0 1 0 1\n 1 0 0 0 0 0 1 1 0 0 0 1 1 1 0 1 1 0 0 0 0 0 1 0 0 0 1 1 1 1 0 0 1 1 0 1 0\n 1 0 0 1 0 1 0 1 0 0 0 0 1 1 1 0 1 0 1 0 0 0 1 0 1 0 1 0 0 0 0 0 0 0 0 0 0\n 1 1 1 1 0 0 0 0 1 1 0 1 0 0 0 0 0 0 0 0 0 0 0 0 0 0 0 1 0 0 1 1 0 0 0 0 0\n 0 0 1 0 0 1 0 0 1 1 0 1 1 0 1 0 0 0 0 0 1 1 0 0 0 0 0 1 1 1 1 1 0 0 1 0 1\n 0 1 0 0 0 0 0 0 0 1 0 0 1 0 1 1 0 1 1 0 0 1 0 1 0 0 0 0 1 0 0 1 0 1 0 1 0\n 1 0 1 1 0 1 0 0 0 1 0 0 1 0 1 0 1 1 1 1 0 0 0 1 1 0 1 1 1 0 1 0 0 0 0 0 1\n 0 0 0 1 0 0 0 0 0 1 0 0 0 1 1 0 1 0 0 0 0 1 0 1 0 0 0 0 1 0 0 0 1 0 0 0 0\n 1 0 0 0 0 0 0 0 1 1 1 0 0 1 0 0 0 1 1 1 1 0 0 0 0 0 0 0 1 0 1 0 0 0 1 0 0\n 0 0 0 0 0 0 0 0 0 0 1 0 1 0 1 0 1 1 0 0 0 0 0 1 0 0 1 0 1 1 0 1 0 0 1 1 0\n 0 1 0 0 1 1 0 0 0 0 0 0 1 1 0 1 0 0 0 0 0 1 0 0 0 1 0 1 0 0 1 0 1 0 1 0 0\n 0 1 0 1 1 1 0 1 0 0 0]\n"
    }
   ],
   "source": [
    "from sklearn.neighbors import KNeighborsClassifier\n",
    "classifier = KNeighborsClassifier(n_neighbors = 5, metric = 'minkowski', p = 2)\n",
    "classifier.fit(X_train, y_train.ravel())\n",
    "print(\"KNN Score = \", results(classifier))\n",
    "# output = pd.DataFrame({'PassengerId': testing_data.PassengerId, 'Survived': results(classifier)})\n",
    "# output.to_csv('_knn.csv', index=False)"
   ]
  },
  {
   "cell_type": "markdown",
   "metadata": {},
   "source": [
    "## Gaussian Naive Bayes"
   ]
  },
  {
   "cell_type": "code",
   "execution_count": 8,
   "metadata": {
    "tags": []
   },
   "outputs": [
    {
     "output_type": "stream",
     "name": "stdout",
     "text": "NB Score =  [0 1 0 0 1 0 1 0 1 0 0 0 1 0 1 1 0 0 1 1 0 0 1 0 1 0 1 0 0 0 0 0 1 1 0 0 1\n 1 0 0 0 0 0 1 1 0 0 0 1 1 0 0 1 1 0 0 0 0 0 1 0 0 0 1 0 1 1 0 0 1 1 0 1 0\n 1 0 0 1 0 1 0 0 0 0 0 0 1 1 1 0 1 0 1 0 0 0 1 0 1 0 1 0 0 0 1 0 0 0 0 0 0\n 1 1 1 1 0 0 1 0 1 1 0 1 0 0 1 0 1 0 0 0 0 1 0 0 0 0 0 1 0 0 1 0 0 0 0 0 0\n 0 0 1 0 0 1 0 0 1 1 0 1 1 0 1 0 0 1 0 0 1 1 0 0 0 0 0 1 1 0 1 1 0 0 1 0 1\n 0 1 0 0 0 0 0 0 0 0 0 0 1 0 1 1 0 0 1 0 0 1 0 1 0 0 0 0 1 0 0 1 0 1 0 1 0\n 1 0 1 1 0 1 0 0 0 1 0 0 0 0 0 0 1 1 1 1 0 0 0 0 1 0 1 1 1 0 0 0 0 0 0 0 1\n 0 0 0 1 1 0 0 0 0 1 0 0 0 1 1 0 1 0 0 0 0 1 0 1 1 1 0 0 0 0 0 0 1 0 0 0 0\n 1 0 0 0 0 0 0 0 1 1 0 0 0 1 0 0 0 1 1 1 0 0 0 0 0 0 0 0 1 0 1 0 0 0 1 0 0\n 1 0 0 0 0 0 0 0 0 0 1 0 1 0 1 0 1 1 0 0 0 1 0 1 0 0 1 0 1 1 0 1 0 0 1 1 0\n 0 1 0 0 1 1 1 0 0 0 0 0 1 1 0 1 0 0 0 0 0 1 0 0 0 1 0 1 0 0 1 0 1 0 0 0 0\n 0 1 1 1 1 1 0 1 0 0 0]\n"
    }
   ],
   "source": [
    "from sklearn.naive_bayes import GaussianNB\n",
    "classifier = GaussianNB()\n",
    "classifier.fit(X_train, y_train.ravel())\n",
    "print(\"NB Score = \", results(classifier))\n",
    "# output = pd.DataFrame({'PassengerId': testing_data.PassengerId, 'Survived': results(classifier)})\n",
    "# output.to_csv('_nb.csv', index=False)"
   ]
  },
  {
   "cell_type": "markdown",
   "metadata": {},
   "source": [
    "## DecisionTreeClassifier"
   ]
  },
  {
   "cell_type": "code",
   "execution_count": 9,
   "metadata": {
    "tags": []
   },
   "outputs": [
    {
     "output_type": "stream",
     "name": "stdout",
     "text": "DT Score =  [0 0 0 0 0 0 1 1 1 0 0 0 1 0 1 1 0 0 0 1 0 0 1 0 0 0 1 0 0 0 0 0 0 0 0 0 1\n 1 0 0 0 0 0 1 1 0 0 0 1 1 0 0 1 1 0 0 0 0 0 1 0 0 0 1 1 1 1 0 0 0 1 0 1 0\n 1 0 0 1 0 1 0 0 0 0 0 0 1 1 1 1 0 0 0 0 0 0 1 0 1 0 1 0 0 0 0 0 0 0 0 0 0\n 1 1 1 1 0 0 0 0 1 1 0 1 0 0 1 0 0 0 0 0 0 0 0 0 0 0 0 1 0 0 1 1 0 0 0 0 0\n 0 1 1 0 0 1 0 0 1 1 0 1 1 0 1 0 0 0 0 0 1 1 0 0 0 0 0 1 1 0 1 1 0 0 1 0 1\n 0 1 0 0 0 0 0 0 0 1 0 0 1 0 1 1 0 0 1 0 0 1 0 1 0 0 0 0 1 0 0 1 0 1 0 1 0\n 1 0 1 1 0 1 0 0 0 1 0 0 0 0 0 0 1 1 1 1 0 0 0 0 1 1 1 0 1 0 0 0 0 0 0 0 1\n 0 0 0 1 0 0 0 0 0 1 0 0 0 1 0 0 1 0 0 0 0 1 0 1 0 0 0 0 0 0 0 0 1 0 0 0 0\n 1 0 0 0 0 0 0 0 1 1 1 0 0 0 0 0 0 1 1 1 0 0 0 0 0 0 0 0 1 0 1 0 0 0 1 0 0\n 0 0 0 0 0 0 0 0 0 0 1 0 1 0 1 0 1 1 0 0 0 0 0 1 0 0 0 0 1 1 0 1 0 0 1 1 0\n 0 1 0 0 1 1 0 0 0 0 0 0 1 0 0 1 0 0 0 0 0 1 0 0 0 1 0 1 0 0 1 0 1 0 0 0 0\n 0 1 0 1 1 1 0 1 0 0 0]\n"
    }
   ],
   "source": [
    "from sklearn.tree import DecisionTreeClassifier\n",
    "classifier = DecisionTreeClassifier(criterion = 'entropy', random_state = 0)\n",
    "classifier.fit(X_train, y_train.ravel())\n",
    "print(\"DT Score = \", results(classifier))\n",
    "# output = pd.DataFrame({'PassengerId': testing_data.PassengerId, 'Survived': results(classifier)})\n",
    "# output.to_csv('_DT.csv', index=False)"
   ]
  },
  {
   "cell_type": "markdown",
   "metadata": {},
   "source": [
    "## RandomForestClassifier"
   ]
  },
  {
   "cell_type": "code",
   "execution_count": 10,
   "metadata": {
    "tags": []
   },
   "outputs": [
    {
     "output_type": "stream",
     "name": "stdout",
     "text": "RF Score =  [0 0 0 0 1 0 1 1 1 0 0 0 1 0 1 1 0 0 0 1 0 1 1 0 1 0 1 0 0 0 0 0 0 0 0 0 1\n 1 0 0 1 0 0 1 1 0 0 0 1 1 0 0 1 1 0 0 0 0 0 1 0 0 0 1 1 1 1 0 0 0 1 0 1 0\n 1 0 0 1 0 1 0 0 0 0 0 0 1 1 1 1 0 0 0 0 0 0 1 0 1 0 1 0 0 0 1 0 0 0 0 0 0\n 1 1 1 1 0 0 1 0 1 1 0 1 0 0 1 0 1 0 0 0 0 0 0 0 0 0 0 1 0 0 1 1 0 0 0 0 0\n 0 1 1 0 0 1 0 0 1 1 0 1 1 0 1 0 0 1 0 0 1 1 0 0 0 0 0 1 1 0 1 1 0 0 1 0 1\n 0 1 0 0 0 0 0 0 0 1 0 0 1 0 1 1 1 0 1 0 0 1 0 1 0 0 0 0 1 0 0 1 0 1 0 1 0\n 1 0 1 1 0 1 0 0 0 1 0 0 0 0 0 0 1 1 1 1 0 0 0 0 1 1 1 0 1 0 0 0 0 0 0 0 1\n 0 0 0 1 1 0 0 0 0 1 0 0 0 1 0 0 1 0 0 0 0 1 0 1 1 1 0 0 0 0 0 0 1 0 0 0 0\n 1 0 0 0 0 0 0 0 1 1 1 1 0 0 0 0 0 1 1 1 0 0 0 0 0 0 0 0 1 0 1 0 0 0 1 0 0\n 1 0 0 0 1 0 0 0 0 0 1 0 1 0 1 0 1 1 0 0 0 0 0 1 0 0 0 0 1 1 0 1 0 0 1 1 0\n 0 1 0 0 1 1 1 0 0 0 0 0 1 0 0 1 0 0 0 0 0 1 1 0 0 1 0 1 0 0 1 0 1 0 0 0 0\n 0 1 1 1 1 1 0 1 0 0 0]\n"
    }
   ],
   "source": [
    "from sklearn.ensemble import RandomForestClassifier\n",
    "classifier = RandomForestClassifier(n_estimators = 20, criterion = 'entropy', random_state = 0)\n",
    "classifier.fit(X_train, y_train.ravel())\n",
    "print(\"RF Score = \", results(classifier))\n",
    "# output = pd.DataFrame({'PassengerId': testing_data.PassengerId, 'Survived': results(classifier)})\n",
    "# output.to_csv('_RF.csv', index=False)"
   ]
  },
  {
   "cell_type": "markdown",
   "metadata": {},
   "source": [
    "## Support Vector Machine"
   ]
  },
  {
   "cell_type": "code",
   "execution_count": 11,
   "metadata": {
    "tags": []
   },
   "outputs": [
    {
     "output_type": "stream",
     "name": "stdout",
     "text": "SVC Score =  [0 1 0 0 1 0 1 0 1 0 0 0 1 0 1 1 0 0 1 1 0 0 1 0 1 0 1 0 0 0 0 0 1 1 0 0 1\n 1 0 0 0 0 0 1 1 0 0 0 1 1 0 0 1 1 0 0 0 0 0 1 0 0 0 1 0 1 1 0 0 1 1 0 1 0\n 1 0 0 1 0 1 0 0 0 0 0 0 1 1 1 0 1 0 1 0 0 0 1 0 1 0 1 0 0 0 1 0 0 0 0 0 0\n 1 1 1 1 0 0 1 0 1 1 0 1 0 0 1 0 1 0 0 0 0 1 0 0 0 0 0 1 0 1 1 0 0 0 0 0 0\n 0 0 1 0 0 1 0 0 1 1 0 1 1 0 1 0 0 1 0 0 1 1 0 0 0 0 0 1 1 0 1 1 0 0 1 0 1\n 0 1 0 1 0 0 0 0 0 0 0 0 1 0 1 1 0 0 1 0 0 1 0 1 0 0 0 0 1 1 0 1 0 1 0 1 0\n 1 0 1 1 0 1 0 0 0 1 0 0 0 0 0 0 1 1 1 1 0 0 0 0 1 0 1 1 1 0 0 0 0 0 0 0 1\n 0 0 0 1 1 0 0 0 0 1 0 0 0 1 1 0 1 0 0 0 0 1 0 1 1 1 0 0 0 0 0 0 1 0 0 0 0\n 1 0 0 0 0 0 0 0 1 1 0 0 0 1 0 0 0 1 1 1 0 0 0 0 0 0 0 0 1 0 1 0 0 0 1 0 0\n 1 0 0 0 0 0 0 0 0 0 1 0 1 0 1 0 1 1 0 0 0 1 0 1 0 0 1 0 1 1 0 1 1 0 1 1 0\n 0 1 0 0 1 1 1 0 0 0 0 0 1 1 0 1 0 0 0 0 0 1 0 0 0 1 0 1 0 0 1 0 1 0 0 0 0\n 0 1 1 1 1 1 0 1 0 0 0]\n"
    }
   ],
   "source": [
    "from sklearn.svm import SVC\n",
    "classifier = SVC(kernel = 'linear', random_state = 0)\n",
    "classifier.fit(X_train, y_train.ravel())\n",
    "print(\"SVC Score = \", results(classifier))\n",
    "# output = pd.DataFrame({'PassengerId': testing_data.PassengerId, 'Survived': results(classifier)})\n",
    "# output.to_csv('_SVC.csv', index=False)"
   ]
  },
  {
   "cell_type": "markdown",
   "metadata": {},
   "source": [
    "## Kernel Support Vector Machine"
   ]
  },
  {
   "cell_type": "code",
   "execution_count": 12,
   "metadata": {
    "tags": []
   },
   "outputs": [
    {
     "output_type": "stream",
     "name": "stdout",
     "text": "kSVC Score =  [0 1 0 0 1 0 1 0 1 0 0 0 1 0 1 1 0 0 1 1 0 0 1 0 1 0 1 0 0 0 0 0 1 1 0 0 1\n 1 0 0 0 0 0 1 1 0 0 0 1 1 0 0 1 1 0 0 0 0 0 1 0 0 0 1 0 1 1 0 0 1 1 0 1 0\n 1 0 0 1 0 1 0 0 0 0 0 0 1 1 1 0 1 0 1 0 0 0 1 0 1 0 1 0 0 0 1 0 0 0 0 0 0\n 1 1 1 1 0 0 1 0 1 1 0 1 0 0 1 0 1 0 0 0 0 0 0 0 0 0 0 1 0 0 1 0 0 0 0 0 0\n 0 0 1 0 0 1 0 0 1 1 0 1 1 0 1 0 0 1 0 0 1 1 0 0 0 0 0 1 1 0 1 1 0 0 1 0 1\n 0 1 0 0 0 0 0 0 0 0 0 0 1 0 1 1 0 0 1 0 0 1 0 1 0 0 0 0 1 0 0 1 0 1 0 1 0\n 1 0 1 1 0 1 0 0 0 1 0 0 0 0 0 0 1 1 1 1 0 0 0 0 1 0 1 1 1 0 0 0 0 0 0 0 1\n 0 0 0 1 1 0 0 0 0 1 0 0 0 1 1 0 1 0 0 0 0 1 0 1 1 1 0 0 0 0 0 0 1 0 0 0 0\n 1 0 0 0 0 0 0 0 1 1 0 0 0 1 0 0 0 1 1 1 0 0 0 0 0 0 0 0 1 0 1 0 0 0 1 0 0\n 1 0 0 0 0 0 0 0 0 0 1 0 1 0 1 0 1 1 0 0 0 1 0 1 0 0 1 0 1 1 0 1 0 0 1 1 0\n 0 1 0 0 1 1 1 0 0 0 0 0 1 1 0 1 0 0 0 0 0 1 0 0 0 1 0 1 0 0 1 0 1 0 0 0 0\n 0 1 1 1 1 1 0 1 0 0 0]\n"
    }
   ],
   "source": [
    "from sklearn.svm import SVC\n",
    "classifier = SVC(kernel=\"rbf\", random_state = 0)\n",
    "classifier.fit(X_train, y_train.ravel())\n",
    "print(\"kSVC Score = \", results(classifier))\n",
    "# output = pd.DataFrame({'PassengerId': testing_data.PassengerId, 'Survived': results(classifier)})\n",
    "# output.to_csv('_kSVC.csv', index=False)"
   ]
  },
  {
   "cell_type": "markdown",
   "metadata": {},
   "source": [
    "## XGboost"
   ]
  },
  {
   "cell_type": "code",
   "execution_count": 13,
   "metadata": {
    "tags": []
   },
   "outputs": [
    {
     "output_type": "stream",
     "name": "stdout",
     "text": "xgboost Score =  [0 0 0 0 0 0 1 1 1 0 0 0 1 0 1 1 0 0 0 1 0 0 1 0 1 0 1 0 0 0 0 0 0 0 0 0 1\n 1 0 0 0 0 0 1 1 0 0 0 1 1 0 0 1 1 0 0 0 0 0 1 0 0 0 1 1 1 1 0 0 1 1 0 1 0\n 1 0 0 1 0 1 0 0 0 0 0 0 1 1 1 1 0 0 1 0 0 0 1 0 1 0 1 0 0 0 0 0 0 0 0 0 0\n 1 1 1 1 0 0 0 0 1 1 0 1 0 0 1 0 1 0 0 0 0 0 0 0 0 0 0 1 0 0 1 1 0 0 0 0 0\n 0 1 1 0 0 1 0 0 1 1 0 1 1 0 1 0 0 0 0 0 1 1 0 0 0 0 0 1 1 0 1 1 0 0 1 0 1\n 0 1 0 0 0 0 0 0 0 1 0 1 1 0 1 1 1 0 1 0 0 1 0 1 0 0 0 0 1 0 0 1 0 1 0 1 0\n 1 0 1 1 0 1 0 0 0 1 0 0 0 0 0 0 1 1 1 1 0 0 0 0 1 1 1 0 1 0 0 0 0 0 0 0 1\n 0 0 0 1 0 0 0 0 0 1 0 0 0 1 0 0 1 0 0 0 0 1 0 1 0 0 0 0 0 0 0 0 1 0 0 0 0\n 1 0 0 0 0 0 0 0 1 1 1 0 0 0 0 0 0 1 1 1 0 0 0 0 0 0 0 0 1 0 1 0 0 0 1 0 0\n 0 0 0 0 1 0 0 0 0 0 1 0 1 0 1 0 1 1 0 0 0 0 0 1 0 0 0 0 1 1 0 1 0 0 1 1 0\n 0 1 0 0 1 1 1 0 0 0 0 0 1 0 0 1 0 0 0 0 0 1 1 0 0 1 0 1 0 0 1 0 1 0 0 0 0\n 0 1 0 1 1 1 0 1 0 0 0]\n"
    }
   ],
   "source": [
    "from xgboost import XGBClassifier\n",
    "classifier = XGBClassifier()\n",
    "classifier.fit(X_train, y_train)\n",
    "\n",
    "print(\"xgboost Score = \", results(classifier))\n",
    "# output = pd.DataFrame({'PassengerId': testing_data.PassengerId, 'Survived': results(classifier)})\n",
    "# output.to_csv('_xgboost.csv', index=False)"
   ]
  },
  {
   "cell_type": "markdown",
   "metadata": {},
   "source": [
    "## catboost"
   ]
  },
  {
   "cell_type": "code",
   "execution_count": 14,
   "metadata": {
    "tags": [
     "outputPrepend"
    ]
   },
   "outputs": [
    {
     "output_type": "stream",
     "name": "stdout",
     "text": "n: 0.4087364\ttotal: 1.22s\tremaining: 710ms\n633:\tlearn: 0.4087281\ttotal: 1.23s\tremaining: 708ms\n634:\tlearn: 0.4087178\ttotal: 1.23s\tremaining: 706ms\n635:\tlearn: 0.4087129\ttotal: 1.23s\tremaining: 704ms\n636:\tlearn: 0.4086668\ttotal: 1.23s\tremaining: 702ms\n637:\tlearn: 0.4086203\ttotal: 1.23s\tremaining: 700ms\n638:\tlearn: 0.4085926\ttotal: 1.24s\tremaining: 698ms\n639:\tlearn: 0.4085540\ttotal: 1.24s\tremaining: 696ms\n640:\tlearn: 0.4085333\ttotal: 1.24s\tremaining: 695ms\n641:\tlearn: 0.4085240\ttotal: 1.24s\tremaining: 693ms\n642:\tlearn: 0.4084580\ttotal: 1.25s\tremaining: 691ms\n643:\tlearn: 0.4084572\ttotal: 1.25s\tremaining: 689ms\n644:\tlearn: 0.4084416\ttotal: 1.25s\tremaining: 688ms\n645:\tlearn: 0.4084416\ttotal: 1.25s\tremaining: 686ms\n646:\tlearn: 0.4084372\ttotal: 1.25s\tremaining: 684ms\n647:\tlearn: 0.4084281\ttotal: 1.26s\tremaining: 683ms\n648:\tlearn: 0.4084233\ttotal: 1.26s\tremaining: 681ms\n649:\tlearn: 0.4084193\ttotal: 1.26s\tremaining: 679ms\n650:\tlearn: 0.4084065\ttotal: 1.26s\tremaining: 677ms\n651:\tlearn: 0.4083675\ttotal: 1.26s\tremaining: 675ms\n652:\tlearn: 0.4083335\ttotal: 1.27s\tremaining: 674ms\n653:\tlearn: 0.4083219\ttotal: 1.27s\tremaining: 672ms\n654:\tlearn: 0.4082966\ttotal: 1.27s\tremaining: 670ms\n655:\tlearn: 0.4082890\ttotal: 1.27s\tremaining: 668ms\n656:\tlearn: 0.4082811\ttotal: 1.28s\tremaining: 667ms\n657:\tlearn: 0.4082237\ttotal: 1.28s\tremaining: 666ms\n658:\tlearn: 0.4081705\ttotal: 1.28s\tremaining: 665ms\n659:\tlearn: 0.4081668\ttotal: 1.29s\tremaining: 663ms\n660:\tlearn: 0.4081044\ttotal: 1.29s\tremaining: 661ms\n661:\tlearn: 0.4081027\ttotal: 1.29s\tremaining: 659ms\n662:\tlearn: 0.4080675\ttotal: 1.29s\tremaining: 658ms\n663:\tlearn: 0.4080450\ttotal: 1.3s\tremaining: 656ms\n664:\tlearn: 0.4080289\ttotal: 1.3s\tremaining: 654ms\n665:\tlearn: 0.4079981\ttotal: 1.3s\tremaining: 652ms\n666:\tlearn: 0.4079845\ttotal: 1.3s\tremaining: 650ms\n667:\tlearn: 0.4079571\ttotal: 1.3s\tremaining: 648ms\n668:\tlearn: 0.4079403\ttotal: 1.31s\tremaining: 646ms\n669:\tlearn: 0.4079381\ttotal: 1.31s\tremaining: 644ms\n670:\tlearn: 0.4079381\ttotal: 1.31s\tremaining: 642ms\n671:\tlearn: 0.4078777\ttotal: 1.31s\tremaining: 641ms\n672:\tlearn: 0.4078777\ttotal: 1.31s\tremaining: 639ms\n673:\tlearn: 0.4078563\ttotal: 1.32s\tremaining: 637ms\n674:\tlearn: 0.4078173\ttotal: 1.32s\tremaining: 636ms\n675:\tlearn: 0.4078173\ttotal: 1.32s\tremaining: 634ms\n676:\tlearn: 0.4078166\ttotal: 1.32s\tremaining: 631ms\n677:\tlearn: 0.4078144\ttotal: 1.32s\tremaining: 629ms\n678:\tlearn: 0.4078045\ttotal: 1.33s\tremaining: 627ms\n679:\tlearn: 0.4077907\ttotal: 1.33s\tremaining: 626ms\n680:\tlearn: 0.4077380\ttotal: 1.33s\tremaining: 624ms\n681:\tlearn: 0.4077342\ttotal: 1.33s\tremaining: 622ms\n682:\tlearn: 0.4076829\ttotal: 1.34s\tremaining: 620ms\n683:\tlearn: 0.4076822\ttotal: 1.34s\tremaining: 618ms\n684:\tlearn: 0.4076818\ttotal: 1.34s\tremaining: 616ms\n685:\tlearn: 0.4076605\ttotal: 1.34s\tremaining: 614ms\n686:\tlearn: 0.4076384\ttotal: 1.34s\tremaining: 612ms\n687:\tlearn: 0.4076034\ttotal: 1.34s\tremaining: 610ms\n688:\tlearn: 0.4075561\ttotal: 1.35s\tremaining: 608ms\n689:\tlearn: 0.4075027\ttotal: 1.35s\tremaining: 606ms\n690:\tlearn: 0.4074661\ttotal: 1.35s\tremaining: 604ms\n691:\tlearn: 0.4073912\ttotal: 1.35s\tremaining: 602ms\n692:\tlearn: 0.4073399\ttotal: 1.35s\tremaining: 600ms\n693:\tlearn: 0.4073102\ttotal: 1.36s\tremaining: 598ms\n694:\tlearn: 0.4072771\ttotal: 1.36s\tremaining: 597ms\n695:\tlearn: 0.4072583\ttotal: 1.36s\tremaining: 595ms\n696:\tlearn: 0.4072360\ttotal: 1.36s\tremaining: 593ms\n697:\tlearn: 0.4072323\ttotal: 1.36s\tremaining: 591ms\n698:\tlearn: 0.4072116\ttotal: 1.37s\tremaining: 589ms\n699:\tlearn: 0.4071696\ttotal: 1.37s\tremaining: 587ms\n700:\tlearn: 0.4071339\ttotal: 1.37s\tremaining: 585ms\n701:\tlearn: 0.4071020\ttotal: 1.37s\tremaining: 583ms\n702:\tlearn: 0.4070994\ttotal: 1.37s\tremaining: 581ms\n703:\tlearn: 0.4070653\ttotal: 1.38s\tremaining: 579ms\n704:\tlearn: 0.4069917\ttotal: 1.38s\tremaining: 577ms\n705:\tlearn: 0.4069908\ttotal: 1.38s\tremaining: 575ms\n706:\tlearn: 0.4069492\ttotal: 1.38s\tremaining: 573ms\n707:\tlearn: 0.4069315\ttotal: 1.38s\tremaining: 571ms\n708:\tlearn: 0.4069302\ttotal: 1.39s\tremaining: 569ms\n709:\tlearn: 0.4069285\ttotal: 1.39s\tremaining: 567ms\n710:\tlearn: 0.4069232\ttotal: 1.39s\tremaining: 565ms\n711:\tlearn: 0.4069188\ttotal: 1.39s\tremaining: 563ms\n712:\tlearn: 0.4068714\ttotal: 1.39s\tremaining: 561ms\n713:\tlearn: 0.4068369\ttotal: 1.4s\tremaining: 559ms\n714:\tlearn: 0.4068243\ttotal: 1.4s\tremaining: 557ms\n715:\tlearn: 0.4067723\ttotal: 1.4s\tremaining: 556ms\n716:\tlearn: 0.4067688\ttotal: 1.4s\tremaining: 553ms\n717:\tlearn: 0.4067373\ttotal: 1.4s\tremaining: 551ms\n718:\tlearn: 0.4067086\ttotal: 1.41s\tremaining: 550ms\n719:\tlearn: 0.4067013\ttotal: 1.41s\tremaining: 549ms\n720:\tlearn: 0.4066852\ttotal: 1.41s\tremaining: 547ms\n721:\tlearn: 0.4066786\ttotal: 1.42s\tremaining: 545ms\n722:\tlearn: 0.4066365\ttotal: 1.42s\tremaining: 543ms\n723:\tlearn: 0.4065950\ttotal: 1.42s\tremaining: 541ms\n724:\tlearn: 0.4065781\ttotal: 1.42s\tremaining: 539ms\n725:\tlearn: 0.4065568\ttotal: 1.42s\tremaining: 538ms\n726:\tlearn: 0.4065400\ttotal: 1.43s\tremaining: 536ms\n727:\tlearn: 0.4065248\ttotal: 1.43s\tremaining: 534ms\n728:\tlearn: 0.4065158\ttotal: 1.43s\tremaining: 532ms\n729:\tlearn: 0.4064756\ttotal: 1.43s\tremaining: 530ms\n730:\tlearn: 0.4064696\ttotal: 1.44s\tremaining: 528ms\n731:\tlearn: 0.4064692\ttotal: 1.44s\tremaining: 526ms\n732:\tlearn: 0.4064493\ttotal: 1.44s\tremaining: 524ms\n733:\tlearn: 0.4064341\ttotal: 1.44s\tremaining: 522ms\n734:\tlearn: 0.4064326\ttotal: 1.44s\tremaining: 520ms\n735:\tlearn: 0.4064016\ttotal: 1.44s\tremaining: 518ms\n736:\tlearn: 0.4063783\ttotal: 1.45s\tremaining: 516ms\n737:\tlearn: 0.4063763\ttotal: 1.45s\tremaining: 515ms\n738:\tlearn: 0.4063662\ttotal: 1.45s\tremaining: 513ms\n739:\tlearn: 0.4063608\ttotal: 1.45s\tremaining: 511ms\n740:\tlearn: 0.4062940\ttotal: 1.46s\tremaining: 509ms\n741:\tlearn: 0.4062850\ttotal: 1.46s\tremaining: 507ms\n742:\tlearn: 0.4062678\ttotal: 1.46s\tremaining: 505ms\n743:\tlearn: 0.4061967\ttotal: 1.46s\tremaining: 503ms\n744:\tlearn: 0.4061534\ttotal: 1.46s\tremaining: 500ms\n745:\tlearn: 0.4061465\ttotal: 1.46s\tremaining: 498ms\n746:\tlearn: 0.4061225\ttotal: 1.46s\tremaining: 496ms\n747:\tlearn: 0.4060837\ttotal: 1.47s\tremaining: 494ms\n748:\tlearn: 0.4060653\ttotal: 1.47s\tremaining: 492ms\n749:\tlearn: 0.4060327\ttotal: 1.47s\tremaining: 490ms\n750:\tlearn: 0.4060025\ttotal: 1.47s\tremaining: 488ms\n751:\tlearn: 0.4059885\ttotal: 1.47s\tremaining: 485ms\n752:\tlearn: 0.4059413\ttotal: 1.47s\tremaining: 483ms\n753:\tlearn: 0.4059384\ttotal: 1.47s\tremaining: 481ms\n754:\tlearn: 0.4058811\ttotal: 1.48s\tremaining: 479ms\n755:\tlearn: 0.4058584\ttotal: 1.48s\tremaining: 477ms\n756:\tlearn: 0.4058464\ttotal: 1.48s\tremaining: 475ms\n757:\tlearn: 0.4058362\ttotal: 1.48s\tremaining: 473ms\n758:\tlearn: 0.4058362\ttotal: 1.48s\tremaining: 471ms\n759:\tlearn: 0.4058317\ttotal: 1.48s\tremaining: 468ms\n760:\tlearn: 0.4058311\ttotal: 1.48s\tremaining: 466ms\n761:\tlearn: 0.4057937\ttotal: 1.49s\tremaining: 464ms\n762:\tlearn: 0.4057840\ttotal: 1.49s\tremaining: 462ms\n763:\tlearn: 0.4057524\ttotal: 1.49s\tremaining: 460ms\n764:\tlearn: 0.4057285\ttotal: 1.49s\tremaining: 458ms\n765:\tlearn: 0.4056762\ttotal: 1.49s\tremaining: 456ms\n766:\tlearn: 0.4056624\ttotal: 1.49s\tremaining: 454ms\n767:\tlearn: 0.4056075\ttotal: 1.5s\tremaining: 452ms\n768:\tlearn: 0.4055991\ttotal: 1.5s\tremaining: 450ms\n769:\tlearn: 0.4055652\ttotal: 1.5s\tremaining: 448ms\n770:\tlearn: 0.4055446\ttotal: 1.5s\tremaining: 446ms\n771:\tlearn: 0.4055308\ttotal: 1.5s\tremaining: 443ms\n772:\tlearn: 0.4055201\ttotal: 1.5s\tremaining: 441ms\n773:\tlearn: 0.4054755\ttotal: 1.5s\tremaining: 439ms\n774:\tlearn: 0.4054054\ttotal: 1.5s\tremaining: 437ms\n775:\tlearn: 0.4053537\ttotal: 1.51s\tremaining: 435ms\n776:\tlearn: 0.4053435\ttotal: 1.51s\tremaining: 433ms\n777:\tlearn: 0.4053285\ttotal: 1.51s\tremaining: 431ms\n778:\tlearn: 0.4053096\ttotal: 1.51s\tremaining: 429ms\n779:\tlearn: 0.4052935\ttotal: 1.51s\tremaining: 427ms\n780:\tlearn: 0.4052878\ttotal: 1.51s\tremaining: 425ms\n781:\tlearn: 0.4052249\ttotal: 1.52s\tremaining: 423ms\n782:\tlearn: 0.4051816\ttotal: 1.52s\tremaining: 421ms\n783:\tlearn: 0.4051640\ttotal: 1.52s\tremaining: 419ms\n784:\tlearn: 0.4051152\ttotal: 1.52s\tremaining: 417ms\n785:\tlearn: 0.4050481\ttotal: 1.52s\tremaining: 415ms\n786:\tlearn: 0.4050413\ttotal: 1.53s\tremaining: 413ms\n787:\tlearn: 0.4049877\ttotal: 1.53s\tremaining: 412ms\n788:\tlearn: 0.4049482\ttotal: 1.53s\tremaining: 410ms\n789:\tlearn: 0.4049360\ttotal: 1.53s\tremaining: 408ms\n790:\tlearn: 0.4049284\ttotal: 1.54s\tremaining: 406ms\n791:\tlearn: 0.4048803\ttotal: 1.54s\tremaining: 404ms\n792:\tlearn: 0.4048157\ttotal: 1.54s\tremaining: 402ms\n793:\tlearn: 0.4047522\ttotal: 1.54s\tremaining: 400ms\n794:\tlearn: 0.4047321\ttotal: 1.54s\tremaining: 398ms\n795:\tlearn: 0.4046678\ttotal: 1.54s\tremaining: 396ms\n796:\tlearn: 0.4046355\ttotal: 1.54s\tremaining: 394ms\n797:\tlearn: 0.4045974\ttotal: 1.55s\tremaining: 392ms\n798:\tlearn: 0.4045887\ttotal: 1.55s\tremaining: 390ms\n799:\tlearn: 0.4045785\ttotal: 1.55s\tremaining: 388ms\n800:\tlearn: 0.4045175\ttotal: 1.55s\tremaining: 386ms\n801:\tlearn: 0.4045089\ttotal: 1.56s\tremaining: 384ms\n802:\tlearn: 0.4044855\ttotal: 1.56s\tremaining: 382ms\n803:\tlearn: 0.4044646\ttotal: 1.56s\tremaining: 380ms\n804:\tlearn: 0.4044442\ttotal: 1.56s\tremaining: 378ms\n805:\tlearn: 0.4044230\ttotal: 1.56s\tremaining: 376ms\n806:\tlearn: 0.4044062\ttotal: 1.56s\tremaining: 374ms\n807:\tlearn: 0.4043898\ttotal: 1.57s\tremaining: 372ms\n808:\tlearn: 0.4043279\ttotal: 1.57s\tremaining: 370ms\n809:\tlearn: 0.4043128\ttotal: 1.57s\tremaining: 368ms\n810:\tlearn: 0.4042791\ttotal: 1.57s\tremaining: 366ms\n811:\tlearn: 0.4042754\ttotal: 1.57s\tremaining: 364ms\n812:\tlearn: 0.4042574\ttotal: 1.57s\tremaining: 362ms\n813:\tlearn: 0.4042311\ttotal: 1.58s\tremaining: 360ms\n814:\tlearn: 0.4041939\ttotal: 1.58s\tremaining: 358ms\n815:\tlearn: 0.4041628\ttotal: 1.58s\tremaining: 356ms\n816:\tlearn: 0.4041182\ttotal: 1.58s\tremaining: 354ms\n817:\tlearn: 0.4040590\ttotal: 1.58s\tremaining: 352ms\n818:\tlearn: 0.4040450\ttotal: 1.58s\tremaining: 350ms\n819:\tlearn: 0.4040174\ttotal: 1.59s\tremaining: 348ms\n820:\tlearn: 0.4039869\ttotal: 1.59s\tremaining: 346ms\n821:\tlearn: 0.4039290\ttotal: 1.59s\tremaining: 344ms\n822:\tlearn: 0.4039129\ttotal: 1.59s\tremaining: 342ms\n823:\tlearn: 0.4039083\ttotal: 1.59s\tremaining: 340ms\n824:\tlearn: 0.4038492\ttotal: 1.59s\tremaining: 338ms\n825:\tlearn: 0.4038430\ttotal: 1.59s\tremaining: 336ms\n826:\tlearn: 0.4038137\ttotal: 1.6s\tremaining: 334ms\n827:\tlearn: 0.4038000\ttotal: 1.6s\tremaining: 332ms\n828:\tlearn: 0.4037530\ttotal: 1.6s\tremaining: 330ms\n829:\tlearn: 0.4037321\ttotal: 1.6s\tremaining: 328ms\n830:\tlearn: 0.4036963\ttotal: 1.6s\tremaining: 326ms\n831:\tlearn: 0.4036864\ttotal: 1.6s\tremaining: 324ms\n832:\tlearn: 0.4036719\ttotal: 1.61s\tremaining: 322ms\n833:\tlearn: 0.4036157\ttotal: 1.61s\tremaining: 320ms\n834:\tlearn: 0.4035987\ttotal: 1.61s\tremaining: 318ms\n835:\tlearn: 0.4035833\ttotal: 1.61s\tremaining: 316ms\n836:\tlearn: 0.4035811\ttotal: 1.61s\tremaining: 314ms\n837:\tlearn: 0.4035759\ttotal: 1.61s\tremaining: 312ms\n838:\tlearn: 0.4035231\ttotal: 1.62s\tremaining: 310ms\n839:\tlearn: 0.4034785\ttotal: 1.62s\tremaining: 308ms\n840:\tlearn: 0.4034635\ttotal: 1.62s\tremaining: 306ms\n841:\tlearn: 0.4034435\ttotal: 1.62s\tremaining: 304ms\n842:\tlearn: 0.4034265\ttotal: 1.62s\tremaining: 302ms\n843:\tlearn: 0.4033959\ttotal: 1.62s\tremaining: 300ms\n844:\tlearn: 0.4033757\ttotal: 1.63s\tremaining: 298ms\n845:\tlearn: 0.4033723\ttotal: 1.63s\tremaining: 296ms\n846:\tlearn: 0.4033474\ttotal: 1.63s\tremaining: 294ms\n847:\tlearn: 0.4033408\ttotal: 1.63s\tremaining: 292ms\n848:\tlearn: 0.4032997\ttotal: 1.63s\tremaining: 290ms\n849:\tlearn: 0.4032610\ttotal: 1.63s\tremaining: 288ms\n850:\tlearn: 0.4032469\ttotal: 1.63s\tremaining: 286ms\n851:\tlearn: 0.4032301\ttotal: 1.64s\tremaining: 284ms\n852:\tlearn: 0.4032134\ttotal: 1.64s\tremaining: 282ms\n853:\tlearn: 0.4031644\ttotal: 1.64s\tremaining: 280ms\n854:\tlearn: 0.4031410\ttotal: 1.64s\tremaining: 278ms\n855:\tlearn: 0.4031056\ttotal: 1.64s\tremaining: 276ms\n856:\tlearn: 0.4030897\ttotal: 1.64s\tremaining: 274ms\n857:\tlearn: 0.4030679\ttotal: 1.64s\tremaining: 272ms\n858:\tlearn: 0.4030288\ttotal: 1.65s\tremaining: 270ms\n859:\tlearn: 0.4030254\ttotal: 1.65s\tremaining: 268ms\n860:\tlearn: 0.4030110\ttotal: 1.65s\tremaining: 266ms\n861:\tlearn: 0.4029763\ttotal: 1.65s\tremaining: 264ms\n862:\tlearn: 0.4029625\ttotal: 1.65s\tremaining: 262ms\n863:\tlearn: 0.4029387\ttotal: 1.65s\tremaining: 260ms\n864:\tlearn: 0.4029245\ttotal: 1.66s\tremaining: 258ms\n865:\tlearn: 0.4028955\ttotal: 1.66s\tremaining: 256ms\n866:\tlearn: 0.4028816\ttotal: 1.66s\tremaining: 254ms\n867:\tlearn: 0.4028666\ttotal: 1.66s\tremaining: 252ms\n868:\tlearn: 0.4028552\ttotal: 1.66s\tremaining: 250ms\n869:\tlearn: 0.4028435\ttotal: 1.66s\tremaining: 248ms\n870:\tlearn: 0.4028374\ttotal: 1.66s\tremaining: 246ms\n871:\tlearn: 0.4028167\ttotal: 1.67s\tremaining: 245ms\n872:\tlearn: 0.4027764\ttotal: 1.67s\tremaining: 243ms\n873:\tlearn: 0.4027613\ttotal: 1.67s\tremaining: 241ms\n874:\tlearn: 0.4027450\ttotal: 1.67s\tremaining: 239ms\n875:\tlearn: 0.4026978\ttotal: 1.67s\tremaining: 237ms\n876:\tlearn: 0.4026616\ttotal: 1.67s\tremaining: 235ms\n877:\tlearn: 0.4026552\ttotal: 1.68s\tremaining: 233ms\n878:\tlearn: 0.4026408\ttotal: 1.68s\tremaining: 231ms\n879:\tlearn: 0.4026079\ttotal: 1.68s\tremaining: 229ms\n880:\tlearn: 0.4025935\ttotal: 1.68s\tremaining: 227ms\n881:\tlearn: 0.4025566\ttotal: 1.68s\tremaining: 225ms\n882:\tlearn: 0.4025386\ttotal: 1.69s\tremaining: 223ms\n883:\tlearn: 0.4025245\ttotal: 1.69s\tremaining: 221ms\n884:\tlearn: 0.4024978\ttotal: 1.69s\tremaining: 219ms\n885:\tlearn: 0.4024713\ttotal: 1.69s\tremaining: 217ms\n886:\tlearn: 0.4024277\ttotal: 1.69s\tremaining: 215ms\n887:\tlearn: 0.4023964\ttotal: 1.69s\tremaining: 213ms\n888:\tlearn: 0.4023905\ttotal: 1.69s\tremaining: 212ms\n889:\tlearn: 0.4023703\ttotal: 1.7s\tremaining: 210ms\n890:\tlearn: 0.4023469\ttotal: 1.7s\tremaining: 208ms\n891:\tlearn: 0.4023326\ttotal: 1.7s\tremaining: 206ms\n892:\tlearn: 0.4023163\ttotal: 1.7s\tremaining: 204ms\n893:\tlearn: 0.4023012\ttotal: 1.7s\tremaining: 202ms\n894:\tlearn: 0.4022766\ttotal: 1.7s\tremaining: 200ms\n895:\tlearn: 0.4022544\ttotal: 1.71s\tremaining: 198ms\n896:\tlearn: 0.4022421\ttotal: 1.71s\tremaining: 196ms\n897:\tlearn: 0.4022236\ttotal: 1.71s\tremaining: 194ms\n898:\tlearn: 0.4022021\ttotal: 1.71s\tremaining: 193ms\n899:\tlearn: 0.4021803\ttotal: 1.72s\tremaining: 191ms\n900:\tlearn: 0.4021672\ttotal: 1.72s\tremaining: 189ms\n901:\tlearn: 0.4021404\ttotal: 1.72s\tremaining: 187ms\n902:\tlearn: 0.4021398\ttotal: 1.72s\tremaining: 185ms\n903:\tlearn: 0.4021184\ttotal: 1.72s\tremaining: 183ms\n904:\tlearn: 0.4021099\ttotal: 1.72s\tremaining: 181ms\n905:\tlearn: 0.4021027\ttotal: 1.73s\tremaining: 179ms\n906:\tlearn: 0.4020659\ttotal: 1.73s\tremaining: 177ms\n907:\tlearn: 0.4020148\ttotal: 1.73s\tremaining: 175ms\n908:\tlearn: 0.4019880\ttotal: 1.73s\tremaining: 173ms\n909:\tlearn: 0.4019859\ttotal: 1.73s\tremaining: 171ms\n910:\tlearn: 0.4019722\ttotal: 1.73s\tremaining: 169ms\n911:\tlearn: 0.4019559\ttotal: 1.74s\tremaining: 167ms\n912:\tlearn: 0.4019429\ttotal: 1.74s\tremaining: 166ms\n913:\tlearn: 0.4019061\ttotal: 1.74s\tremaining: 164ms\n914:\tlearn: 0.4018793\ttotal: 1.74s\tremaining: 162ms\n915:\tlearn: 0.4018685\ttotal: 1.74s\tremaining: 160ms\n916:\tlearn: 0.4018560\ttotal: 1.74s\tremaining: 158ms\n917:\tlearn: 0.4018301\ttotal: 1.75s\tremaining: 156ms\n918:\tlearn: 0.4018269\ttotal: 1.75s\tremaining: 154ms\n919:\tlearn: 0.4018151\ttotal: 1.75s\tremaining: 152ms\n920:\tlearn: 0.4017761\ttotal: 1.75s\tremaining: 150ms\n921:\tlearn: 0.4017300\ttotal: 1.75s\tremaining: 148ms\n922:\tlearn: 0.4017193\ttotal: 1.75s\tremaining: 146ms\n923:\tlearn: 0.4017069\ttotal: 1.75s\tremaining: 144ms\n924:\tlearn: 0.4016956\ttotal: 1.76s\tremaining: 142ms\n925:\tlearn: 0.4016671\ttotal: 1.76s\tremaining: 141ms\n926:\tlearn: 0.4016559\ttotal: 1.76s\tremaining: 139ms\n927:\tlearn: 0.4016492\ttotal: 1.76s\tremaining: 137ms\n928:\tlearn: 0.4016378\ttotal: 1.76s\tremaining: 135ms\n929:\tlearn: 0.4016273\ttotal: 1.76s\tremaining: 133ms\n930:\tlearn: 0.4016225\ttotal: 1.77s\tremaining: 131ms\n931:\tlearn: 0.4016109\ttotal: 1.77s\tremaining: 129ms\n932:\tlearn: 0.4015869\ttotal: 1.77s\tremaining: 127ms\n933:\tlearn: 0.4015748\ttotal: 1.77s\tremaining: 125ms\n934:\tlearn: 0.4015631\ttotal: 1.77s\tremaining: 123ms\n935:\tlearn: 0.4015354\ttotal: 1.77s\tremaining: 121ms\n936:\tlearn: 0.4015251\ttotal: 1.78s\tremaining: 119ms\n937:\tlearn: 0.4014760\ttotal: 1.78s\tremaining: 118ms\n938:\tlearn: 0.4014449\ttotal: 1.78s\tremaining: 116ms\n939:\tlearn: 0.4014420\ttotal: 1.78s\tremaining: 114ms\n940:\tlearn: 0.4014315\ttotal: 1.78s\tremaining: 112ms\n941:\tlearn: 0.4013877\ttotal: 1.78s\tremaining: 110ms\n942:\tlearn: 0.4013447\ttotal: 1.79s\tremaining: 108ms\n943:\tlearn: 0.4013342\ttotal: 1.79s\tremaining: 106ms\n944:\tlearn: 0.4013136\ttotal: 1.79s\tremaining: 104ms\n945:\tlearn: 0.4013033\ttotal: 1.79s\tremaining: 102ms\n946:\tlearn: 0.4012844\ttotal: 1.79s\tremaining: 100ms\n947:\tlearn: 0.4012720\ttotal: 1.79s\tremaining: 98.4ms\n948:\tlearn: 0.4012479\ttotal: 1.8s\tremaining: 96.6ms\n949:\tlearn: 0.4012137\ttotal: 1.8s\tremaining: 94.7ms\n950:\tlearn: 0.4011808\ttotal: 1.8s\tremaining: 92.8ms\n951:\tlearn: 0.4011513\ttotal: 1.8s\tremaining: 90.9ms\n952:\tlearn: 0.4011180\ttotal: 1.8s\tremaining: 89ms\n953:\tlearn: 0.4011079\ttotal: 1.81s\tremaining: 87.1ms\n954:\tlearn: 0.4010893\ttotal: 1.81s\tremaining: 85.2ms\n955:\tlearn: 0.4010686\ttotal: 1.81s\tremaining: 83.3ms\n956:\tlearn: 0.4010432\ttotal: 1.81s\tremaining: 81.4ms\n957:\tlearn: 0.4010144\ttotal: 1.81s\tremaining: 79.5ms\n958:\tlearn: 0.4009837\ttotal: 1.81s\tremaining: 77.5ms\n959:\tlearn: 0.4009592\ttotal: 1.81s\tremaining: 75.6ms\n960:\tlearn: 0.4009363\ttotal: 1.82s\tremaining: 73.7ms\n961:\tlearn: 0.4009283\ttotal: 1.82s\tremaining: 71.8ms\n962:\tlearn: 0.4009047\ttotal: 1.82s\tremaining: 69.9ms\n963:\tlearn: 0.4008873\ttotal: 1.82s\tremaining: 68ms\n964:\tlearn: 0.4008644\ttotal: 1.82s\tremaining: 66.1ms\n965:\tlearn: 0.4008300\ttotal: 1.82s\tremaining: 64.2ms\n966:\tlearn: 0.4008193\ttotal: 1.83s\tremaining: 62.3ms\n967:\tlearn: 0.4008007\ttotal: 1.83s\tremaining: 60.4ms\n968:\tlearn: 0.4007910\ttotal: 1.83s\tremaining: 58.5ms\n969:\tlearn: 0.4007808\ttotal: 1.83s\tremaining: 56.6ms\n970:\tlearn: 0.4007717\ttotal: 1.83s\tremaining: 54.7ms\n971:\tlearn: 0.4007532\ttotal: 1.83s\tremaining: 52.8ms\n972:\tlearn: 0.4007428\ttotal: 1.83s\tremaining: 50.9ms\n973:\tlearn: 0.4007303\ttotal: 1.84s\tremaining: 49ms\n974:\tlearn: 0.4007200\ttotal: 1.84s\tremaining: 47.2ms\n975:\tlearn: 0.4007099\ttotal: 1.84s\tremaining: 45.3ms\n976:\tlearn: 0.4006780\ttotal: 1.84s\tremaining: 43.4ms\n977:\tlearn: 0.4006590\ttotal: 1.84s\tremaining: 41.5ms\n978:\tlearn: 0.4006496\ttotal: 1.85s\tremaining: 39.6ms\n979:\tlearn: 0.4006397\ttotal: 1.85s\tremaining: 37.7ms\n980:\tlearn: 0.4006202\ttotal: 1.85s\tremaining: 35.8ms\n981:\tlearn: 0.4006103\ttotal: 1.85s\tremaining: 33.9ms\n982:\tlearn: 0.4006024\ttotal: 1.85s\tremaining: 32ms\n983:\tlearn: 0.4005619\ttotal: 1.85s\tremaining: 30.1ms\n984:\tlearn: 0.4005529\ttotal: 1.85s\tremaining: 28.3ms\n985:\tlearn: 0.4005374\ttotal: 1.86s\tremaining: 26.4ms\n986:\tlearn: 0.4005278\ttotal: 1.86s\tremaining: 24.5ms\n987:\tlearn: 0.4005247\ttotal: 1.86s\tremaining: 22.6ms\n988:\tlearn: 0.4005121\ttotal: 1.86s\tremaining: 20.7ms\n989:\tlearn: 0.4004818\ttotal: 1.86s\tremaining: 18.8ms\n990:\tlearn: 0.4004606\ttotal: 1.86s\tremaining: 16.9ms\n991:\tlearn: 0.4004328\ttotal: 1.87s\tremaining: 15.1ms\n992:\tlearn: 0.4004252\ttotal: 1.87s\tremaining: 13.2ms\n993:\tlearn: 0.4004151\ttotal: 1.87s\tremaining: 11.3ms\n994:\tlearn: 0.4004110\ttotal: 1.87s\tremaining: 9.4ms\n995:\tlearn: 0.4004027\ttotal: 1.87s\tremaining: 7.53ms\n996:\tlearn: 0.4003795\ttotal: 1.88s\tremaining: 5.64ms\n997:\tlearn: 0.4003596\ttotal: 1.88s\tremaining: 3.77ms\n998:\tlearn: 0.4003323\ttotal: 1.88s\tremaining: 1.88ms\n999:\tlearn: 0.4003202\ttotal: 1.88s\tremaining: 0us\nCatboost Score =  [0 1 0 0 1 0 1 0 1 0 0 0 1 0 1 1 0 0 1 1 0 0 1 0 1 0 1 0 0 0 0 0 0 0 0 0 1\n 1 0 0 0 0 0 1 1 0 0 0 1 1 0 0 1 1 0 0 0 0 0 1 0 0 0 1 1 1 1 0 0 1 1 0 1 0\n 1 0 0 1 0 1 0 0 0 0 0 0 1 1 1 0 1 0 1 0 0 0 1 0 1 0 1 0 0 0 1 0 0 0 0 0 0\n 1 1 1 1 0 0 1 0 1 1 0 1 0 0 1 0 1 0 0 0 0 0 0 0 0 0 0 1 0 0 1 0 0 0 0 0 0\n 0 0 1 0 0 1 0 0 1 1 0 1 1 0 1 0 0 1 0 0 1 1 0 0 0 0 0 1 1 0 1 1 0 0 1 0 1\n 0 1 0 0 0 0 0 0 0 1 0 1 1 0 1 1 0 0 1 0 0 1 0 1 0 0 0 0 1 0 0 1 0 1 0 1 0\n 1 0 1 1 0 1 0 0 0 1 0 0 0 0 0 0 1 1 1 1 0 0 0 0 1 0 1 1 1 0 0 0 0 0 0 0 1\n 0 0 0 1 1 0 0 0 0 1 0 0 0 1 1 0 1 0 0 0 0 1 0 1 1 1 0 0 0 0 0 0 1 0 0 0 0\n 1 0 0 0 0 0 0 0 1 1 1 0 0 1 0 0 0 1 1 1 0 0 0 0 0 0 0 0 1 0 1 0 0 0 1 0 0\n 1 0 0 0 0 0 0 0 0 0 1 0 1 0 1 0 1 1 0 0 0 0 0 1 0 0 1 0 1 1 0 1 0 0 1 1 0\n 0 1 0 0 1 1 1 0 0 0 0 0 1 1 0 1 0 0 0 0 0 1 0 0 0 1 0 1 0 0 1 0 1 0 0 0 0\n 0 1 1 1 1 1 0 1 0 0 0]\n"
    }
   ],
   "source": [
    "from catboost import CatBoostClassifier\n",
    "classifier = CatBoostClassifier()\n",
    "classifier.fit(X_train, y_train)\n",
    "print(\"Catboost Score = \", results(classifier))\n",
    "# output = pd.DataFrame({'PassengerId': testing_data.PassengerId, 'Survived': results(classifier)})\n",
    "# output.to_csv('_catboost.csv', index=False)"
   ]
  },
  {
   "cell_type": "markdown",
   "metadata": {},
   "source": [
    "## gridSearch"
   ]
  },
  {
   "cell_type": "code",
   "execution_count": 15,
   "metadata": {},
   "outputs": [
    {
     "output_type": "execute_result",
     "data": {
      "text/plain": "array([0, 1, 0, 0, 1, 0, 1, 0, 1, 0, 0, 0, 1, 0, 1, 1, 0, 0, 1, 1, 0, 0,\n       1, 0, 1, 0, 1, 0, 0, 0, 0, 0, 1, 1, 0, 0, 1, 1, 0, 0, 0, 0, 0, 1,\n       1, 0, 0, 0, 1, 1, 0, 0, 1, 1, 0, 0, 0, 0, 0, 1, 0, 0, 0, 1, 0, 1,\n       1, 0, 0, 1, 1, 0, 1, 0, 1, 0, 0, 1, 0, 1, 0, 0, 0, 0, 0, 0, 1, 1,\n       1, 0, 1, 0, 1, 0, 0, 0, 1, 0, 1, 0, 1, 0, 0, 0, 1, 0, 0, 0, 0, 0,\n       0, 1, 1, 1, 1, 0, 0, 1, 0, 1, 1, 0, 1, 0, 0, 1, 0, 1, 0, 0, 0, 0,\n       0, 0, 0, 0, 0, 0, 1, 0, 0, 1, 0, 0, 0, 0, 0, 0, 0, 0, 1, 0, 0, 1,\n       0, 0, 1, 1, 0, 1, 1, 0, 1, 0, 0, 1, 0, 0, 1, 1, 0, 0, 0, 0, 0, 1,\n       1, 0, 1, 1, 0, 0, 1, 0, 1, 0, 1, 0, 0, 0, 0, 0, 0, 0, 0, 0, 0, 1,\n       0, 1, 1, 0, 0, 1, 0, 0, 1, 0, 1, 0, 0, 0, 0, 1, 0, 0, 1, 0, 1, 0,\n       1, 0, 1, 0, 1, 1, 0, 1, 0, 0, 0, 1, 0, 0, 0, 0, 0, 0, 1, 1, 1, 1,\n       0, 0, 0, 0, 1, 0, 1, 1, 1, 0, 0, 0, 0, 0, 0, 0, 1, 0, 0, 0, 1, 1,\n       0, 0, 0, 0, 1, 0, 0, 0, 1, 1, 0, 1, 0, 0, 0, 0, 1, 0, 1, 1, 1, 0,\n       0, 0, 0, 0, 0, 1, 0, 0, 0, 0, 1, 0, 0, 0, 0, 0, 0, 0, 1, 1, 0, 0,\n       0, 1, 0, 0, 0, 1, 1, 1, 0, 0, 0, 0, 0, 0, 0, 0, 1, 0, 1, 0, 0, 0,\n       1, 0, 0, 1, 0, 0, 0, 0, 0, 0, 0, 0, 0, 1, 0, 1, 0, 1, 0, 1, 1, 0,\n       0, 0, 1, 0, 1, 0, 0, 1, 0, 1, 1, 0, 1, 0, 0, 1, 1, 0, 0, 1, 0, 0,\n       1, 1, 1, 0, 0, 0, 0, 0, 1, 1, 0, 1, 0, 0, 0, 0, 0, 1, 0, 0, 0, 1,\n       0, 1, 0, 0, 1, 0, 1, 0, 0, 0, 0, 0, 1, 1, 1, 1, 1, 0, 1, 0, 0, 0],\n      dtype=int64)"
     },
     "metadata": {},
     "execution_count": 15
    }
   ],
   "source": [
    "from sklearn.svm import SVC\n",
    "classifier = SVC(kernel = 'rbf', random_state = 0)\n",
    "classifier.fit(X_train, y_train.ravel())\n",
    "from sklearn.model_selection import GridSearchCV\n",
    "parameters = [{'C': [0.1, 0.2, 0.3, 0.4, 0.5, 0.6, 0.7, 0.8, 0.9, 1], 'kernel': ['linear']},\n",
    "                {'C': [0.1, 0.2, 0.3, 0.4, 0.5, 0.6, 0.7, 0.8, 0.9, 1], 'kernel': ['rbf'], 'gamma': [0.1, 0.2, 0.3, 0.4, 0.5, 0.6, 0.7, 0.8, 0.9]}]\n",
    "grid_search = GridSearchCV(estimator = classifier,\n",
    "                           param_grid = parameters,\n",
    "                            scoring = 'accuracy',\n",
    "                            cv = 10,\n",
    "                            n_jobs = -1)\n",
    "grid_search.fit(X_train, y_train.ravel())\n",
    "results(grid_search)"
   ]
  },
  {
   "cell_type": "markdown",
   "metadata": {},
   "source": [
    "## ANN"
   ]
  },
  {
   "cell_type": "code",
   "execution_count": 17,
   "metadata": {
    "tags": []
   },
   "outputs": [
    {
     "output_type": "stream",
     "name": "stdout",
     "text": "Epoch 1/100\n28/28 [==============================] - 0s 11ms/step - loss: 0.6651 - accuracy: 0.6128\nEpoch 2/100\n28/28 [==============================] - 0s 9ms/step - loss: 0.6058 - accuracy: 0.6162\nEpoch 3/100\n28/28 [==============================] - 0s 7ms/step - loss: 0.5679 - accuracy: 0.6162\nEpoch 4/100\n28/28 [==============================] - 0s 7ms/step - loss: 0.5488 - accuracy: 0.7127\nEpoch 5/100\n28/28 [==============================] - 0s 7ms/step - loss: 0.5403 - accuracy: 0.7733\nEpoch 6/100\n28/28 [==============================] - 0s 9ms/step - loss: 0.5341 - accuracy: 0.7800\nEpoch 7/100\n28/28 [==============================] - 0s 7ms/step - loss: 0.5289 - accuracy: 0.7890\nEpoch 8/100\n28/28 [==============================] - 0s 7ms/step - loss: 0.5245 - accuracy: 0.7868\nEpoch 9/100\n28/28 [==============================] - 0s 7ms/step - loss: 0.5202 - accuracy: 0.7912\nEpoch 10/100\n28/28 [==============================] - 0s 9ms/step - loss: 0.5164 - accuracy: 0.7901\nEpoch 11/100\n28/28 [==============================] - 0s 9ms/step - loss: 0.5106 - accuracy: 0.7924\nEpoch 12/100\n28/28 [==============================] - 0s 8ms/step - loss: 0.5074 - accuracy: 0.7935\nEpoch 13/100\n28/28 [==============================] - 0s 7ms/step - loss: 0.5014 - accuracy: 0.7957\nEpoch 14/100\n28/28 [==============================] - 0s 8ms/step - loss: 0.4984 - accuracy: 0.7946\nEpoch 15/100\n28/28 [==============================] - 0s 7ms/step - loss: 0.4933 - accuracy: 0.7946\nEpoch 16/100\n28/28 [==============================] - 0s 7ms/step - loss: 0.4872 - accuracy: 0.7991\nEpoch 17/100\n28/28 [==============================] - 0s 8ms/step - loss: 0.4833 - accuracy: 0.8047\nEpoch 18/100\n28/28 [==============================] - 0s 7ms/step - loss: 0.4794 - accuracy: 0.7980\nEpoch 19/100\n28/28 [==============================] - 0s 10ms/step - loss: 0.4749 - accuracy: 0.7991\nEpoch 20/100\n28/28 [==============================] - 0s 8ms/step - loss: 0.4695 - accuracy: 0.8013\nEpoch 21/100\n28/28 [==============================] - 0s 10ms/step - loss: 0.4661 - accuracy: 0.8013\nEpoch 22/100\n28/28 [==============================] - 0s 10ms/step - loss: 0.4629 - accuracy: 0.8013\nEpoch 23/100\n28/28 [==============================] - 0s 10ms/step - loss: 0.4618 - accuracy: 0.7991\nEpoch 24/100\n28/28 [==============================] - 0s 9ms/step - loss: 0.4554 - accuracy: 0.8002\nEpoch 25/100\n28/28 [==============================] - 0s 7ms/step - loss: 0.4545 - accuracy: 0.8013\nEpoch 26/100\n28/28 [==============================] - 0s 11ms/step - loss: 0.4535 - accuracy: 0.7991\nEpoch 27/100\n28/28 [==============================] - 0s 8ms/step - loss: 0.4536 - accuracy: 0.8002\nEpoch 28/100\n28/28 [==============================] - 0s 7ms/step - loss: 0.4472 - accuracy: 0.8036\nEpoch 29/100\n28/28 [==============================] - 0s 7ms/step - loss: 0.4452 - accuracy: 0.8081\nEpoch 30/100\n28/28 [==============================] - 0s 8ms/step - loss: 0.4473 - accuracy: 0.8002\nEpoch 31/100\n28/28 [==============================] - 0s 9ms/step - loss: 0.4416 - accuracy: 0.8036\nEpoch 32/100\n28/28 [==============================] - 0s 9ms/step - loss: 0.4413 - accuracy: 0.8058\nEpoch 33/100\n28/28 [==============================] - 0s 7ms/step - loss: 0.4414 - accuracy: 0.8025\nEpoch 34/100\n28/28 [==============================] - 0s 7ms/step - loss: 0.4390 - accuracy: 0.8070\nEpoch 35/100\n28/28 [==============================] - 0s 9ms/step - loss: 0.4372 - accuracy: 0.8070\nEpoch 36/100\n28/28 [==============================] - 0s 7ms/step - loss: 0.4358 - accuracy: 0.8047\nEpoch 37/100\n28/28 [==============================] - 0s 7ms/step - loss: 0.4348 - accuracy: 0.8114\nEpoch 38/100\n28/28 [==============================] - 0s 7ms/step - loss: 0.4335 - accuracy: 0.8070\nEpoch 39/100\n28/28 [==============================] - 0s 8ms/step - loss: 0.4329 - accuracy: 0.8070\nEpoch 40/100\n28/28 [==============================] - 0s 8ms/step - loss: 0.4327 - accuracy: 0.8058\nEpoch 41/100\n28/28 [==============================] - 0s 11ms/step - loss: 0.4324 - accuracy: 0.8092\nEpoch 42/100\n28/28 [==============================] - 0s 9ms/step - loss: 0.4325 - accuracy: 0.8092\nEpoch 43/100\n28/28 [==============================] - 0s 9ms/step - loss: 0.4308 - accuracy: 0.8081\nEpoch 44/100\n28/28 [==============================] - 0s 9ms/step - loss: 0.4357 - accuracy: 0.8047\nEpoch 45/100\n28/28 [==============================] - 0s 8ms/step - loss: 0.4304 - accuracy: 0.8047\nEpoch 46/100\n28/28 [==============================] - 0s 7ms/step - loss: 0.4284 - accuracy: 0.8081\nEpoch 47/100\n28/28 [==============================] - 0s 8ms/step - loss: 0.4304 - accuracy: 0.8114\nEpoch 48/100\n28/28 [==============================] - 0s 9ms/step - loss: 0.4291 - accuracy: 0.8047\nEpoch 49/100\n28/28 [==============================] - 0s 8ms/step - loss: 0.4303 - accuracy: 0.8081\nEpoch 50/100\n28/28 [==============================] - 0s 7ms/step - loss: 0.4279 - accuracy: 0.8070\nEpoch 51/100\n28/28 [==============================] - 0s 7ms/step - loss: 0.4268 - accuracy: 0.8103\nEpoch 52/100\n28/28 [==============================] - 0s 9ms/step - loss: 0.4271 - accuracy: 0.8081\nEpoch 53/100\n28/28 [==============================] - 0s 7ms/step - loss: 0.4260 - accuracy: 0.8070\nEpoch 54/100\n28/28 [==============================] - 0s 8ms/step - loss: 0.4271 - accuracy: 0.8081\nEpoch 55/100\n28/28 [==============================] - 0s 10ms/step - loss: 0.4260 - accuracy: 0.8137\nEpoch 56/100\n28/28 [==============================] - 0s 8ms/step - loss: 0.4245 - accuracy: 0.8092\nEpoch 57/100\n28/28 [==============================] - 0s 8ms/step - loss: 0.4247 - accuracy: 0.8081\nEpoch 58/100\n28/28 [==============================] - 0s 8ms/step - loss: 0.4245 - accuracy: 0.8081\nEpoch 59/100\n28/28 [==============================] - 0s 10ms/step - loss: 0.4247 - accuracy: 0.8047\nEpoch 60/100\n28/28 [==============================] - 0s 8ms/step - loss: 0.4256 - accuracy: 0.8081\nEpoch 61/100\n28/28 [==============================] - 0s 9ms/step - loss: 0.4250 - accuracy: 0.8058\nEpoch 62/100\n28/28 [==============================] - 0s 9ms/step - loss: 0.4238 - accuracy: 0.8081\nEpoch 63/100\n28/28 [==============================] - 0s 9ms/step - loss: 0.4236 - accuracy: 0.8081\nEpoch 64/100\n28/28 [==============================] - 0s 8ms/step - loss: 0.4229 - accuracy: 0.8092\nEpoch 65/100\n28/28 [==============================] - 0s 8ms/step - loss: 0.4251 - accuracy: 0.8070\nEpoch 66/100\n28/28 [==============================] - 0s 7ms/step - loss: 0.4240 - accuracy: 0.8070\nEpoch 67/100\n28/28 [==============================] - 0s 7ms/step - loss: 0.4231 - accuracy: 0.8103\nEpoch 68/100\n28/28 [==============================] - 0s 7ms/step - loss: 0.4246 - accuracy: 0.8103\nEpoch 69/100\n28/28 [==============================] - 0s 9ms/step - loss: 0.4241 - accuracy: 0.8081\nEpoch 70/100\n28/28 [==============================] - 0s 8ms/step - loss: 0.4227 - accuracy: 0.8025\nEpoch 71/100\n28/28 [==============================] - 0s 7ms/step - loss: 0.4243 - accuracy: 0.8058\nEpoch 72/100\n28/28 [==============================] - 0s 7ms/step - loss: 0.4228 - accuracy: 0.8126\nEpoch 73/100\n28/28 [==============================] - 0s 11ms/step - loss: 0.4210 - accuracy: 0.8103\nEpoch 74/100\n28/28 [==============================] - 0s 8ms/step - loss: 0.4215 - accuracy: 0.8070\nEpoch 75/100\n28/28 [==============================] - 0s 7ms/step - loss: 0.4216 - accuracy: 0.8148\nEpoch 76/100\n28/28 [==============================] - 0s 7ms/step - loss: 0.4235 - accuracy: 0.8114\nEpoch 77/100\n28/28 [==============================] - 0s 7ms/step - loss: 0.4216 - accuracy: 0.8081\nEpoch 78/100\n28/28 [==============================] - 0s 9ms/step - loss: 0.4219 - accuracy: 0.8103\nEpoch 79/100\n28/28 [==============================] - 0s 7ms/step - loss: 0.4200 - accuracy: 0.8081\nEpoch 80/100\n28/28 [==============================] - 0s 7ms/step - loss: 0.4197 - accuracy: 0.8070\nEpoch 81/100\n28/28 [==============================] - 0s 9ms/step - loss: 0.4191 - accuracy: 0.8025\nEpoch 82/100\n28/28 [==============================] - 0s 13ms/step - loss: 0.4223 - accuracy: 0.8103\nEpoch 83/100\n28/28 [==============================] - 0s 9ms/step - loss: 0.4195 - accuracy: 0.8103\nEpoch 84/100\n28/28 [==============================] - 0s 9ms/step - loss: 0.4187 - accuracy: 0.8092\nEpoch 85/100\n28/28 [==============================] - 0s 8ms/step - loss: 0.4186 - accuracy: 0.8081\nEpoch 86/100\n28/28 [==============================] - 0s 8ms/step - loss: 0.4189 - accuracy: 0.8047\nEpoch 87/100\n28/28 [==============================] - 0s 8ms/step - loss: 0.4190 - accuracy: 0.8058\nEpoch 88/100\n28/28 [==============================] - 0s 7ms/step - loss: 0.4208 - accuracy: 0.8058\nEpoch 89/100\n28/28 [==============================] - 0s 7ms/step - loss: 0.4202 - accuracy: 0.8148\nEpoch 90/100\n28/28 [==============================] - 0s 8ms/step - loss: 0.4183 - accuracy: 0.8058\nEpoch 91/100\n28/28 [==============================] - 0s 8ms/step - loss: 0.4184 - accuracy: 0.8159\nEpoch 92/100\n28/28 [==============================] - 0s 10ms/step - loss: 0.4169 - accuracy: 0.8103\nEpoch 93/100\n28/28 [==============================] - 0s 8ms/step - loss: 0.4185 - accuracy: 0.8058\nEpoch 94/100\n28/28 [==============================] - 0s 9ms/step - loss: 0.4164 - accuracy: 0.8137\nEpoch 95/100\n28/28 [==============================] - 0s 7ms/step - loss: 0.4183 - accuracy: 0.8047\nEpoch 96/100\n28/28 [==============================] - 0s 8ms/step - loss: 0.4180 - accuracy: 0.8092\nEpoch 97/100\n28/28 [==============================] - 0s 7ms/step - loss: 0.4216 - accuracy: 0.8013\nEpoch 98/100\n28/28 [==============================] - 0s 10ms/step - loss: 0.4173 - accuracy: 0.8002\nEpoch 99/100\n28/28 [==============================] - 0s 7ms/step - loss: 0.4164 - accuracy: 0.8025\nEpoch 100/100\n28/28 [==============================] - 0s 8ms/step - loss: 0.4163 - accuracy: 0.8103\n[0, 1, 0, 0, 1, 0, 1, 1, 1, 0, 0, 0, 1, 0, 1, 1, 0, 0, 1, 1, 0, 0, 1, 0, 1, 0, 1, 0, 0, 0, 0, 0, 1, 1, 0, 0, 1, 1, 0, 0, 0, 0, 0, 1, 1, 0, 0, 0, 1, 1, 0, 0, 1, 1, 0, 0, 0, 0, 0, 1, 0, 0, 0, 1, 1, 1, 1, 0, 0, 0, 1, 0, 1, 0, 1, 0, 0, 1, 0, 1, 0, 0, 0, 0, 0, 0, 1, 1, 1, 1, 1, 0, 1, 0, 0, 0, 1, 0, 1, 0, 1, 0, 0, 0, 1, 0, 0, 0, 0, 0, 0, 1, 1, 1, 1, 0, 0, 1, 0, 1, 1, 0, 1, 0, 0, 1, 0, 0, 0, 0, 0, 0, 0, 0, 0, 0, 0, 0, 1, 0, 0, 1, 0, 0, 0, 0, 0, 0, 0, 1, 1, 0, 0, 1, 0, 0, 1, 1, 0, 1, 1, 0, 1, 0, 0, 1, 0, 0, 1, 1, 0, 0, 0, 0, 0, 1, 1, 0, 1, 1, 0, 1, 1, 0, 1, 0, 1, 0, 0, 0, 0, 0, 0, 0, 1, 0, 1, 1, 0, 1, 1, 0, 0, 1, 0, 0, 1, 0, 1, 0, 0, 0, 0, 1, 0, 0, 1, 1, 1, 0, 1, 0, 1, 0, 1, 1, 0, 1, 0, 0, 0, 1, 0, 0, 0, 0, 0, 0, 1, 1, 1, 1, 1, 0, 0, 0, 1, 1, 1, 1, 1, 0, 0, 0, 0, 0, 0, 0, 1, 0, 0, 0, 1, 1, 0, 0, 0, 0, 1, 0, 0, 0, 1, 1, 0, 1, 0, 0, 0, 0, 1, 0, 1, 1, 1, 0, 0, 0, 0, 0, 0, 1, 0, 1, 0, 0, 1, 0, 0, 0, 0, 0, 0, 0, 1, 1, 1, 0, 1, 1, 0, 0, 0, 1, 1, 1, 0, 0, 0, 0, 0, 0, 0, 0, 1, 0, 1, 0, 0, 0, 1, 0, 0, 1, 0, 0, 0, 0, 0, 0, 0, 0, 0, 1, 0, 1, 0, 1, 0, 1, 1, 0, 0, 0, 1, 0, 1, 0, 0, 1, 0, 1, 1, 0, 1, 0, 0, 1, 1, 0, 0, 1, 0, 0, 1, 1, 0, 0, 0, 0, 0, 0, 1, 1, 0, 1, 0, 0, 0, 0, 0, 1, 0, 0, 0, 1, 0, 1, 0, 0, 1, 0, 1, 0, 0, 0, 0, 1, 1, 1, 1, 1, 1, 0, 1, 0, 0, 0]\n"
    }
   ],
   "source": [
    "#removed model for ann1.csv as accuracy was lower\n",
    "#These model is of ann2.csv\n",
    "import tensorflow as tf\n",
    "ann = tf.keras.models.Sequential()\n",
    "\n",
    "# Adding the input layer and the first hidden layer\n",
    "ann.add(tf.keras.layers.Dense(units=8, input_shape=(5,), activation='relu'))\n",
    "# Adding the second hidden layer\n",
    "ann.add(tf.keras.layers.Dense(units=15, activation='relu'))\n",
    "ann.add(tf.keras.layers.Dense(units=8, activation='relu'))\n",
    "ann.add(tf.keras.layers.Dense(units=10, activation='relu'))\n",
    "ann.add(tf.keras.layers.Dense(units=6, activation='relu'))\n",
    "# Adding the output layer\n",
    "ann.add(tf.keras.layers.Dense(units=1, activation='sigmoid'))\n",
    "# Part 3 - Training the ANN\n",
    "# Compiling the ANN\n",
    "ann.compile(optimizer = 'adam', loss = 'binary_crossentropy', metrics = ['accuracy'])\n",
    "# Training the ANN on the Training set\n",
    "ann.fit(X_train, y_train, batch_size = 32, epochs = 100)\n",
    "    \n",
    "result = []\n",
    "Y_pred = ann.predict(np.asarray(X_test).astype(np.float32))\n",
    "Y_pred = (Y_pred>0.51)\n",
    "\n",
    "for i in range(len(Y_pred)):\n",
    "    if Y_pred[i][0] == True:\n",
    "        result.append(1)\n",
    "    else :\n",
    "        result.append(0)\n",
    "    \n",
    "# y_pred = np.empty_like(predx)\n",
    "# predictions = classifier.predict(X_test)\n",
    "# for i in predictions:\n",
    "    # if i[0] >= 0.5:\n",
    "        # np.append(y_pred, [1])\n",
    "    # elif i[0] < 0.5:\n",
    "        # np.append(y_pred, [0])\n",
    "print(result)"
   ]
  },
  {
   "cell_type": "code",
   "execution_count": null,
   "metadata": {},
   "outputs": [],
   "source": []
  }
 ],
 "metadata": {
  "language_info": {
   "codemirror_mode": {
    "name": "ipython",
    "version": 3
   },
   "file_extension": ".py",
   "mimetype": "text/x-python",
   "name": "python",
   "nbconvert_exporter": "python",
   "pygments_lexer": "ipython3",
   "version": "3.6.8-final"
  },
  "orig_nbformat": 2,
  "kernelspec": {
   "name": "python36864bitenvvenve4cc3e5879a24aa8b90760cb1535c75c",
   "display_name": "Python 3.6.8 64-bit ('.env': venv)"
  }
 },
 "nbformat": 4,
 "nbformat_minor": 2
}