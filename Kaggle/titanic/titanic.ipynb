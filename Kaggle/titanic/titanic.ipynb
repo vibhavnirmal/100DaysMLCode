{
 "cells": [
  {
   "cell_type": "code",
   "execution_count": 1,
   "metadata": {},
   "outputs": [],
   "source": [
    "#https://www.kaggle.com/c/titanic"
   ]
  },
  {
   "cell_type": "code",
   "execution_count": 2,
   "metadata": {},
   "outputs": [],
   "source": [
    "import matplotlib.pyplot as plt\n",
    "import numpy as np\n",
    "import pandas as pd"
   ]
  },
  {
   "cell_type": "code",
   "execution_count": 3,
   "metadata": {},
   "outputs": [],
   "source": [
    "training_data = pd.read_csv(\"F:\\MLudemy\\MLAZ\\MachineLearningPrograms\\Kaggle\\\\titanic\\\\train.csv\")\n",
    "testing_data = pd.read_csv(\"F:\\MLudemy\\MLAZ\\MachineLearningPrograms\\Kaggle\\\\titanic\\\\test.csv\")"
   ]
  },
  {
   "cell_type": "code",
   "execution_count": 4,
   "metadata": {},
   "outputs": [],
   "source": [
    "features = [\"Pclass\",\"Sex\",\"SibSp\",\"Parch\"]\n",
    "\n",
    "X_train = pd.get_dummies(training_data[features])\n",
    "y_train = training_data.iloc[:, [1]].values\n",
    "\n",
    "X_test = pd.get_dummies(testing_data[features])"
   ]
  },
  {
   "cell_type": "code",
   "execution_count": 5,
   "metadata": {},
   "outputs": [],
   "source": [
    "def results(classifier):\n",
    "    predictions = classifier.predict(X_test)\n",
    "    return predictions"
   ]
  },
  {
   "cell_type": "markdown",
   "metadata": {},
   "source": [
    "## Logistic Regression"
   ]
  },
  {
   "cell_type": "code",
   "execution_count": 6,
   "metadata": {
    "tags": []
   },
   "outputs": [
    {
     "output_type": "stream",
     "name": "stdout",
     "text": "Logistic Regression Score =  [0 1 0 0 1 0 1 0 1 0 0 0 1 0 1 1 0 0 1 1 0 0 1 0 1 0 1 0 0 0 0 0 1 1 0 0 1\n 1 0 0 0 0 0 1 1 0 0 0 1 1 0 0 1 1 0 0 0 0 0 1 0 0 0 1 0 1 1 0 0 1 1 0 1 0\n 1 0 0 1 0 1 0 0 0 0 0 0 1 1 1 0 1 0 1 0 0 0 1 0 1 0 1 0 0 0 1 0 0 0 0 0 0\n 1 1 1 1 0 0 1 0 1 1 0 1 0 0 1 0 1 0 0 0 0 1 0 0 0 0 0 1 0 0 1 0 0 0 0 0 0\n 0 0 1 0 0 1 0 0 1 1 0 1 1 0 1 0 0 1 0 0 1 1 0 0 0 0 0 1 1 0 1 1 0 0 1 0 1\n 0 1 0 0 0 0 0 0 0 0 0 0 1 0 1 1 0 0 1 0 0 1 0 1 0 0 0 0 1 0 0 1 0 1 0 1 0\n 1 0 1 1 0 1 0 0 0 1 0 0 0 0 0 0 1 1 1 1 0 0 0 0 1 0 1 1 1 0 0 0 0 0 0 0 1\n 0 0 0 1 1 0 0 0 0 1 0 0 0 1 1 0 1 0 0 0 0 1 0 1 1 1 0 0 0 0 0 0 1 0 0 0 0\n 1 0 0 0 0 0 0 0 1 1 0 0 0 1 0 0 0 1 1 1 0 0 0 0 0 0 0 0 1 0 1 0 0 0 1 0 0\n 1 0 0 0 0 0 0 0 0 0 1 0 1 0 1 0 1 1 0 0 0 1 0 1 0 0 1 0 1 1 0 1 0 0 1 1 0\n 0 1 0 0 1 1 1 0 0 0 0 0 1 1 0 1 0 0 0 0 0 1 0 0 0 1 0 1 0 0 1 0 1 0 0 0 0\n 0 1 1 1 1 1 0 1 0 0 0]\n"
    }
   ],
   "source": [
    "from sklearn.linear_model import LogisticRegression\n",
    "classifier = LogisticRegression(random_state = 0)\n",
    "classifier.fit(X_train, y_train.ravel())\n",
    "print(\"Logistic Regression Score = \", results(classifier))\n",
    "# output = pd.DataFrame({'PassengerId': testing_data.PassengerId, 'Survived': results(classifier)})\n",
    "# output.to_csv('_logisticReg.csv', index=False)"
   ]
  },
  {
   "cell_type": "markdown",
   "metadata": {},
   "source": [
    "## KNeighbors Classifier"
   ]
  },
  {
   "cell_type": "code",
   "execution_count": 7,
   "metadata": {
    "tags": []
   },
   "outputs": [
    {
     "output_type": "stream",
     "name": "stdout",
     "text": "KNN Score =  [0 1 0 0 0 0 1 0 1 0 0 0 1 0 1 1 0 0 1 1 1 0 1 0 1 0 1 0 0 0 0 0 0 0 1 0 1\n 1 0 0 0 0 0 1 1 0 0 0 1 1 1 0 1 1 0 0 0 0 0 1 0 0 0 1 1 1 1 0 0 1 1 0 1 0\n 1 0 0 1 0 1 0 1 0 0 0 0 1 1 1 0 1 0 1 0 0 0 1 0 1 0 1 0 0 0 0 0 0 0 0 0 0\n 1 1 1 1 0 0 0 0 1 1 0 1 0 0 0 0 0 0 0 0 0 0 0 0 0 0 0 1 0 0 1 1 0 0 0 0 0\n 0 0 1 0 0 1 0 0 1 1 0 1 1 0 1 0 0 0 0 0 1 1 0 0 0 0 0 1 1 1 1 1 0 0 1 0 1\n 0 1 0 0 0 0 0 0 0 1 0 0 1 0 1 1 0 1 1 0 0 1 0 1 0 0 0 0 1 0 0 1 0 1 0 1 0\n 1 0 1 1 0 1 0 0 0 1 0 0 1 0 1 0 1 1 1 1 0 0 0 1 1 0 1 1 1 0 1 0 0 0 0 0 1\n 0 0 0 1 0 0 0 0 0 1 0 0 0 1 1 0 1 0 0 0 0 1 0 1 0 0 0 0 1 0 0 0 1 0 0 0 0\n 1 0 0 0 0 0 0 0 1 1 1 0 0 1 0 0 0 1 1 1 1 0 0 0 0 0 0 0 1 0 1 0 0 0 1 0 0\n 0 0 0 0 0 0 0 0 0 0 1 0 1 0 1 0 1 1 0 0 0 0 0 1 0 0 1 0 1 1 0 1 0 0 1 1 0\n 0 1 0 0 1 1 0 0 0 0 0 0 1 1 0 1 0 0 0 0 0 1 0 0 0 1 0 1 0 0 1 0 1 0 1 0 0\n 0 1 0 1 1 1 0 1 0 0 0]\n"
    }
   ],
   "source": [
    "from sklearn.neighbors import KNeighborsClassifier\n",
    "classifier = KNeighborsClassifier(n_neighbors = 5, metric = 'minkowski', p = 2)\n",
    "classifier.fit(X_train, y_train.ravel())\n",
    "print(\"KNN Score = \", results(classifier))\n",
    "# output = pd.DataFrame({'PassengerId': testing_data.PassengerId, 'Survived': results(classifier)})\n",
    "# output.to_csv('_knn.csv', index=False)"
   ]
  },
  {
   "cell_type": "markdown",
   "metadata": {},
   "source": [
    "## Gaussian Naive Bayes"
   ]
  },
  {
   "cell_type": "code",
   "execution_count": 8,
   "metadata": {
    "tags": []
   },
   "outputs": [
    {
     "output_type": "stream",
     "name": "stdout",
     "text": "NB Score = [0 1 0 0 1 0 1 0 1 0 0 0 1 0 1 1 0 0 1 1 0 0 1 0 1 0 1 0 0 0 0 0 1 1 0 0 1\n 1 0 0 0 0 0 1 1 0 0 0 1 1 0 0 1 1 0 0 0 0 0 1 0 0 0 1 0 1 1 0 0 1 1 0 1 0\n 1 0 0 1 0 1 0 0 0 0 0 0 1 1 1 0 1 0 1 0 0 0 1 0 1 0 1 0 0 0 1 0 0 0 0 0 0\n 1 1 1 1 0 0 1 0 1 1 0 1 0 0 1 0 1 0 0 0 0 1 0 0 0 0 0 1 0 0 1 0 0 0 0 0 0\n 0 0 1 0 0 1 0 0 1 1 0 1 1 0 1 0 0 1 0 0 1 1 0 0 0 0 0 1 1 0 1 1 0 0 1 0 1\n 0 1 0 0 0 0 0 0 0 0 0 0 1 0 1 1 0 0 1 0 0 1 0 1 0 0 0 0 1 0 0 1 0 1 0 1 0\n 1 0 1 1 0 1 0 0 0 1 0 0 0 0 0 0 1 1 1 1 0 0 0 0 1 0 1 1 1 0 0 0 0 0 0 0 1\n 0 0 0 1 1 0 0 0 0 1 0 0 0 1 1 0 1 0 0 0 0 1 0 1 1 1 0 0 0 0 0 0 1 0 0 0 0\n 1 0 0 0 0 0 0 0 1 1 0 0 0 1 0 0 0 1 1 1 0 0 0 0 0 0 0 0 1 0 1 0 0 0 1 0 0\n 1 0 0 0 0 0 0 0 0 0 1 0 1 0 1 0 1 1 0 0 0 1 0 1 0 0 1 0 1 1 0 1 0 0 1 1 0\n 0 1 0 0 1 1 1 0 0 0 0 0 1 1 0 1 0 0 0 0 0 1 0 0 0 1 0 1 0 0 1 0 1 0 0 0 0\n 0 1 1 1 1 1 0 1 0 0 0]\n"
    }
   ],
   "source": [
    "from sklearn.naive_bayes import GaussianNB\n",
    "classifier = GaussianNB()\n",
    "classifier.fit(X_train, y_train.ravel())\n",
    "print(\"NB Score = \", results(classifier))\n",
    "# output = pd.DataFrame({'PassengerId': testing_data.PassengerId, 'Survived': results(classifier)})\n",
    "# output.to_csv('_nb.csv', index=False)"
   ]
  },
  {
   "cell_type": "markdown",
   "metadata": {},
   "source": [
    "## DecisionTreeClassifier"
   ]
  },
  {
   "cell_type": "code",
   "execution_count": 9,
   "metadata": {
    "tags": []
   },
   "outputs": [
    {
     "output_type": "stream",
     "name": "stdout",
     "text": "DT Score =  [0 0 0 0 0 0 1 1 1 0 0 0 1 0 1 1 0 0 0 1 0 0 1 0 0 0 1 0 0 0 0 0 0 0 0 0 1\n 1 0 0 0 0 0 1 1 0 0 0 1 1 0 0 1 1 0 0 0 0 0 1 0 0 0 1 1 1 1 0 0 0 1 0 1 0\n 1 0 0 1 0 1 0 0 0 0 0 0 1 1 1 1 0 0 0 0 0 0 1 0 1 0 1 0 0 0 0 0 0 0 0 0 0\n 1 1 1 1 0 0 0 0 1 1 0 1 0 0 1 0 0 0 0 0 0 0 0 0 0 0 0 1 0 0 1 1 0 0 0 0 0\n 0 1 1 0 0 1 0 0 1 1 0 1 1 0 1 0 0 0 0 0 1 1 0 0 0 0 0 1 1 0 1 1 0 0 1 0 1\n 0 1 0 0 0 0 0 0 0 1 0 0 1 0 1 1 0 0 1 0 0 1 0 1 0 0 0 0 1 0 0 1 0 1 0 1 0\n 1 0 1 1 0 1 0 0 0 1 0 0 0 0 0 0 1 1 1 1 0 0 0 0 1 1 1 0 1 0 0 0 0 0 0 0 1\n 0 0 0 1 0 0 0 0 0 1 0 0 0 1 0 0 1 0 0 0 0 1 0 1 0 0 0 0 0 0 0 0 1 0 0 0 0\n 1 0 0 0 0 0 0 0 1 1 1 0 0 0 0 0 0 1 1 1 0 0 0 0 0 0 0 0 1 0 1 0 0 0 1 0 0\n 0 0 0 0 0 0 0 0 0 0 1 0 1 0 1 0 1 1 0 0 0 0 0 1 0 0 0 0 1 1 0 1 0 0 1 1 0\n 0 1 0 0 1 1 0 0 0 0 0 0 1 0 0 1 0 0 0 0 0 1 0 0 0 1 0 1 0 0 1 0 1 0 0 0 0\n 0 1 0 1 1 1 0 1 0 0 0]\n"
    }
   ],
   "source": [
    "from sklearn.tree import DecisionTreeClassifier\n",
    "classifier = DecisionTreeClassifier(criterion = 'entropy', random_state = 0)\n",
    "classifier.fit(X_train, y_train.ravel())\n",
    "print(\"DT Score = \", results(classifier))\n",
    "# output = pd.DataFrame({'PassengerId': testing_data.PassengerId, 'Survived': results(classifier)})\n",
    "# output.to_csv('_DT.csv', index=False)"
   ]
  },
  {
   "cell_type": "markdown",
   "metadata": {},
   "source": [
    "## RandomForestClassifier"
   ]
  },
  {
   "cell_type": "code",
   "execution_count": 10,
   "metadata": {
    "tags": []
   },
   "outputs": [
    {
     "output_type": "stream",
     "name": "stdout",
     "text": "RF Score =  [0 0 0 0 1 0 1 1 1 0 0 0 1 0 1 1 0 0 0 1 0 1 1 0 1 0 1 0 0 0 0 0 0 0 0 0 1\n 1 0 0 1 0 0 1 1 0 0 0 1 1 0 0 1 1 0 0 0 0 0 1 0 0 0 1 1 1 1 0 0 0 1 0 1 0\n 1 0 0 1 0 1 0 0 0 0 0 0 1 1 1 1 0 0 0 0 0 0 1 0 1 0 1 0 0 0 1 0 0 0 0 0 0\n 1 1 1 1 0 0 1 0 1 1 0 1 0 0 1 0 1 0 0 0 0 0 0 0 0 0 0 1 0 0 1 1 0 0 0 0 0\n 0 1 1 0 0 1 0 0 1 1 0 1 1 0 1 0 0 1 0 0 1 1 0 0 0 0 0 1 1 0 1 1 0 0 1 0 1\n 0 1 0 0 0 0 0 0 0 1 0 0 1 0 1 1 1 0 1 0 0 1 0 1 0 0 0 0 1 0 0 1 0 1 0 1 0\n 1 0 1 1 0 1 0 0 0 1 0 0 0 0 0 0 1 1 1 1 0 0 0 0 1 1 1 0 1 0 0 0 0 0 0 0 1\n 0 0 0 1 1 0 0 0 0 1 0 0 0 1 0 0 1 0 0 0 0 1 0 1 1 1 0 0 0 0 0 0 1 0 0 0 0\n 1 0 0 0 0 0 0 0 1 1 1 1 0 0 0 0 0 1 1 1 0 0 0 0 0 0 0 0 1 0 1 0 0 0 1 0 0\n 1 0 0 0 1 0 0 0 0 0 1 0 1 0 1 0 1 1 0 0 0 0 0 1 0 0 0 0 1 1 0 1 0 0 1 1 0\n 0 1 0 0 1 1 1 0 0 0 0 0 1 0 0 1 0 0 0 0 0 1 1 0 0 1 0 1 0 0 1 0 1 0 0 0 0\n 0 1 1 1 1 1 0 1 0 0 0]\n"
    }
   ],
   "source": [
    "from sklearn.ensemble import RandomForestClassifier\n",
    "classifier = RandomForestClassifier(n_estimators = 20, criterion = 'entropy', random_state = 0)\n",
    "classifier.fit(X_train, y_train.ravel())\n",
    "print(\"RF Score = \", results(classifier))\n",
    "# output = pd.DataFrame({'PassengerId': testing_data.PassengerId, 'Survived': results(classifier)})\n",
    "# output.to_csv('_RF.csv', index=False)"
   ]
  },
  {
   "cell_type": "markdown",
   "metadata": {},
   "source": [
    "## Support Vector Machine"
   ]
  },
  {
   "cell_type": "code",
   "execution_count": 11,
   "metadata": {
    "tags": []
   },
   "outputs": [
    {
     "output_type": "stream",
     "name": "stdout",
     "text": "SVC Score =  [0 1 0 0 1 0 1 0 1 0 0 0 1 0 1 1 0 0 1 1 0 0 1 0 1 0 1 0 0 0 0 0 1 1 0 0 1\n 1 0 0 0 0 0 1 1 0 0 0 1 1 0 0 1 1 0 0 0 0 0 1 0 0 0 1 0 1 1 0 0 1 1 0 1 0\n 1 0 0 1 0 1 0 0 0 0 0 0 1 1 1 0 1 0 1 0 0 0 1 0 1 0 1 0 0 0 1 0 0 0 0 0 0\n 1 1 1 1 0 0 1 0 1 1 0 1 0 0 1 0 1 0 0 0 0 1 0 0 0 0 0 1 0 1 1 0 0 0 0 0 0\n 0 0 1 0 0 1 0 0 1 1 0 1 1 0 1 0 0 1 0 0 1 1 0 0 0 0 0 1 1 0 1 1 0 0 1 0 1\n 0 1 0 1 0 0 0 0 0 0 0 0 1 0 1 1 0 0 1 0 0 1 0 1 0 0 0 0 1 1 0 1 0 1 0 1 0\n 1 0 1 1 0 1 0 0 0 1 0 0 0 0 0 0 1 1 1 1 0 0 0 0 1 0 1 1 1 0 0 0 0 0 0 0 1\n 0 0 0 1 1 0 0 0 0 1 0 0 0 1 1 0 1 0 0 0 0 1 0 1 1 1 0 0 0 0 0 0 1 0 0 0 0\n 1 0 0 0 0 0 0 0 1 1 0 0 0 1 0 0 0 1 1 1 0 0 0 0 0 0 0 0 1 0 1 0 0 0 1 0 0\n 1 0 0 0 0 0 0 0 0 0 1 0 1 0 1 0 1 1 0 0 0 1 0 1 0 0 1 0 1 1 0 1 1 0 1 1 0\n 0 1 0 0 1 1 1 0 0 0 0 0 1 1 0 1 0 0 0 0 0 1 0 0 0 1 0 1 0 0 1 0 1 0 0 0 0\n 0 1 1 1 1 1 0 1 0 0 0]\n"
    }
   ],
   "source": [
    "from sklearn.svm import SVC\n",
    "classifier = SVC(kernel = 'linear', random_state = 0)\n",
    "classifier.fit(X_train, y_train.ravel())\n",
    "print(\"SVC Score = \", results(classifier))\n",
    "# output = pd.DataFrame({'PassengerId': testing_data.PassengerId, 'Survived': results(classifier)})\n",
    "# output.to_csv('_SVC.csv', index=False)"
   ]
  },
  {
   "cell_type": "markdown",
   "metadata": {},
   "source": [
    "## Kernel Support Vector Machine"
   ]
  },
  {
   "cell_type": "code",
   "execution_count": 12,
   "metadata": {
    "tags": []
   },
   "outputs": [
    {
     "output_type": "stream",
     "name": "stdout",
     "text": "kSVC Score =  [0 1 0 0 1 0 1 0 1 0 0 0 1 0 1 1 0 0 1 1 0 0 1 0 1 0 1 0 0 0 0 0 1 1 0 0 1\n 1 0 0 0 0 0 1 1 0 0 0 1 1 0 0 1 1 0 0 0 0 0 1 0 0 0 1 0 1 1 0 0 1 1 0 1 0\n 1 0 0 1 0 1 0 0 0 0 0 0 1 1 1 0 1 0 1 0 0 0 1 0 1 0 1 0 0 0 1 0 0 0 0 0 0\n 1 1 1 1 0 0 1 0 1 1 0 1 0 0 1 0 1 0 0 0 0 0 0 0 0 0 0 1 0 0 1 0 0 0 0 0 0\n 0 0 1 0 0 1 0 0 1 1 0 1 1 0 1 0 0 1 0 0 1 1 0 0 0 0 0 1 1 0 1 1 0 0 1 0 1\n 0 1 0 0 0 0 0 0 0 0 0 0 1 0 1 1 0 0 1 0 0 1 0 1 0 0 0 0 1 0 0 1 0 1 0 1 0\n 1 0 1 1 0 1 0 0 0 1 0 0 0 0 0 0 1 1 1 1 0 0 0 0 1 0 1 1 1 0 0 0 0 0 0 0 1\n 0 0 0 1 1 0 0 0 0 1 0 0 0 1 1 0 1 0 0 0 0 1 0 1 1 1 0 0 0 0 0 0 1 0 0 0 0\n 1 0 0 0 0 0 0 0 1 1 0 0 0 1 0 0 0 1 1 1 0 0 0 0 0 0 0 0 1 0 1 0 0 0 1 0 0\n 1 0 0 0 0 0 0 0 0 0 1 0 1 0 1 0 1 1 0 0 0 1 0 1 0 0 1 0 1 1 0 1 0 0 1 1 0\n 0 1 0 0 1 1 1 0 0 0 0 0 1 1 0 1 0 0 0 0 0 1 0 0 0 1 0 1 0 0 1 0 1 0 0 0 0\n 0 1 1 1 1 1 0 1 0 0 0]\n"
    }
   ],
   "source": [
    "from sklearn.svm import SVC\n",
    "classifier = SVC(kernel=\"rbf\", random_state = 0)\n",
    "classifier.fit(X_train, y_train.ravel())\n",
    "print(\"kSVC Score = \", results(classifier))\n",
    "# output = pd.DataFrame({'PassengerId': testing_data.PassengerId, 'Survived': results(classifier)})\n",
    "# output.to_csv('_kSVC.csv', index=False)"
   ]
  },
  {
   "cell_type": "markdown",
   "metadata": {},
   "source": [
    "## XGboost"
   ]
  },
  {
   "cell_type": "code",
   "execution_count": 13,
   "metadata": {
    "tags": []
   },
   "outputs": [
    {
     "output_type": "stream",
     "name": "stdout",
     "text": "xgboost Score =  [0 0 0 0 0 0 1 1 1 0 0 0 1 0 1 1 0 0 0 1 0 0 1 0 1 0 1 0 0 0 0 0 0 0 0 0 1\n 1 0 0 0 0 0 1 1 0 0 0 1 1 0 0 1 1 0 0 0 0 0 1 0 0 0 1 1 1 1 0 0 1 1 0 1 0\n 1 0 0 1 0 1 0 0 0 0 0 0 1 1 1 1 0 0 1 0 0 0 1 0 1 0 1 0 0 0 0 0 0 0 0 0 0\n 1 1 1 1 0 0 0 0 1 1 0 1 0 0 1 0 1 0 0 0 0 0 0 0 0 0 0 1 0 0 1 1 0 0 0 0 0\n 0 1 1 0 0 1 0 0 1 1 0 1 1 0 1 0 0 0 0 0 1 1 0 0 0 0 0 1 1 0 1 1 0 0 1 0 1\n 0 1 0 0 0 0 0 0 0 1 0 1 1 0 1 1 1 0 1 0 0 1 0 1 0 0 0 0 1 0 0 1 0 1 0 1 0\n 1 0 1 1 0 1 0 0 0 1 0 0 0 0 0 0 1 1 1 1 0 0 0 0 1 1 1 0 1 0 0 0 0 0 0 0 1\n 0 0 0 1 0 0 0 0 0 1 0 0 0 1 0 0 1 0 0 0 0 1 0 1 0 0 0 0 0 0 0 0 1 0 0 0 0\n 1 0 0 0 0 0 0 0 1 1 1 0 0 0 0 0 0 1 1 1 0 0 0 0 0 0 0 0 1 0 1 0 0 0 1 0 0\n 0 0 0 0 1 0 0 0 0 0 1 0 1 0 1 0 1 1 0 0 0 0 0 1 0 0 0 0 1 1 0 1 0 0 1 1 0\n 0 1 0 0 1 1 1 0 0 0 0 0 1 0 0 1 0 0 0 0 0 1 1 0 0 1 0 1 0 0 1 0 1 0 0 0 0\n 0 1 0 1 1 1 0 1 0 0 0]\n"
    }
   ],
   "source": [
    "from xgboost import XGBClassifier\n",
    "classifier = XGBClassifier()\n",
    "classifier.fit(X_train, y_train)\n",
    "\n",
    "print(\"xgboost Score = \", results(classifier))\n",
    "# output = pd.DataFrame({'PassengerId': testing_data.PassengerId, 'Survived': results(classifier)})\n",
    "# output.to_csv('_xgboost.csv', index=False)"
   ]
  },
  {
   "cell_type": "markdown",
   "metadata": {},
   "source": [
    "## catboost"
   ]
  },
  {
   "cell_type": "code",
   "execution_count": 14,
   "metadata": {
    "tags": [
     "outputPrepend"
    ]
   },
   "outputs": [
    {
     "output_type": "stream",
     "name": "stdout",
     "text": "earn: 0.4087364\ttotal: 1.23s\tremaining: 714ms\n633:\tlearn: 0.4087281\ttotal: 1.23s\tremaining: 712ms\n634:\tlearn: 0.4087178\ttotal: 1.23s\tremaining: 710ms\n635:\tlearn: 0.4087129\ttotal: 1.24s\tremaining: 707ms\n636:\tlearn: 0.4086668\ttotal: 1.24s\tremaining: 705ms\n637:\tlearn: 0.4086203\ttotal: 1.24s\tremaining: 703ms\n638:\tlearn: 0.4085926\ttotal: 1.24s\tremaining: 701ms\n639:\tlearn: 0.4085540\ttotal: 1.24s\tremaining: 698ms\n640:\tlearn: 0.4085333\ttotal: 1.24s\tremaining: 696ms\n641:\tlearn: 0.4085240\ttotal: 1.24s\tremaining: 694ms\n642:\tlearn: 0.4084580\ttotal: 1.25s\tremaining: 691ms\n643:\tlearn: 0.4084572\ttotal: 1.25s\tremaining: 689ms\n644:\tlearn: 0.4084416\ttotal: 1.25s\tremaining: 687ms\n645:\tlearn: 0.4084416\ttotal: 1.25s\tremaining: 684ms\n646:\tlearn: 0.4084372\ttotal: 1.25s\tremaining: 682ms\n647:\tlearn: 0.4084281\ttotal: 1.25s\tremaining: 680ms\n648:\tlearn: 0.4084233\ttotal: 1.25s\tremaining: 677ms\n649:\tlearn: 0.4084193\ttotal: 1.25s\tremaining: 675ms\n650:\tlearn: 0.4084065\ttotal: 1.25s\tremaining: 673ms\n651:\tlearn: 0.4083675\ttotal: 1.25s\tremaining: 670ms\n652:\tlearn: 0.4083335\ttotal: 1.26s\tremaining: 668ms\n653:\tlearn: 0.4083219\ttotal: 1.26s\tremaining: 666ms\n654:\tlearn: 0.4082966\ttotal: 1.26s\tremaining: 663ms\n655:\tlearn: 0.4082890\ttotal: 1.26s\tremaining: 661ms\n656:\tlearn: 0.4082811\ttotal: 1.26s\tremaining: 659ms\n657:\tlearn: 0.4082237\ttotal: 1.26s\tremaining: 657ms\n658:\tlearn: 0.4081705\ttotal: 1.26s\tremaining: 655ms\n659:\tlearn: 0.4081668\ttotal: 1.26s\tremaining: 652ms\n660:\tlearn: 0.4081044\ttotal: 1.27s\tremaining: 650ms\n661:\tlearn: 0.4081027\ttotal: 1.27s\tremaining: 648ms\n662:\tlearn: 0.4080675\ttotal: 1.27s\tremaining: 645ms\n663:\tlearn: 0.4080450\ttotal: 1.27s\tremaining: 643ms\n664:\tlearn: 0.4080289\ttotal: 1.27s\tremaining: 641ms\n665:\tlearn: 0.4079981\ttotal: 1.27s\tremaining: 639ms\n666:\tlearn: 0.4079845\ttotal: 1.27s\tremaining: 636ms\n667:\tlearn: 0.4079571\ttotal: 1.27s\tremaining: 634ms\n668:\tlearn: 0.4079403\ttotal: 1.28s\tremaining: 632ms\n669:\tlearn: 0.4079381\ttotal: 1.28s\tremaining: 630ms\n670:\tlearn: 0.4079381\ttotal: 1.28s\tremaining: 628ms\n671:\tlearn: 0.4078777\ttotal: 1.28s\tremaining: 626ms\n672:\tlearn: 0.4078777\ttotal: 1.28s\tremaining: 623ms\n673:\tlearn: 0.4078563\ttotal: 1.28s\tremaining: 621ms\n674:\tlearn: 0.4078173\ttotal: 1.28s\tremaining: 619ms\n675:\tlearn: 0.4078173\ttotal: 1.29s\tremaining: 617ms\n676:\tlearn: 0.4078166\ttotal: 1.29s\tremaining: 614ms\n677:\tlearn: 0.4078144\ttotal: 1.29s\tremaining: 612ms\n678:\tlearn: 0.4078045\ttotal: 1.29s\tremaining: 610ms\n679:\tlearn: 0.4077907\ttotal: 1.29s\tremaining: 608ms\n680:\tlearn: 0.4077380\ttotal: 1.29s\tremaining: 606ms\n681:\tlearn: 0.4077342\ttotal: 1.29s\tremaining: 604ms\n682:\tlearn: 0.4076829\ttotal: 1.3s\tremaining: 602ms\n683:\tlearn: 0.4076822\ttotal: 1.3s\tremaining: 599ms\n684:\tlearn: 0.4076818\ttotal: 1.3s\tremaining: 597ms\n685:\tlearn: 0.4076605\ttotal: 1.3s\tremaining: 595ms\n686:\tlearn: 0.4076384\ttotal: 1.3s\tremaining: 593ms\n687:\tlearn: 0.4076034\ttotal: 1.3s\tremaining: 591ms\n688:\tlearn: 0.4075561\ttotal: 1.3s\tremaining: 589ms\n689:\tlearn: 0.4075027\ttotal: 1.3s\tremaining: 587ms\n690:\tlearn: 0.4074661\ttotal: 1.31s\tremaining: 585ms\n691:\tlearn: 0.4073912\ttotal: 1.31s\tremaining: 583ms\n692:\tlearn: 0.4073399\ttotal: 1.31s\tremaining: 580ms\n693:\tlearn: 0.4073102\ttotal: 1.31s\tremaining: 578ms\n694:\tlearn: 0.4072771\ttotal: 1.31s\tremaining: 576ms\n695:\tlearn: 0.4072583\ttotal: 1.31s\tremaining: 574ms\n696:\tlearn: 0.4072360\ttotal: 1.31s\tremaining: 572ms\n697:\tlearn: 0.4072323\ttotal: 1.32s\tremaining: 570ms\n698:\tlearn: 0.4072116\ttotal: 1.32s\tremaining: 567ms\n699:\tlearn: 0.4071696\ttotal: 1.32s\tremaining: 565ms\n700:\tlearn: 0.4071339\ttotal: 1.32s\tremaining: 563ms\n701:\tlearn: 0.4071020\ttotal: 1.32s\tremaining: 561ms\n702:\tlearn: 0.4070994\ttotal: 1.32s\tremaining: 559ms\n703:\tlearn: 0.4070653\ttotal: 1.32s\tremaining: 557ms\n704:\tlearn: 0.4069917\ttotal: 1.33s\tremaining: 555ms\n705:\tlearn: 0.4069908\ttotal: 1.33s\tremaining: 553ms\n706:\tlearn: 0.4069492\ttotal: 1.33s\tremaining: 551ms\n707:\tlearn: 0.4069315\ttotal: 1.33s\tremaining: 549ms\n708:\tlearn: 0.4069302\ttotal: 1.33s\tremaining: 547ms\n709:\tlearn: 0.4069285\ttotal: 1.33s\tremaining: 545ms\n710:\tlearn: 0.4069232\ttotal: 1.33s\tremaining: 543ms\n711:\tlearn: 0.4069188\ttotal: 1.34s\tremaining: 541ms\n712:\tlearn: 0.4068714\ttotal: 1.34s\tremaining: 539ms\n713:\tlearn: 0.4068369\ttotal: 1.34s\tremaining: 537ms\n714:\tlearn: 0.4068243\ttotal: 1.34s\tremaining: 535ms\n715:\tlearn: 0.4067723\ttotal: 1.34s\tremaining: 533ms\n716:\tlearn: 0.4067688\ttotal: 1.34s\tremaining: 531ms\n717:\tlearn: 0.4067373\ttotal: 1.35s\tremaining: 529ms\n718:\tlearn: 0.4067086\ttotal: 1.35s\tremaining: 527ms\n719:\tlearn: 0.4067013\ttotal: 1.35s\tremaining: 525ms\n720:\tlearn: 0.4066852\ttotal: 1.35s\tremaining: 523ms\n721:\tlearn: 0.4066786\ttotal: 1.35s\tremaining: 521ms\n722:\tlearn: 0.4066365\ttotal: 1.35s\tremaining: 519ms\n723:\tlearn: 0.4065950\ttotal: 1.35s\tremaining: 517ms\n724:\tlearn: 0.4065781\ttotal: 1.36s\tremaining: 515ms\n725:\tlearn: 0.4065568\ttotal: 1.36s\tremaining: 513ms\n726:\tlearn: 0.4065400\ttotal: 1.36s\tremaining: 511ms\n727:\tlearn: 0.4065248\ttotal: 1.36s\tremaining: 509ms\n728:\tlearn: 0.4065158\ttotal: 1.36s\tremaining: 507ms\n729:\tlearn: 0.4064756\ttotal: 1.36s\tremaining: 505ms\n730:\tlearn: 0.4064696\ttotal: 1.36s\tremaining: 503ms\n731:\tlearn: 0.4064692\ttotal: 1.37s\tremaining: 500ms\n732:\tlearn: 0.4064493\ttotal: 1.37s\tremaining: 498ms\n733:\tlearn: 0.4064341\ttotal: 1.37s\tremaining: 496ms\n734:\tlearn: 0.4064326\ttotal: 1.37s\tremaining: 494ms\n735:\tlearn: 0.4064016\ttotal: 1.37s\tremaining: 492ms\n736:\tlearn: 0.4063783\ttotal: 1.37s\tremaining: 490ms\n737:\tlearn: 0.4063763\ttotal: 1.37s\tremaining: 488ms\n738:\tlearn: 0.4063662\ttotal: 1.38s\tremaining: 486ms\n739:\tlearn: 0.4063608\ttotal: 1.38s\tremaining: 484ms\n740:\tlearn: 0.4062940\ttotal: 1.38s\tremaining: 482ms\n741:\tlearn: 0.4062850\ttotal: 1.38s\tremaining: 479ms\n742:\tlearn: 0.4062678\ttotal: 1.38s\tremaining: 477ms\n743:\tlearn: 0.4061967\ttotal: 1.38s\tremaining: 475ms\n744:\tlearn: 0.4061534\ttotal: 1.38s\tremaining: 473ms\n745:\tlearn: 0.4061465\ttotal: 1.38s\tremaining: 471ms\n746:\tlearn: 0.4061225\ttotal: 1.38s\tremaining: 469ms\n747:\tlearn: 0.4060837\ttotal: 1.39s\tremaining: 467ms\n748:\tlearn: 0.4060653\ttotal: 1.39s\tremaining: 465ms\n749:\tlearn: 0.4060327\ttotal: 1.39s\tremaining: 463ms\n750:\tlearn: 0.4060025\ttotal: 1.39s\tremaining: 461ms\n751:\tlearn: 0.4059885\ttotal: 1.39s\tremaining: 459ms\n752:\tlearn: 0.4059413\ttotal: 1.39s\tremaining: 457ms\n753:\tlearn: 0.4059384\ttotal: 1.39s\tremaining: 455ms\n754:\tlearn: 0.4058811\ttotal: 1.4s\tremaining: 453ms\n755:\tlearn: 0.4058584\ttotal: 1.4s\tremaining: 451ms\n756:\tlearn: 0.4058464\ttotal: 1.4s\tremaining: 449ms\n757:\tlearn: 0.4058362\ttotal: 1.4s\tremaining: 447ms\n758:\tlearn: 0.4058362\ttotal: 1.4s\tremaining: 445ms\n759:\tlearn: 0.4058317\ttotal: 1.4s\tremaining: 442ms\n760:\tlearn: 0.4058311\ttotal: 1.4s\tremaining: 440ms\n761:\tlearn: 0.4057937\ttotal: 1.4s\tremaining: 438ms\n762:\tlearn: 0.4057840\ttotal: 1.41s\tremaining: 436ms\n763:\tlearn: 0.4057524\ttotal: 1.41s\tremaining: 434ms\n764:\tlearn: 0.4057285\ttotal: 1.41s\tremaining: 433ms\n765:\tlearn: 0.4056762\ttotal: 1.41s\tremaining: 431ms\n766:\tlearn: 0.4056624\ttotal: 1.41s\tremaining: 429ms\n767:\tlearn: 0.4056075\ttotal: 1.41s\tremaining: 427ms\n768:\tlearn: 0.4055991\ttotal: 1.41s\tremaining: 425ms\n769:\tlearn: 0.4055652\ttotal: 1.42s\tremaining: 423ms\n770:\tlearn: 0.4055446\ttotal: 1.42s\tremaining: 421ms\n771:\tlearn: 0.4055308\ttotal: 1.42s\tremaining: 419ms\n772:\tlearn: 0.4055201\ttotal: 1.42s\tremaining: 417ms\n773:\tlearn: 0.4054755\ttotal: 1.42s\tremaining: 415ms\n774:\tlearn: 0.4054054\ttotal: 1.42s\tremaining: 414ms\n775:\tlearn: 0.4053537\ttotal: 1.43s\tremaining: 412ms\n776:\tlearn: 0.4053435\ttotal: 1.43s\tremaining: 410ms\n777:\tlearn: 0.4053285\ttotal: 1.43s\tremaining: 408ms\n778:\tlearn: 0.4053096\ttotal: 1.43s\tremaining: 406ms\n779:\tlearn: 0.4052935\ttotal: 1.43s\tremaining: 404ms\n780:\tlearn: 0.4052878\ttotal: 1.43s\tremaining: 402ms\n781:\tlearn: 0.4052249\ttotal: 1.43s\tremaining: 400ms\n782:\tlearn: 0.4051816\ttotal: 1.44s\tremaining: 398ms\n783:\tlearn: 0.4051640\ttotal: 1.44s\tremaining: 396ms\n784:\tlearn: 0.4051152\ttotal: 1.44s\tremaining: 394ms\n785:\tlearn: 0.4050481\ttotal: 1.44s\tremaining: 392ms\n786:\tlearn: 0.4050413\ttotal: 1.44s\tremaining: 390ms\n787:\tlearn: 0.4049877\ttotal: 1.44s\tremaining: 388ms\n788:\tlearn: 0.4049482\ttotal: 1.45s\tremaining: 386ms\n789:\tlearn: 0.4049360\ttotal: 1.45s\tremaining: 384ms\n790:\tlearn: 0.4049284\ttotal: 1.45s\tremaining: 382ms\n791:\tlearn: 0.4048803\ttotal: 1.45s\tremaining: 381ms\n792:\tlearn: 0.4048157\ttotal: 1.45s\tremaining: 379ms\n793:\tlearn: 0.4047522\ttotal: 1.45s\tremaining: 377ms\n794:\tlearn: 0.4047321\ttotal: 1.45s\tremaining: 375ms\n795:\tlearn: 0.4046678\ttotal: 1.46s\tremaining: 373ms\n796:\tlearn: 0.4046355\ttotal: 1.46s\tremaining: 371ms\n797:\tlearn: 0.4045974\ttotal: 1.46s\tremaining: 370ms\n798:\tlearn: 0.4045887\ttotal: 1.46s\tremaining: 368ms\n799:\tlearn: 0.4045785\ttotal: 1.47s\tremaining: 367ms\n800:\tlearn: 0.4045175\ttotal: 1.47s\tremaining: 365ms\n801:\tlearn: 0.4045089\ttotal: 1.47s\tremaining: 363ms\n802:\tlearn: 0.4044855\ttotal: 1.47s\tremaining: 361ms\n803:\tlearn: 0.4044646\ttotal: 1.47s\tremaining: 359ms\n804:\tlearn: 0.4044442\ttotal: 1.48s\tremaining: 358ms\n805:\tlearn: 0.4044230\ttotal: 1.48s\tremaining: 356ms\n806:\tlearn: 0.4044062\ttotal: 1.48s\tremaining: 354ms\n807:\tlearn: 0.4043898\ttotal: 1.48s\tremaining: 352ms\n808:\tlearn: 0.4043279\ttotal: 1.48s\tremaining: 350ms\n809:\tlearn: 0.4043128\ttotal: 1.49s\tremaining: 348ms\n810:\tlearn: 0.4042791\ttotal: 1.49s\tremaining: 346ms\n811:\tlearn: 0.4042754\ttotal: 1.49s\tremaining: 345ms\n812:\tlearn: 0.4042574\ttotal: 1.49s\tremaining: 343ms\n813:\tlearn: 0.4042311\ttotal: 1.49s\tremaining: 341ms\n814:\tlearn: 0.4041939\ttotal: 1.5s\tremaining: 340ms\n815:\tlearn: 0.4041628\ttotal: 1.5s\tremaining: 338ms\n816:\tlearn: 0.4041182\ttotal: 1.5s\tremaining: 336ms\n817:\tlearn: 0.4040590\ttotal: 1.5s\tremaining: 334ms\n818:\tlearn: 0.4040450\ttotal: 1.5s\tremaining: 332ms\n819:\tlearn: 0.4040174\ttotal: 1.5s\tremaining: 330ms\n820:\tlearn: 0.4039869\ttotal: 1.51s\tremaining: 329ms\n821:\tlearn: 0.4039290\ttotal: 1.51s\tremaining: 327ms\n822:\tlearn: 0.4039129\ttotal: 1.51s\tremaining: 325ms\n823:\tlearn: 0.4039083\ttotal: 1.51s\tremaining: 323ms\n824:\tlearn: 0.4038492\ttotal: 1.51s\tremaining: 321ms\n825:\tlearn: 0.4038430\ttotal: 1.52s\tremaining: 319ms\n826:\tlearn: 0.4038137\ttotal: 1.52s\tremaining: 318ms\n827:\tlearn: 0.4038000\ttotal: 1.52s\tremaining: 316ms\n828:\tlearn: 0.4037530\ttotal: 1.52s\tremaining: 314ms\n829:\tlearn: 0.4037321\ttotal: 1.52s\tremaining: 312ms\n830:\tlearn: 0.4036963\ttotal: 1.53s\tremaining: 310ms\n831:\tlearn: 0.4036864\ttotal: 1.53s\tremaining: 308ms\n832:\tlearn: 0.4036719\ttotal: 1.53s\tremaining: 307ms\n833:\tlearn: 0.4036157\ttotal: 1.53s\tremaining: 305ms\n834:\tlearn: 0.4035987\ttotal: 1.53s\tremaining: 303ms\n835:\tlearn: 0.4035833\ttotal: 1.54s\tremaining: 301ms\n836:\tlearn: 0.4035811\ttotal: 1.54s\tremaining: 299ms\n837:\tlearn: 0.4035759\ttotal: 1.54s\tremaining: 297ms\n838:\tlearn: 0.4035231\ttotal: 1.54s\tremaining: 296ms\n839:\tlearn: 0.4034785\ttotal: 1.54s\tremaining: 294ms\n840:\tlearn: 0.4034635\ttotal: 1.54s\tremaining: 292ms\n841:\tlearn: 0.4034435\ttotal: 1.55s\tremaining: 290ms\n842:\tlearn: 0.4034265\ttotal: 1.55s\tremaining: 288ms\n843:\tlearn: 0.4033959\ttotal: 1.55s\tremaining: 287ms\n844:\tlearn: 0.4033757\ttotal: 1.55s\tremaining: 285ms\n845:\tlearn: 0.4033723\ttotal: 1.55s\tremaining: 283ms\n846:\tlearn: 0.4033474\ttotal: 1.55s\tremaining: 281ms\n847:\tlearn: 0.4033408\ttotal: 1.56s\tremaining: 279ms\n848:\tlearn: 0.4032997\ttotal: 1.56s\tremaining: 278ms\n849:\tlearn: 0.4032610\ttotal: 1.56s\tremaining: 276ms\n850:\tlearn: 0.4032469\ttotal: 1.56s\tremaining: 274ms\n851:\tlearn: 0.4032301\ttotal: 1.57s\tremaining: 272ms\n852:\tlearn: 0.4032134\ttotal: 1.57s\tremaining: 270ms\n853:\tlearn: 0.4031644\ttotal: 1.57s\tremaining: 269ms\n854:\tlearn: 0.4031410\ttotal: 1.57s\tremaining: 267ms\n855:\tlearn: 0.4031056\ttotal: 1.58s\tremaining: 265ms\n856:\tlearn: 0.4030897\ttotal: 1.58s\tremaining: 263ms\n857:\tlearn: 0.4030679\ttotal: 1.58s\tremaining: 261ms\n858:\tlearn: 0.4030288\ttotal: 1.58s\tremaining: 259ms\n859:\tlearn: 0.4030254\ttotal: 1.58s\tremaining: 258ms\n860:\tlearn: 0.4030110\ttotal: 1.58s\tremaining: 256ms\n861:\tlearn: 0.4029763\ttotal: 1.59s\tremaining: 254ms\n862:\tlearn: 0.4029625\ttotal: 1.59s\tremaining: 252ms\n863:\tlearn: 0.4029387\ttotal: 1.59s\tremaining: 250ms\n864:\tlearn: 0.4029245\ttotal: 1.59s\tremaining: 248ms\n865:\tlearn: 0.4028955\ttotal: 1.59s\tremaining: 247ms\n866:\tlearn: 0.4028816\ttotal: 1.59s\tremaining: 245ms\n867:\tlearn: 0.4028666\ttotal: 1.6s\tremaining: 243ms\n868:\tlearn: 0.4028552\ttotal: 1.6s\tremaining: 241ms\n869:\tlearn: 0.4028435\ttotal: 1.6s\tremaining: 240ms\n870:\tlearn: 0.4028374\ttotal: 1.6s\tremaining: 238ms\n871:\tlearn: 0.4028167\ttotal: 1.61s\tremaining: 236ms\n872:\tlearn: 0.4027764\ttotal: 1.61s\tremaining: 234ms\n873:\tlearn: 0.4027613\ttotal: 1.61s\tremaining: 233ms\n874:\tlearn: 0.4027450\ttotal: 1.61s\tremaining: 231ms\n875:\tlearn: 0.4026978\ttotal: 1.62s\tremaining: 229ms\n876:\tlearn: 0.4026616\ttotal: 1.62s\tremaining: 228ms\n877:\tlearn: 0.4026552\ttotal: 1.63s\tremaining: 226ms\n878:\tlearn: 0.4026408\ttotal: 1.63s\tremaining: 224ms\n879:\tlearn: 0.4026079\ttotal: 1.63s\tremaining: 222ms\n880:\tlearn: 0.4025935\ttotal: 1.63s\tremaining: 220ms\n881:\tlearn: 0.4025566\ttotal: 1.63s\tremaining: 218ms\n882:\tlearn: 0.4025386\ttotal: 1.63s\tremaining: 217ms\n883:\tlearn: 0.4025245\ttotal: 1.64s\tremaining: 215ms\n884:\tlearn: 0.4024978\ttotal: 1.64s\tremaining: 213ms\n885:\tlearn: 0.4024713\ttotal: 1.64s\tremaining: 211ms\n886:\tlearn: 0.4024277\ttotal: 1.65s\tremaining: 210ms\n887:\tlearn: 0.4023964\ttotal: 1.66s\tremaining: 209ms\n888:\tlearn: 0.4023905\ttotal: 1.66s\tremaining: 207ms\n889:\tlearn: 0.4023703\ttotal: 1.66s\tremaining: 205ms\n890:\tlearn: 0.4023469\ttotal: 1.66s\tremaining: 203ms\n891:\tlearn: 0.4023326\ttotal: 1.66s\tremaining: 201ms\n892:\tlearn: 0.4023163\ttotal: 1.67s\tremaining: 200ms\n893:\tlearn: 0.4023012\ttotal: 1.67s\tremaining: 198ms\n894:\tlearn: 0.4022766\ttotal: 1.67s\tremaining: 196ms\n895:\tlearn: 0.4022544\ttotal: 1.67s\tremaining: 194ms\n896:\tlearn: 0.4022421\ttotal: 1.67s\tremaining: 192ms\n897:\tlearn: 0.4022236\ttotal: 1.68s\tremaining: 191ms\n898:\tlearn: 0.4022021\ttotal: 1.68s\tremaining: 189ms\n899:\tlearn: 0.4021803\ttotal: 1.68s\tremaining: 187ms\n900:\tlearn: 0.4021672\ttotal: 1.69s\tremaining: 185ms\n901:\tlearn: 0.4021404\ttotal: 1.69s\tremaining: 183ms\n902:\tlearn: 0.4021398\ttotal: 1.69s\tremaining: 182ms\n903:\tlearn: 0.4021184\ttotal: 1.69s\tremaining: 180ms\n904:\tlearn: 0.4021099\ttotal: 1.7s\tremaining: 178ms\n905:\tlearn: 0.4021027\ttotal: 1.7s\tremaining: 176ms\n906:\tlearn: 0.4020659\ttotal: 1.7s\tremaining: 174ms\n907:\tlearn: 0.4020148\ttotal: 1.7s\tremaining: 172ms\n908:\tlearn: 0.4019880\ttotal: 1.7s\tremaining: 171ms\n909:\tlearn: 0.4019859\ttotal: 1.71s\tremaining: 169ms\n910:\tlearn: 0.4019722\ttotal: 1.71s\tremaining: 167ms\n911:\tlearn: 0.4019559\ttotal: 1.71s\tremaining: 165ms\n912:\tlearn: 0.4019429\ttotal: 1.71s\tremaining: 163ms\n913:\tlearn: 0.4019061\ttotal: 1.72s\tremaining: 162ms\n914:\tlearn: 0.4018793\ttotal: 1.72s\tremaining: 160ms\n915:\tlearn: 0.4018685\ttotal: 1.72s\tremaining: 158ms\n916:\tlearn: 0.4018560\ttotal: 1.72s\tremaining: 156ms\n917:\tlearn: 0.4018301\ttotal: 1.73s\tremaining: 154ms\n918:\tlearn: 0.4018269\ttotal: 1.73s\tremaining: 152ms\n919:\tlearn: 0.4018151\ttotal: 1.73s\tremaining: 150ms\n920:\tlearn: 0.4017761\ttotal: 1.73s\tremaining: 149ms\n921:\tlearn: 0.4017300\ttotal: 1.73s\tremaining: 147ms\n922:\tlearn: 0.4017193\ttotal: 1.73s\tremaining: 145ms\n923:\tlearn: 0.4017069\ttotal: 1.74s\tremaining: 143ms\n924:\tlearn: 0.4016956\ttotal: 1.74s\tremaining: 141ms\n925:\tlearn: 0.4016671\ttotal: 1.74s\tremaining: 139ms\n926:\tlearn: 0.4016559\ttotal: 1.74s\tremaining: 137ms\n927:\tlearn: 0.4016492\ttotal: 1.75s\tremaining: 135ms\n928:\tlearn: 0.4016378\ttotal: 1.75s\tremaining: 134ms\n929:\tlearn: 0.4016273\ttotal: 1.75s\tremaining: 132ms\n930:\tlearn: 0.4016225\ttotal: 1.75s\tremaining: 130ms\n931:\tlearn: 0.4016109\ttotal: 1.75s\tremaining: 128ms\n932:\tlearn: 0.4015869\ttotal: 1.75s\tremaining: 126ms\n933:\tlearn: 0.4015748\ttotal: 1.76s\tremaining: 124ms\n934:\tlearn: 0.4015631\ttotal: 1.76s\tremaining: 122ms\n935:\tlearn: 0.4015354\ttotal: 1.76s\tremaining: 120ms\n936:\tlearn: 0.4015251\ttotal: 1.76s\tremaining: 119ms\n937:\tlearn: 0.4014760\ttotal: 1.76s\tremaining: 117ms\n938:\tlearn: 0.4014449\ttotal: 1.77s\tremaining: 115ms\n939:\tlearn: 0.4014420\ttotal: 1.77s\tremaining: 113ms\n940:\tlearn: 0.4014315\ttotal: 1.77s\tremaining: 111ms\n941:\tlearn: 0.4013877\ttotal: 1.77s\tremaining: 109ms\n942:\tlearn: 0.4013447\ttotal: 1.77s\tremaining: 107ms\n943:\tlearn: 0.4013342\ttotal: 1.77s\tremaining: 105ms\n944:\tlearn: 0.4013136\ttotal: 1.78s\tremaining: 103ms\n945:\tlearn: 0.4013033\ttotal: 1.78s\tremaining: 102ms\n946:\tlearn: 0.4012844\ttotal: 1.78s\tremaining: 99.7ms\n947:\tlearn: 0.4012720\ttotal: 1.78s\tremaining: 97.8ms\n948:\tlearn: 0.4012479\ttotal: 1.78s\tremaining: 96ms\n949:\tlearn: 0.4012137\ttotal: 1.79s\tremaining: 94.1ms\n950:\tlearn: 0.4011808\ttotal: 1.79s\tremaining: 92.2ms\n951:\tlearn: 0.4011513\ttotal: 1.79s\tremaining: 90.4ms\n952:\tlearn: 0.4011180\ttotal: 1.79s\tremaining: 88.5ms\n953:\tlearn: 0.4011079\ttotal: 1.79s\tremaining: 86.6ms\n954:\tlearn: 0.4010893\ttotal: 1.8s\tremaining: 84.7ms\n955:\tlearn: 0.4010686\ttotal: 1.8s\tremaining: 82.8ms\n956:\tlearn: 0.4010432\ttotal: 1.8s\tremaining: 81ms\n957:\tlearn: 0.4010144\ttotal: 1.8s\tremaining: 79ms\n958:\tlearn: 0.4009837\ttotal: 1.8s\tremaining: 77.2ms\n959:\tlearn: 0.4009592\ttotal: 1.81s\tremaining: 75.3ms\n960:\tlearn: 0.4009363\ttotal: 1.81s\tremaining: 73.4ms\n961:\tlearn: 0.4009283\ttotal: 1.81s\tremaining: 71.5ms\n962:\tlearn: 0.4009047\ttotal: 1.81s\tremaining: 69.6ms\n963:\tlearn: 0.4008873\ttotal: 1.81s\tremaining: 67.7ms\n964:\tlearn: 0.4008644\ttotal: 1.81s\tremaining: 65.9ms\n965:\tlearn: 0.4008300\ttotal: 1.82s\tremaining: 64ms\n966:\tlearn: 0.4008193\ttotal: 1.82s\tremaining: 62.1ms\n967:\tlearn: 0.4008007\ttotal: 1.82s\tremaining: 60.2ms\n968:\tlearn: 0.4007910\ttotal: 1.82s\tremaining: 58.3ms\n969:\tlearn: 0.4007808\ttotal: 1.82s\tremaining: 56.5ms\n970:\tlearn: 0.4007717\ttotal: 1.83s\tremaining: 54.6ms\n971:\tlearn: 0.4007532\ttotal: 1.83s\tremaining: 52.7ms\n972:\tlearn: 0.4007428\ttotal: 1.83s\tremaining: 50.8ms\n973:\tlearn: 0.4007303\ttotal: 1.83s\tremaining: 48.9ms\n974:\tlearn: 0.4007200\ttotal: 1.83s\tremaining: 47.1ms\n975:\tlearn: 0.4007099\ttotal: 1.84s\tremaining: 45.2ms\n976:\tlearn: 0.4006780\ttotal: 1.84s\tremaining: 43.3ms\n977:\tlearn: 0.4006590\ttotal: 1.84s\tremaining: 41.4ms\n978:\tlearn: 0.4006496\ttotal: 1.84s\tremaining: 39.5ms\n979:\tlearn: 0.4006397\ttotal: 1.84s\tremaining: 37.6ms\n980:\tlearn: 0.4006202\ttotal: 1.85s\tremaining: 35.8ms\n981:\tlearn: 0.4006103\ttotal: 1.85s\tremaining: 33.9ms\n982:\tlearn: 0.4006024\ttotal: 1.85s\tremaining: 32ms\n983:\tlearn: 0.4005619\ttotal: 1.85s\tremaining: 30.1ms\n984:\tlearn: 0.4005529\ttotal: 1.85s\tremaining: 28.3ms\n985:\tlearn: 0.4005374\ttotal: 1.86s\tremaining: 26.4ms\n986:\tlearn: 0.4005278\ttotal: 1.86s\tremaining: 24.5ms\n987:\tlearn: 0.4005247\ttotal: 1.86s\tremaining: 22.6ms\n988:\tlearn: 0.4005121\ttotal: 1.86s\tremaining: 20.7ms\n989:\tlearn: 0.4004818\ttotal: 1.87s\tremaining: 18.9ms\n990:\tlearn: 0.4004606\ttotal: 1.87s\tremaining: 17ms\n991:\tlearn: 0.4004328\ttotal: 1.87s\tremaining: 15.1ms\n992:\tlearn: 0.4004252\ttotal: 1.87s\tremaining: 13.2ms\n993:\tlearn: 0.4004151\ttotal: 1.87s\tremaining: 11.3ms\n994:\tlearn: 0.4004110\ttotal: 1.88s\tremaining: 9.43ms\n995:\tlearn: 0.4004027\ttotal: 1.88s\tremaining: 7.54ms\n996:\tlearn: 0.4003795\ttotal: 1.88s\tremaining: 5.66ms\n997:\tlearn: 0.4003596\ttotal: 1.88s\tremaining: 3.77ms\n998:\tlearn: 0.4003323\ttotal: 1.88s\tremaining: 1.89ms\n999:\tlearn: 0.4003202\ttotal: 1.89s\tremaining: 0us\nCatboost Score =  [0 1 0 0 1 0 1 0 1 0 0 0 1 0 1 1 0 0 1 1 0 0 1 0 1 0 1 0 0 0 0 0 0 0 0 0 1\n 1 0 0 0 0 0 1 1 0 0 0 1 1 0 0 1 1 0 0 0 0 0 1 0 0 0 1 1 1 1 0 0 1 1 0 1 0\n 1 0 0 1 0 1 0 0 0 0 0 0 1 1 1 0 1 0 1 0 0 0 1 0 1 0 1 0 0 0 1 0 0 0 0 0 0\n 1 1 1 1 0 0 1 0 1 1 0 1 0 0 1 0 1 0 0 0 0 0 0 0 0 0 0 1 0 0 1 0 0 0 0 0 0\n 0 0 1 0 0 1 0 0 1 1 0 1 1 0 1 0 0 1 0 0 1 1 0 0 0 0 0 1 1 0 1 1 0 0 1 0 1\n 0 1 0 0 0 0 0 0 0 1 0 1 1 0 1 1 0 0 1 0 0 1 0 1 0 0 0 0 1 0 0 1 0 1 0 1 0\n 1 0 1 1 0 1 0 0 0 1 0 0 0 0 0 0 1 1 1 1 0 0 0 0 1 0 1 1 1 0 0 0 0 0 0 0 1\n 0 0 0 1 1 0 0 0 0 1 0 0 0 1 1 0 1 0 0 0 0 1 0 1 1 1 0 0 0 0 0 0 1 0 0 0 0\n 1 0 0 0 0 0 0 0 1 1 1 0 0 1 0 0 0 1 1 1 0 0 0 0 0 0 0 0 1 0 1 0 0 0 1 0 0\n 1 0 0 0 0 0 0 0 0 0 1 0 1 0 1 0 1 1 0 0 0 0 0 1 0 0 1 0 1 1 0 1 0 0 1 1 0\n 0 1 0 0 1 1 1 0 0 0 0 0 1 1 0 1 0 0 0 0 0 1 0 0 0 1 0 1 0 0 1 0 1 0 0 0 0\n 0 1 1 1 1 1 0 1 0 0 0]\n"
    }
   ],
   "source": [
    "from catboost import CatBoostClassifier\n",
    "classifier = CatBoostClassifier()\n",
    "classifier.fit(X_train, y_train)\n",
    "print(\"Catboost Score = \", results(classifier))\n",
    "# output = pd.DataFrame({'PassengerId': testing_data.PassengerId, 'Survived': results(classifier)})\n",
    "# output.to_csv('_catboost.csv', index=False)"
   ]
  },
  {
   "cell_type": "markdown",
   "metadata": {},
   "source": [
    "## gridSearch"
   ]
  },
  {
   "cell_type": "code",
   "execution_count": 15,
   "metadata": {},
   "outputs": [
    {
     "output_type": "execute_result",
     "data": {
      "text/plain": "array([0, 1, 0, 0, 1, 0, 1, 0, 1, 0, 0, 0, 1, 0, 1, 1, 0, 0, 1, 1, 0, 0,\n       1, 0, 1, 0, 1, 0, 0, 0, 0, 0, 1, 1, 0, 0, 1, 1, 0, 0, 0, 0, 0, 1,\n       1, 0, 0, 0, 1, 1, 0, 0, 1, 1, 0, 0, 0, 0, 0, 1, 0, 0, 0, 1, 0, 1,\n       1, 0, 0, 1, 1, 0, 1, 0, 1, 0, 0, 1, 0, 1, 0, 0, 0, 0, 0, 0, 1, 1,\n       1, 0, 1, 0, 1, 0, 0, 0, 1, 0, 1, 0, 1, 0, 0, 0, 1, 0, 0, 0, 0, 0,\n       0, 1, 1, 1, 1, 0, 0, 1, 0, 1, 1, 0, 1, 0, 0, 1, 0, 1, 0, 0, 0, 0,\n       0, 0, 0, 0, 0, 0, 1, 0, 0, 1, 0, 0, 0, 0, 0, 0, 0, 0, 1, 0, 0, 1,\n       0, 0, 1, 1, 0, 1, 1, 0, 1, 0, 0, 1, 0, 0, 1, 1, 0, 0, 0, 0, 0, 1,\n       1, 0, 1, 1, 0, 0, 1, 0, 1, 0, 1, 0, 0, 0, 0, 0, 0, 0, 0, 0, 0, 1,\n       0, 1, 1, 0, 0, 1, 0, 0, 1, 0, 1, 0, 0, 0, 0, 1, 0, 0, 1, 0, 1, 0,\n       1, 0, 1, 0, 1, 1, 0, 1, 0, 0, 0, 1, 0, 0, 0, 0, 0, 0, 1, 1, 1, 1,\n       0, 0, 0, 0, 1, 0, 1, 1, 1, 0, 0, 0, 0, 0, 0, 0, 1, 0, 0, 0, 1, 1,\n       0, 0, 0, 0, 1, 0, 0, 0, 1, 1, 0, 1, 0, 0, 0, 0, 1, 0, 1, 1, 1, 0,\n       0, 0, 0, 0, 0, 1, 0, 0, 0, 0, 1, 0, 0, 0, 0, 0, 0, 0, 1, 1, 0, 0,\n       0, 1, 0, 0, 0, 1, 1, 1, 0, 0, 0, 0, 0, 0, 0, 0, 1, 0, 1, 0, 0, 0,\n       1, 0, 0, 1, 0, 0, 0, 0, 0, 0, 0, 0, 0, 1, 0, 1, 0, 1, 0, 1, 1, 0,\n       0, 0, 1, 0, 1, 0, 0, 1, 0, 1, 1, 0, 1, 0, 0, 1, 1, 0, 0, 1, 0, 0,\n       1, 1, 1, 0, 0, 0, 0, 0, 1, 1, 0, 1, 0, 0, 0, 0, 0, 1, 0, 0, 0, 1,\n       0, 1, 0, 0, 1, 0, 1, 0, 0, 0, 0, 0, 1, 1, 1, 1, 1, 0, 1, 0, 0, 0],\n      dtype=int64)"
     },
     "metadata": {},
     "execution_count": 15
    }
   ],
   "source": [
    "from sklearn.svm import SVC\n",
    "classifier = SVC(kernel = 'rbf', random_state = 0)\n",
    "classifier.fit(X_train, y_train.ravel())\n",
    "from sklearn.model_selection import GridSearchCV\n",
    "parameters = [{'C': [0.1, 0.2, 0.3, 0.4, 0.5, 0.6, 0.7, 0.8, 0.9, 1], 'kernel': ['linear']},\n",
    "                {'C': [0.1, 0.2, 0.3, 0.4, 0.5, 0.6, 0.7, 0.8, 0.9, 1], 'kernel': ['rbf'], 'gamma': [0.1, 0.2, 0.3, 0.4, 0.5, 0.6, 0.7, 0.8, 0.9]}]\n",
    "grid_search = GridSearchCV(estimator = classifier,\n",
    "                           param_grid = parameters,\n",
    "                            scoring = 'accuracy',\n",
    "                            cv = 10,\n",
    "                            n_jobs = -1)\n",
    "grid_search.fit(X_train, y_train.ravel())\n",
    "results(grid_search)"
   ]
  },
  {
   "cell_type": "markdown",
   "metadata": {},
   "source": [
    "## ANN"
   ]
  },
  {
   "cell_type": "code",
   "execution_count": 16,
   "metadata": {
    "tags": [
     "outputPrepend"
    ]
   },
   "outputs": [
    {
     "output_type": "stream",
     "name": "stdout",
     "text": "28 [==============================] - 0s 10ms/step - loss: 0.4055 - accuracy: 0.8114\nEpoch 806/1000\n28/28 [==============================] - 0s 9ms/step - loss: 0.4064 - accuracy: 0.8148\nEpoch 807/1000\n28/28 [==============================] - 0s 12ms/step - loss: 0.4081 - accuracy: 0.8081\nEpoch 808/1000\n28/28 [==============================] - 0s 9ms/step - loss: 0.4127 - accuracy: 0.8058\nEpoch 809/1000\n28/28 [==============================] - 0s 8ms/step - loss: 0.4084 - accuracy: 0.8126\nEpoch 810/1000\n28/28 [==============================] - 0s 7ms/step - loss: 0.4071 - accuracy: 0.8126\nEpoch 811/1000\n28/28 [==============================] - 0s 9ms/step - loss: 0.4066 - accuracy: 0.8114\nEpoch 812/1000\n28/28 [==============================] - 0s 10ms/step - loss: 0.4066 - accuracy: 0.8047\nEpoch 813/1000\n28/28 [==============================] - 0s 8ms/step - loss: 0.4065 - accuracy: 0.8182\nEpoch 814/1000\n28/28 [==============================] - 0s 8ms/step - loss: 0.4092 - accuracy: 0.8092\nEpoch 815/1000\n28/28 [==============================] - 0s 8ms/step - loss: 0.4079 - accuracy: 0.8070\nEpoch 816/1000\n28/28 [==============================] - 0s 10ms/step - loss: 0.4086 - accuracy: 0.8103\nEpoch 817/1000\n28/28 [==============================] - 0s 9ms/step - loss: 0.4061 - accuracy: 0.8148\nEpoch 818/1000\n28/28 [==============================] - 0s 7ms/step - loss: 0.4053 - accuracy: 0.8126\nEpoch 819/1000\n28/28 [==============================] - 0s 8ms/step - loss: 0.4103 - accuracy: 0.8182\nEpoch 820/1000\n28/28 [==============================] - 0s 8ms/step - loss: 0.4118 - accuracy: 0.8070\nEpoch 821/1000\n28/28 [==============================] - 0s 11ms/step - loss: 0.4070 - accuracy: 0.8159\nEpoch 822/1000\n28/28 [==============================] - 0s 7ms/step - loss: 0.4089 - accuracy: 0.8126\nEpoch 823/1000\n28/28 [==============================] - 0s 8ms/step - loss: 0.4077 - accuracy: 0.8092\nEpoch 824/1000\n28/28 [==============================] - 0s 9ms/step - loss: 0.4054 - accuracy: 0.8137\nEpoch 825/1000\n28/28 [==============================] - 0s 9ms/step - loss: 0.4073 - accuracy: 0.8070\nEpoch 826/1000\n28/28 [==============================] - 0s 10ms/step - loss: 0.4078 - accuracy: 0.8114\nEpoch 827/1000\n28/28 [==============================] - 0s 11ms/step - loss: 0.4093 - accuracy: 0.8159\nEpoch 828/1000\n28/28 [==============================] - 0s 8ms/step - loss: 0.4097 - accuracy: 0.8092\nEpoch 829/1000\n28/28 [==============================] - 0s 7ms/step - loss: 0.4079 - accuracy: 0.8114\nEpoch 830/1000\n28/28 [==============================] - 0s 9ms/step - loss: 0.4048 - accuracy: 0.8092\nEpoch 831/1000\n28/28 [==============================] - 0s 9ms/step - loss: 0.4054 - accuracy: 0.8137\nEpoch 832/1000\n28/28 [==============================] - 0s 8ms/step - loss: 0.4101 - accuracy: 0.8036\nEpoch 833/1000\n28/28 [==============================] - 0s 8ms/step - loss: 0.4121 - accuracy: 0.8036\nEpoch 834/1000\n28/28 [==============================] - 0s 9ms/step - loss: 0.4041 - accuracy: 0.8193\nEpoch 835/1000\n28/28 [==============================] - 0s 7ms/step - loss: 0.4051 - accuracy: 0.8159\nEpoch 836/1000\n28/28 [==============================] - 0s 8ms/step - loss: 0.4077 - accuracy: 0.8114\nEpoch 837/1000\n28/28 [==============================] - 0s 8ms/step - loss: 0.4039 - accuracy: 0.8182\nEpoch 838/1000\n28/28 [==============================] - 0s 7ms/step - loss: 0.4071 - accuracy: 0.8159\nEpoch 839/1000\n28/28 [==============================] - 0s 9ms/step - loss: 0.4051 - accuracy: 0.8171\nEpoch 840/1000\n28/28 [==============================] - 0s 9ms/step - loss: 0.4085 - accuracy: 0.8103\nEpoch 841/1000\n28/28 [==============================] - 0s 8ms/step - loss: 0.4068 - accuracy: 0.8114\nEpoch 842/1000\n28/28 [==============================] - 0s 11ms/step - loss: 0.4084 - accuracy: 0.8114\nEpoch 843/1000\n28/28 [==============================] - 0s 9ms/step - loss: 0.4053 - accuracy: 0.8092\nEpoch 844/1000\n28/28 [==============================] - 0s 12ms/step - loss: 0.4052 - accuracy: 0.8114\nEpoch 845/1000\n28/28 [==============================] - 0s 11ms/step - loss: 0.4078 - accuracy: 0.8171\nEpoch 846/1000\n28/28 [==============================] - 0s 9ms/step - loss: 0.4065 - accuracy: 0.8081\nEpoch 847/1000\n28/28 [==============================] - 0s 9ms/step - loss: 0.4057 - accuracy: 0.8148\nEpoch 848/1000\n28/28 [==============================] - 0s 9ms/step - loss: 0.4067 - accuracy: 0.8103\nEpoch 849/1000\n28/28 [==============================] - 0s 8ms/step - loss: 0.4069 - accuracy: 0.8148\nEpoch 850/1000\n28/28 [==============================] - 0s 7ms/step - loss: 0.4089 - accuracy: 0.8126\nEpoch 851/1000\n28/28 [==============================] - 0s 7ms/step - loss: 0.4067 - accuracy: 0.8137\nEpoch 852/1000\n28/28 [==============================] - 0s 9ms/step - loss: 0.4062 - accuracy: 0.8148\nEpoch 853/1000\n28/28 [==============================] - 0s 8ms/step - loss: 0.4087 - accuracy: 0.8137\nEpoch 854/1000\n28/28 [==============================] - 0s 9ms/step - loss: 0.4047 - accuracy: 0.8126\nEpoch 855/1000\n28/28 [==============================] - 0s 8ms/step - loss: 0.4040 - accuracy: 0.8114\nEpoch 856/1000\n28/28 [==============================] - 0s 8ms/step - loss: 0.4062 - accuracy: 0.8204\nEpoch 857/1000\n28/28 [==============================] - 0s 11ms/step - loss: 0.4047 - accuracy: 0.8137\nEpoch 858/1000\n28/28 [==============================] - 0s 7ms/step - loss: 0.4062 - accuracy: 0.8047\nEpoch 859/1000\n28/28 [==============================] - 0s 7ms/step - loss: 0.4057 - accuracy: 0.8137\nEpoch 860/1000\n28/28 [==============================] - 0s 9ms/step - loss: 0.4040 - accuracy: 0.8092\nEpoch 861/1000\n28/28 [==============================] - 0s 9ms/step - loss: 0.4076 - accuracy: 0.8114\nEpoch 862/1000\n28/28 [==============================] - 0s 10ms/step - loss: 0.4061 - accuracy: 0.8114\nEpoch 863/1000\n28/28 [==============================] - 0s 11ms/step - loss: 0.4089 - accuracy: 0.8025\nEpoch 864/1000\n28/28 [==============================] - 0s 8ms/step - loss: 0.4126 - accuracy: 0.8092\nEpoch 865/1000\n28/28 [==============================] - 0s 9ms/step - loss: 0.4064 - accuracy: 0.8182\nEpoch 866/1000\n28/28 [==============================] - 0s 8ms/step - loss: 0.4058 - accuracy: 0.8238\nEpoch 867/1000\n28/28 [==============================] - 0s 9ms/step - loss: 0.4055 - accuracy: 0.8137\nEpoch 868/1000\n28/28 [==============================] - 0s 8ms/step - loss: 0.4074 - accuracy: 0.8103\nEpoch 869/1000\n28/28 [==============================] - 0s 8ms/step - loss: 0.4072 - accuracy: 0.8114\nEpoch 870/1000\n28/28 [==============================] - 0s 8ms/step - loss: 0.4053 - accuracy: 0.8092\nEpoch 871/1000\n28/28 [==============================] - 0s 10ms/step - loss: 0.4067 - accuracy: 0.8126\nEpoch 872/1000\n28/28 [==============================] - 0s 8ms/step - loss: 0.4049 - accuracy: 0.8103\nEpoch 873/1000\n28/28 [==============================] - 0s 8ms/step - loss: 0.4050 - accuracy: 0.8215\nEpoch 874/1000\n28/28 [==============================] - 0s 8ms/step - loss: 0.4068 - accuracy: 0.8159\nEpoch 875/1000\n28/28 [==============================] - 0s 8ms/step - loss: 0.4087 - accuracy: 0.8036\nEpoch 876/1000\n28/28 [==============================] - 0s 9ms/step - loss: 0.4051 - accuracy: 0.8114\nEpoch 877/1000\n28/28 [==============================] - 0s 9ms/step - loss: 0.4039 - accuracy: 0.8114\nEpoch 878/1000\n28/28 [==============================] - 0s 8ms/step - loss: 0.4059 - accuracy: 0.8148\nEpoch 879/1000\n28/28 [==============================] - 0s 8ms/step - loss: 0.4128 - accuracy: 0.8025\nEpoch 880/1000\n28/28 [==============================] - 0s 8ms/step - loss: 0.4059 - accuracy: 0.8193\nEpoch 881/1000\n28/28 [==============================] - 0s 10ms/step - loss: 0.4086 - accuracy: 0.8070\nEpoch 882/1000\n28/28 [==============================] - 0s 12ms/step - loss: 0.4052 - accuracy: 0.8148\nEpoch 883/1000\n28/28 [==============================] - 0s 9ms/step - loss: 0.4054 - accuracy: 0.8126\nEpoch 884/1000\n28/28 [==============================] - 0s 9ms/step - loss: 0.4062 - accuracy: 0.8103\nEpoch 885/1000\n28/28 [==============================] - 0s 9ms/step - loss: 0.4075 - accuracy: 0.8126\nEpoch 886/1000\n28/28 [==============================] - 0s 8ms/step - loss: 0.4044 - accuracy: 0.8148\nEpoch 887/1000\n28/28 [==============================] - 0s 8ms/step - loss: 0.4053 - accuracy: 0.8137\nEpoch 888/1000\n28/28 [==============================] - 0s 8ms/step - loss: 0.4048 - accuracy: 0.8148\nEpoch 889/1000\n28/28 [==============================] - 0s 9ms/step - loss: 0.4067 - accuracy: 0.8148\nEpoch 890/1000\n28/28 [==============================] - 0s 8ms/step - loss: 0.4065 - accuracy: 0.8114\nEpoch 891/1000\n28/28 [==============================] - 0s 7ms/step - loss: 0.4088 - accuracy: 0.8070\nEpoch 892/1000\n28/28 [==============================] - 0s 8ms/step - loss: 0.4047 - accuracy: 0.8159\nEpoch 893/1000\n28/28 [==============================] - 0s 7ms/step - loss: 0.4070 - accuracy: 0.8092\nEpoch 894/1000\n28/28 [==============================] - 0s 9ms/step - loss: 0.4058 - accuracy: 0.8204\nEpoch 895/1000\n28/28 [==============================] - 0s 8ms/step - loss: 0.4061 - accuracy: 0.8137\nEpoch 896/1000\n28/28 [==============================] - 0s 9ms/step - loss: 0.4046 - accuracy: 0.8092\nEpoch 897/1000\n28/28 [==============================] - 0s 10ms/step - loss: 0.4055 - accuracy: 0.8025\nEpoch 898/1000\n28/28 [==============================] - 0s 9ms/step - loss: 0.4045 - accuracy: 0.8137\nEpoch 899/1000\n28/28 [==============================] - 0s 8ms/step - loss: 0.4043 - accuracy: 0.8126\nEpoch 900/1000\n28/28 [==============================] - 0s 8ms/step - loss: 0.4048 - accuracy: 0.8148\nEpoch 901/1000\n28/28 [==============================] - 0s 10ms/step - loss: 0.4062 - accuracy: 0.8137\nEpoch 902/1000\n28/28 [==============================] - 0s 9ms/step - loss: 0.4054 - accuracy: 0.8081\nEpoch 903/1000\n28/28 [==============================] - 0s 11ms/step - loss: 0.4085 - accuracy: 0.8070\nEpoch 904/1000\n28/28 [==============================] - 0s 10ms/step - loss: 0.4055 - accuracy: 0.8137\nEpoch 905/1000\n28/28 [==============================] - 0s 8ms/step - loss: 0.4077 - accuracy: 0.8092\nEpoch 906/1000\n28/28 [==============================] - 0s 8ms/step - loss: 0.4053 - accuracy: 0.8182\nEpoch 907/1000\n28/28 [==============================] - 0s 8ms/step - loss: 0.4033 - accuracy: 0.8137\nEpoch 908/1000\n28/28 [==============================] - 0s 8ms/step - loss: 0.4043 - accuracy: 0.8148\nEpoch 909/1000\n28/28 [==============================] - 0s 9ms/step - loss: 0.4042 - accuracy: 0.8159\nEpoch 910/1000\n28/28 [==============================] - 0s 8ms/step - loss: 0.4035 - accuracy: 0.8159\nEpoch 911/1000\n28/28 [==============================] - 0s 8ms/step - loss: 0.4072 - accuracy: 0.8137\nEpoch 912/1000\n28/28 [==============================] - 0s 8ms/step - loss: 0.4083 - accuracy: 0.8092\nEpoch 913/1000\n28/28 [==============================] - 0s 9ms/step - loss: 0.4048 - accuracy: 0.8114\nEpoch 914/1000\n28/28 [==============================] - 0s 9ms/step - loss: 0.4048 - accuracy: 0.8126\nEpoch 915/1000\n28/28 [==============================] - 0s 8ms/step - loss: 0.4052 - accuracy: 0.8148\nEpoch 916/1000\n28/28 [==============================] - 0s 9ms/step - loss: 0.4057 - accuracy: 0.8137\nEpoch 917/1000\n28/28 [==============================] - 0s 9ms/step - loss: 0.4056 - accuracy: 0.8126\nEpoch 918/1000\n28/28 [==============================] - 0s 8ms/step - loss: 0.4041 - accuracy: 0.8159\nEpoch 919/1000\n28/28 [==============================] - 0s 8ms/step - loss: 0.4093 - accuracy: 0.8036\nEpoch 920/1000\n28/28 [==============================] - 0s 9ms/step - loss: 0.4098 - accuracy: 0.8081\nEpoch 921/1000\n28/28 [==============================] - 0s 9ms/step - loss: 0.4071 - accuracy: 0.8103\nEpoch 922/1000\n28/28 [==============================] - 0s 11ms/step - loss: 0.4059 - accuracy: 0.8148\nEpoch 923/1000\n28/28 [==============================] - 0s 9ms/step - loss: 0.4056 - accuracy: 0.8092\nEpoch 924/1000\n28/28 [==============================] - 0s 8ms/step - loss: 0.4053 - accuracy: 0.8126\nEpoch 925/1000\n28/28 [==============================] - 0s 8ms/step - loss: 0.4055 - accuracy: 0.8103\nEpoch 926/1000\n28/28 [==============================] - 0s 9ms/step - loss: 0.4052 - accuracy: 0.8103\nEpoch 927/1000\n28/28 [==============================] - 0s 7ms/step - loss: 0.4051 - accuracy: 0.8171\nEpoch 928/1000\n28/28 [==============================] - 0s 8ms/step - loss: 0.4049 - accuracy: 0.8114\nEpoch 929/1000\n28/28 [==============================] - 0s 8ms/step - loss: 0.4066 - accuracy: 0.8081\nEpoch 930/1000\n28/28 [==============================] - 0s 8ms/step - loss: 0.4040 - accuracy: 0.8126\nEpoch 931/1000\n28/28 [==============================] - 0s 9ms/step - loss: 0.4044 - accuracy: 0.8092\nEpoch 932/1000\n28/28 [==============================] - 0s 9ms/step - loss: 0.4044 - accuracy: 0.8148\nEpoch 933/1000\n28/28 [==============================] - 0s 7ms/step - loss: 0.4045 - accuracy: 0.8092\nEpoch 934/1000\n28/28 [==============================] - 0s 8ms/step - loss: 0.4051 - accuracy: 0.8171\nEpoch 935/1000\n28/28 [==============================] - 0s 8ms/step - loss: 0.4042 - accuracy: 0.8070\nEpoch 936/1000\n28/28 [==============================] - 0s 9ms/step - loss: 0.4048 - accuracy: 0.8148\nEpoch 937/1000\n28/28 [==============================] - 0s 7ms/step - loss: 0.4056 - accuracy: 0.8103\nEpoch 938/1000\n28/28 [==============================] - 0s 7ms/step - loss: 0.4057 - accuracy: 0.8137\nEpoch 939/1000\n28/28 [==============================] - 0s 8ms/step - loss: 0.4056 - accuracy: 0.8114\nEpoch 940/1000\n28/28 [==============================] - 0s 8ms/step - loss: 0.4065 - accuracy: 0.8070\nEpoch 941/1000\n28/28 [==============================] - 0s 9ms/step - loss: 0.4081 - accuracy: 0.8058\nEpoch 942/1000\n28/28 [==============================] - 0s 8ms/step - loss: 0.4082 - accuracy: 0.8114\nEpoch 943/1000\n28/28 [==============================] - 0s 9ms/step - loss: 0.4026 - accuracy: 0.8137\nEpoch 944/1000\n28/28 [==============================] - 0s 8ms/step - loss: 0.4061 - accuracy: 0.8182\nEpoch 945/1000\n28/28 [==============================] - 0s 9ms/step - loss: 0.4063 - accuracy: 0.7957\nEpoch 946/1000\n28/28 [==============================] - 0s 7ms/step - loss: 0.4050 - accuracy: 0.8159\nEpoch 947/1000\n28/28 [==============================] - 0s 7ms/step - loss: 0.4067 - accuracy: 0.8081\nEpoch 948/1000\n28/28 [==============================] - 0s 8ms/step - loss: 0.4087 - accuracy: 0.8171\nEpoch 949/1000\n28/28 [==============================] - 0s 13ms/step - loss: 0.4054 - accuracy: 0.8036\nEpoch 950/1000\n28/28 [==============================] - 0s 8ms/step - loss: 0.4036 - accuracy: 0.8103\nEpoch 951/1000\n28/28 [==============================] - 0s 8ms/step - loss: 0.4067 - accuracy: 0.8148\nEpoch 952/1000\n28/28 [==============================] - 0s 7ms/step - loss: 0.4037 - accuracy: 0.8204\nEpoch 953/1000\n28/28 [==============================] - 0s 8ms/step - loss: 0.4056 - accuracy: 0.8114\nEpoch 954/1000\n28/28 [==============================] - 0s 8ms/step - loss: 0.4033 - accuracy: 0.8193\nEpoch 955/1000\n28/28 [==============================] - 0s 7ms/step - loss: 0.4041 - accuracy: 0.8148\nEpoch 956/1000\n28/28 [==============================] - 0s 8ms/step - loss: 0.4047 - accuracy: 0.8126\nEpoch 957/1000\n28/28 [==============================] - 0s 8ms/step - loss: 0.4054 - accuracy: 0.8058\nEpoch 958/1000\n28/28 [==============================] - 0s 8ms/step - loss: 0.4058 - accuracy: 0.8081\nEpoch 959/1000\n28/28 [==============================] - 0s 9ms/step - loss: 0.4036 - accuracy: 0.8114\nEpoch 960/1000\n28/28 [==============================] - 0s 7ms/step - loss: 0.4023 - accuracy: 0.8193\nEpoch 961/1000\n28/28 [==============================] - 0s 11ms/step - loss: 0.4069 - accuracy: 0.8103\nEpoch 962/1000\n28/28 [==============================] - 0s 8ms/step - loss: 0.4071 - accuracy: 0.8070\nEpoch 963/1000\n28/28 [==============================] - 0s 9ms/step - loss: 0.4053 - accuracy: 0.8114\nEpoch 964/1000\n28/28 [==============================] - 0s 9ms/step - loss: 0.4063 - accuracy: 0.8103\nEpoch 965/1000\n28/28 [==============================] - 0s 7ms/step - loss: 0.4083 - accuracy: 0.8126\nEpoch 966/1000\n28/28 [==============================] - 0s 8ms/step - loss: 0.4049 - accuracy: 0.8159\nEpoch 967/1000\n28/28 [==============================] - 0s 8ms/step - loss: 0.4059 - accuracy: 0.8092\nEpoch 968/1000\n28/28 [==============================] - 0s 9ms/step - loss: 0.4051 - accuracy: 0.8148\nEpoch 969/1000\n28/28 [==============================] - 0s 8ms/step - loss: 0.4053 - accuracy: 0.8193\nEpoch 970/1000\n28/28 [==============================] - 0s 8ms/step - loss: 0.4053 - accuracy: 0.8103\nEpoch 971/1000\n28/28 [==============================] - 0s 8ms/step - loss: 0.4049 - accuracy: 0.8103\nEpoch 972/1000\n28/28 [==============================] - 0s 8ms/step - loss: 0.4018 - accuracy: 0.8171\nEpoch 973/1000\n28/28 [==============================] - 0s 8ms/step - loss: 0.4047 - accuracy: 0.8171\nEpoch 974/1000\n28/28 [==============================] - 0s 8ms/step - loss: 0.4025 - accuracy: 0.8126\nEpoch 975/1000\n28/28 [==============================] - 0s 7ms/step - loss: 0.4030 - accuracy: 0.8182\nEpoch 976/1000\n28/28 [==============================] - 0s 7ms/step - loss: 0.4065 - accuracy: 0.8204\nEpoch 977/1000\n28/28 [==============================] - 0s 7ms/step - loss: 0.4033 - accuracy: 0.8171\nEpoch 978/1000\n28/28 [==============================] - 0s 11ms/step - loss: 0.4018 - accuracy: 0.8159\nEpoch 979/1000\n28/28 [==============================] - 0s 8ms/step - loss: 0.4038 - accuracy: 0.8171\nEpoch 980/1000\n28/28 [==============================] - 0s 7ms/step - loss: 0.4054 - accuracy: 0.8182\nEpoch 981/1000\n28/28 [==============================] - 0s 10ms/step - loss: 0.4042 - accuracy: 0.8137\nEpoch 982/1000\n28/28 [==============================] - 0s 8ms/step - loss: 0.4043 - accuracy: 0.8126\nEpoch 983/1000\n28/28 [==============================] - 0s 9ms/step - loss: 0.4021 - accuracy: 0.8171\nEpoch 984/1000\n28/28 [==============================] - 0s 9ms/step - loss: 0.4071 - accuracy: 0.8193\nEpoch 985/1000\n28/28 [==============================] - 0s 7ms/step - loss: 0.4064 - accuracy: 0.8148\nEpoch 986/1000\n28/28 [==============================] - 0s 8ms/step - loss: 0.4062 - accuracy: 0.8137\nEpoch 987/1000\n28/28 [==============================] - 0s 9ms/step - loss: 0.4062 - accuracy: 0.8081\nEpoch 988/1000\n28/28 [==============================] - 0s 8ms/step - loss: 0.4044 - accuracy: 0.8137\nEpoch 989/1000\n28/28 [==============================] - 0s 7ms/step - loss: 0.4047 - accuracy: 0.8137\nEpoch 990/1000\n28/28 [==============================] - 0s 8ms/step - loss: 0.4067 - accuracy: 0.8148\nEpoch 991/1000\n28/28 [==============================] - 0s 7ms/step - loss: 0.4033 - accuracy: 0.8126\nEpoch 992/1000\n28/28 [==============================] - 0s 9ms/step - loss: 0.4035 - accuracy: 0.8182\nEpoch 993/1000\n28/28 [==============================] - 0s 8ms/step - loss: 0.4078 - accuracy: 0.8025\nEpoch 994/1000\n28/28 [==============================] - 0s 7ms/step - loss: 0.4070 - accuracy: 0.8047\nEpoch 995/1000\n28/28 [==============================] - 0s 8ms/step - loss: 0.4052 - accuracy: 0.8058\nEpoch 996/1000\n28/28 [==============================] - 0s 8ms/step - loss: 0.4038 - accuracy: 0.8103\nEpoch 997/1000\n28/28 [==============================] - 0s 8ms/step - loss: 0.4049 - accuracy: 0.8103\nEpoch 998/1000\n28/28 [==============================] - 0s 7ms/step - loss: 0.4029 - accuracy: 0.8182\nEpoch 999/1000\n28/28 [==============================] - 0s 7ms/step - loss: 0.4055 - accuracy: 0.8159\nEpoch 1000/1000\n28/28 [==============================] - 0s 8ms/step - loss: 0.4030 - accuracy: 0.8182\n"
    },
    {
     "output_type": "error",
     "ename": "IndexError",
     "evalue": "index 0 is out of bounds for axis 0 with size 0",
     "traceback": [
      "\u001b[1;31m---------------------------------------------------------------------------\u001b[0m",
      "\u001b[1;31mIndexError\u001b[0m                                Traceback (most recent call last)",
      "\u001b[1;32m<ipython-input-16-804cbfd5213f>\u001b[0m in \u001b[0;36m<module>\u001b[1;34m\u001b[0m\n\u001b[0;32m     24\u001b[0m \u001b[1;33m\u001b[0m\u001b[0m\n\u001b[0;32m     25\u001b[0m \u001b[1;32mfor\u001b[0m \u001b[0mi\u001b[0m \u001b[1;32min\u001b[0m \u001b[0menumerate\u001b[0m\u001b[1;33m(\u001b[0m\u001b[0mY_pred\u001b[0m\u001b[1;33m)\u001b[0m\u001b[1;33m:\u001b[0m\u001b[1;33m\u001b[0m\u001b[1;33m\u001b[0m\u001b[0m\n\u001b[1;32m---> 26\u001b[1;33m     \u001b[1;32mif\u001b[0m \u001b[0mY_pred\u001b[0m\u001b[1;33m[\u001b[0m\u001b[0mi\u001b[0m\u001b[1;33m]\u001b[0m\u001b[1;33m[\u001b[0m\u001b[1;36m0\u001b[0m\u001b[1;33m]\u001b[0m \u001b[1;32mis\u001b[0m \u001b[1;32mTrue\u001b[0m \u001b[1;33m:\u001b[0m\u001b[1;33m\u001b[0m\u001b[1;33m\u001b[0m\u001b[0m\n\u001b[0m\u001b[0;32m     27\u001b[0m         \u001b[0mresult\u001b[0m\u001b[1;33m.\u001b[0m\u001b[0mappend\u001b[0m\u001b[1;33m(\u001b[0m\u001b[1;36m1\u001b[0m\u001b[1;33m)\u001b[0m\u001b[1;33m\u001b[0m\u001b[1;33m\u001b[0m\u001b[0m\n\u001b[0;32m     28\u001b[0m     \u001b[1;32melse\u001b[0m \u001b[1;33m:\u001b[0m\u001b[1;33m\u001b[0m\u001b[1;33m\u001b[0m\u001b[0m\n",
      "\u001b[1;31mIndexError\u001b[0m: index 0 is out of bounds for axis 0 with size 0"
     ]
    }
   ],
   "source": [
    "#removed model for ann1.csv as accuracy was lower\n",
    "#These model is of ann2.csv\n",
    "import tensorflow as tf\n",
    "ann = tf.keras.models.Sequential()\n",
    "\n",
    "# Adding the input layer and the first hidden layer\n",
    "ann.add(tf.keras.layers.Dense(units=8, input_shape=(5,), activation='relu'))\n",
    "# Adding the second hidden layer\n",
    "ann.add(tf.keras.layers.Dense(units=15, activation='relu'))\n",
    "ann.add(tf.keras.layers.Dense(units=8, activation='relu'))\n",
    "ann.add(tf.keras.layers.Dense(units=10, activation='relu'))\n",
    "ann.add(tf.keras.layers.Dense(units=6, activation='relu'))\n",
    "# Adding the output layer\n",
    "ann.add(tf.keras.layers.Dense(units=1, activation='sigmoid'))\n",
    "# Part 3 - Training the ANN\n",
    "# Compiling the ANN\n",
    "ann.compile(optimizer = 'adam', loss = 'binary_crossentropy', metrics = ['accuracy'])\n",
    "# Training the ANN on the Training set\n",
    "ann.fit(X_train, y_train, batch_size = 32, epochs = 1000)\n",
    "    \n",
    "result = []\n",
    "Y_pred = ann.predict(np.asarray(X_test).astype(np.float32))\n",
    "Y_pred = (Y_pred>0.51)\n",
    "\n",
    "for i in enumerate(Y_pred):\n",
    "    if Y_pred[i][0] is True :\n",
    "        result.append(1)\n",
    "    else :\n",
    "        result.append(0)\n",
    "    \n",
    "# y_pred = np.empty_like(predx)\n",
    "# predictions = classifier.predict(X_test)\n",
    "# for i in predictions:\n",
    "    # if i[0] >= 0.5:\n",
    "        # np.append(y_pred, [1])\n",
    "    # elif i[0] < 0.5:\n",
    "        # np.append(y_pred, [0])\n",
    "print(result)"
   ]
  },
  {
   "cell_type": "code",
   "execution_count": 18,
   "metadata": {},
   "outputs": [
    {
     "output_type": "execute_result",
     "data": {
      "text/plain": "array([[False],\n       [ True],\n       [False],\n       [False],\n       [ True],\n       [False],\n       [ True],\n       [ True],\n       [ True],\n       [False],\n       [False],\n       [False],\n       [ True],\n       [False],\n       [ True],\n       [ True],\n       [False],\n       [False],\n       [ True],\n       [ True],\n       [False],\n       [ True],\n       [ True],\n       [False],\n       [ True],\n       [False],\n       [ True],\n       [False],\n       [False],\n       [False],\n       [False],\n       [False],\n       [ True],\n       [ True],\n       [False],\n       [False],\n       [ True],\n       [ True],\n       [False],\n       [False],\n       [ True],\n       [False],\n       [False],\n       [ True],\n       [ True],\n       [False],\n       [False],\n       [False],\n       [ True],\n       [ True],\n       [False],\n       [False],\n       [ True],\n       [ True],\n       [False],\n       [False],\n       [False],\n       [False],\n       [False],\n       [ True],\n       [False],\n       [False],\n       [False],\n       [ True],\n       [False],\n       [ True],\n       [ True],\n       [False],\n       [False],\n       [ True],\n       [ True],\n       [False],\n       [ True],\n       [False],\n       [ True],\n       [False],\n       [False],\n       [ True],\n       [False],\n       [ True],\n       [False],\n       [False],\n       [False],\n       [False],\n       [False],\n       [False],\n       [ True],\n       [ True],\n       [ True],\n       [ True],\n       [ True],\n       [False],\n       [ True],\n       [False],\n       [False],\n       [False],\n       [ True],\n       [False],\n       [ True],\n       [False],\n       [ True],\n       [False],\n       [False],\n       [False],\n       [ True],\n       [False],\n       [False],\n       [False],\n       [False],\n       [False],\n       [False],\n       [ True],\n       [ True],\n       [ True],\n       [ True],\n       [False],\n       [False],\n       [ True],\n       [False],\n       [ True],\n       [ True],\n       [False],\n       [ True],\n       [False],\n       [False],\n       [ True],\n       [False],\n       [ True],\n       [False],\n       [False],\n       [False],\n       [False],\n       [False],\n       [False],\n       [False],\n       [False],\n       [False],\n       [False],\n       [ True],\n       [False],\n       [False],\n       [ True],\n       [ True],\n       [False],\n       [False],\n       [False],\n       [False],\n       [False],\n       [False],\n       [ True],\n       [ True],\n       [False],\n       [False],\n       [ True],\n       [False],\n       [False],\n       [ True],\n       [ True],\n       [False],\n       [ True],\n       [ True],\n       [False],\n       [ True],\n       [False],\n       [False],\n       [ True],\n       [False],\n       [False],\n       [ True],\n       [ True],\n       [False],\n       [False],\n       [False],\n       [False],\n       [False],\n       [ True],\n       [ True],\n       [False],\n       [ True],\n       [ True],\n       [False],\n       [False],\n       [ True],\n       [False],\n       [ True],\n       [False],\n       [ True],\n       [False],\n       [False],\n       [False],\n       [False],\n       [False],\n       [False],\n       [False],\n       [ True],\n       [False],\n       [ True],\n       [ True],\n       [False],\n       [ True],\n       [ True],\n       [False],\n       [False],\n       [ True],\n       [False],\n       [False],\n       [ True],\n       [False],\n       [ True],\n       [False],\n       [False],\n       [False],\n       [False],\n       [ True],\n       [False],\n       [False],\n       [ True],\n       [False],\n       [ True],\n       [False],\n       [ True],\n       [False],\n       [ True],\n       [False],\n       [ True],\n       [ True],\n       [False],\n       [ True],\n       [False],\n       [False],\n       [False],\n       [ True],\n       [False],\n       [False],\n       [False],\n       [False],\n       [False],\n       [False],\n       [ True],\n       [ True],\n       [ True],\n       [ True],\n       [False],\n       [False],\n       [False],\n       [False],\n       [ True],\n       [ True],\n       [ True],\n       [ True],\n       [ True],\n       [False],\n       [False],\n       [False],\n       [False],\n       [False],\n       [False],\n       [False],\n       [ True],\n       [False],\n       [False],\n       [False],\n       [ True],\n       [ True],\n       [False],\n       [False],\n       [False],\n       [False],\n       [ True],\n       [False],\n       [False],\n       [False],\n       [ True],\n       [ True],\n       [False],\n       [ True],\n       [False],\n       [False],\n       [False],\n       [False],\n       [ True],\n       [False],\n       [ True],\n       [ True],\n       [ True],\n       [False],\n       [False],\n       [False],\n       [False],\n       [False],\n       [False],\n       [ True],\n       [False],\n       [False],\n       [False],\n       [False],\n       [ True],\n       [False],\n       [False],\n       [False],\n       [False],\n       [False],\n       [False],\n       [False],\n       [ True],\n       [ True],\n       [ True],\n       [ True],\n       [False],\n       [ True],\n       [False],\n       [False],\n       [False],\n       [ True],\n       [ True],\n       [ True],\n       [False],\n       [False],\n       [False],\n       [False],\n       [False],\n       [False],\n       [False],\n       [False],\n       [ True],\n       [False],\n       [ True],\n       [False],\n       [False],\n       [False],\n       [ True],\n       [False],\n       [False],\n       [ True],\n       [False],\n       [False],\n       [False],\n       [False],\n       [False],\n       [False],\n       [False],\n       [False],\n       [False],\n       [ True],\n       [False],\n       [ True],\n       [False],\n       [ True],\n       [False],\n       [ True],\n       [ True],\n       [False],\n       [False],\n       [False],\n       [ True],\n       [False],\n       [ True],\n       [False],\n       [False],\n       [ True],\n       [False],\n       [ True],\n       [ True],\n       [False],\n       [ True],\n       [False],\n       [False],\n       [ True],\n       [ True],\n       [False],\n       [False],\n       [ True],\n       [False],\n       [False],\n       [ True],\n       [ True],\n       [ True],\n       [False],\n       [False],\n       [False],\n       [False],\n       [False],\n       [ True],\n       [ True],\n       [False],\n       [ True],\n       [False],\n       [False],\n       [False],\n       [False],\n       [False],\n       [ True],\n       [False],\n       [False],\n       [False],\n       [ True],\n       [False],\n       [ True],\n       [False],\n       [False],\n       [ True],\n       [False],\n       [ True],\n       [False],\n       [False],\n       [False],\n       [False],\n       [False],\n       [ True],\n       [ True],\n       [ True],\n       [ True],\n       [ True],\n       [False],\n       [ True],\n       [False],\n       [False],\n       [False]])"
     },
     "metadata": {},
     "execution_count": 18
    }
   ],
   "source": [
    "Y_pred"
   ]
  },
  {
   "cell_type": "code",
   "execution_count": 17,
   "metadata": {},
   "outputs": [
    {
     "output_type": "error",
     "ename": "ValueError",
     "evalue": "The first argument to `Layer.call` must always be passed.",
     "traceback": [
      "\u001b[1;31m---------------------------------------------------------------------------\u001b[0m",
      "\u001b[1;31mValueError\u001b[0m                                Traceback (most recent call last)",
      "\u001b[1;32m<ipython-input-17-4d0e1ca57a36>\u001b[0m in \u001b[0;36m<module>\u001b[1;34m\u001b[0m\n\u001b[1;32m----> 1\u001b[1;33m \u001b[0mpred\u001b[0m \u001b[1;33m=\u001b[0m \u001b[0mann\u001b[0m\u001b[1;33m(\u001b[0m\u001b[1;33m)\u001b[0m\u001b[1;33m\u001b[0m\u001b[1;33m\u001b[0m\u001b[0m\n\u001b[0m\u001b[0;32m      2\u001b[0m \u001b[0mprint\u001b[0m\u001b[1;33m(\u001b[0m\u001b[0mpred\u001b[0m\u001b[1;33m)\u001b[0m\u001b[1;33m\u001b[0m\u001b[1;33m\u001b[0m\u001b[0m\n\u001b[0;32m      3\u001b[0m \u001b[1;33m\u001b[0m\u001b[0m\n\u001b[0;32m      4\u001b[0m \u001b[0mPassengerId\u001b[0m \u001b[1;33m=\u001b[0m \u001b[0mtesting_data\u001b[0m\u001b[1;33m[\u001b[0m\u001b[1;34m\"PassengerId\"\u001b[0m\u001b[1;33m]\u001b[0m \u001b[1;31m# PassengerId,Survived\u001b[0m\u001b[1;33m\u001b[0m\u001b[1;33m\u001b[0m\u001b[0m\n\u001b[0;32m      5\u001b[0m \u001b[0mSurvivedResult\u001b[0m \u001b[1;33m=\u001b[0m \u001b[0mpd\u001b[0m\u001b[1;33m.\u001b[0m\u001b[0mDataFrame\u001b[0m\u001b[1;33m(\u001b[0m\u001b[1;33m{\u001b[0m\u001b[1;34m'Survived'\u001b[0m\u001b[1;33m:\u001b[0m \u001b[0mpred\u001b[0m\u001b[1;33m}\u001b[0m\u001b[1;33m)\u001b[0m\u001b[1;33m\u001b[0m\u001b[1;33m\u001b[0m\u001b[0m\n",
      "\u001b[1;32mf:\\MLudemy\\MLAZ\\.env\\lib\\site-packages\\tensorflow\\python\\keras\\engine\\base_layer.py\u001b[0m in \u001b[0;36m__call__\u001b[1;34m(self, *args, **kwargs)\u001b[0m\n\u001b[0;32m    798\u001b[0m     \u001b[1;32melse\u001b[0m\u001b[1;33m:\u001b[0m\u001b[1;33m\u001b[0m\u001b[1;33m\u001b[0m\u001b[0m\n\u001b[0;32m    799\u001b[0m       raise ValueError(\n\u001b[1;32m--> 800\u001b[1;33m           'The first argument to `Layer.call` must always be passed.')\n\u001b[0m\u001b[0;32m    801\u001b[0m \u001b[1;33m\u001b[0m\u001b[0m\n\u001b[0;32m    802\u001b[0m     \u001b[0mcall_context\u001b[0m \u001b[1;33m=\u001b[0m \u001b[0mbase_layer_utils\u001b[0m\u001b[1;33m.\u001b[0m\u001b[0mcall_context\u001b[0m\u001b[1;33m(\u001b[0m\u001b[1;33m)\u001b[0m\u001b[1;33m\u001b[0m\u001b[1;33m\u001b[0m\u001b[0m\n",
      "\u001b[1;31mValueError\u001b[0m: The first argument to `Layer.call` must always be passed."
     ]
    }
   ],
   "source": [
    "print(pred)\n",
    "\n",
    "PassengerId = testing_data[\"PassengerId\"] # PassengerId,Survived\n",
    "SurvivedResult = pd.DataFrame({'Survived': pred})\n",
    "results = pd.concat([PassengerId,SurvivedResult],axis=1)\n",
    "print(results)\n",
    "# results.to_csv(\"_ann.csv\",sep = ',',index=False)"
   ]
  }
 ],
 "metadata": {
  "language_info": {
   "codemirror_mode": {
    "name": "ipython",
    "version": 3
   },
   "file_extension": ".py",
   "mimetype": "text/x-python",
   "name": "python",
   "nbconvert_exporter": "python",
   "pygments_lexer": "ipython3",
   "version": "3.6.8-final"
  },
  "orig_nbformat": 2,
  "kernelspec": {
   "name": "python36864bitenvvenve4cc3e5879a24aa8b90760cb1535c75c",
   "display_name": "Python 3.6.8 64-bit ('.env': venv)"
  }
 },
 "nbformat": 4,
 "nbformat_minor": 2
}